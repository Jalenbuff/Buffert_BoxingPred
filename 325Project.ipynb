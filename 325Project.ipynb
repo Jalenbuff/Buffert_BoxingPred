{
 "cells": [
  {
   "cell_type": "markdown",
   "id": "2a7e93c8",
   "metadata": {},
   "source": [
    "Import the necessary packages "
   ]
  },
  {
   "cell_type": "code",
   "execution_count": 1,
   "id": "e318ab28",
   "metadata": {},
   "outputs": [],
   "source": [
    "import pandas as pd \n",
    "import numpy as np \n",
    "import os\n",
    "import plotly.express as px\n",
    "import plotly.graph_objects as go"
   ]
  },
  {
   "cell_type": "markdown",
   "id": "e856ef02",
   "metadata": {},
   "source": [
    "Import csv containing boxing data that was cleaned on python and excel"
   ]
  },
  {
   "cell_type": "code",
   "execution_count": 2,
   "id": "4f846919",
   "metadata": {},
   "outputs": [
    {
     "data": {
      "application/vnd.microsoft.datawrangler.viewer.v0+json": {
       "columns": [
        {
         "name": "index",
         "rawType": "int64",
         "type": "integer"
        },
        {
         "name": "Rank",
         "rawType": "int64",
         "type": "integer"
        },
        {
         "name": "Name",
         "rawType": "object",
         "type": "string"
        },
        {
         "name": "Division",
         "rawType": "object",
         "type": "string"
        },
        {
         "name": "Beginning Year",
         "rawType": "int64",
         "type": "integer"
        },
        {
         "name": "Longevity",
         "rawType": "int64",
         "type": "integer"
        },
        {
         "name": "Origin",
         "rawType": "object",
         "type": "string"
        },
        {
         "name": "Wins",
         "rawType": "int64",
         "type": "integer"
        },
        {
         "name": "Losses",
         "rawType": "int64",
         "type": "integer"
        },
        {
         "name": "Draws",
         "rawType": "int64",
         "type": "integer"
        },
        {
         "name": "Birth Year",
         "rawType": "int64",
         "type": "integer"
        },
        {
         "name": "Starting Age",
         "rawType": "int64",
         "type": "integer"
        },
        {
         "name": "Total Bouts",
         "rawType": "int64",
         "type": "integer"
        },
        {
         "name": "Win %",
         "rawType": "float64",
         "type": "float"
        }
       ],
       "conversionMethod": "pd.DataFrame",
       "ref": "497f3c2e-efb1-4174-bd2f-d0df01768478",
       "rows": [
        [
         "0",
         "1",
         "Ray Robinson",
         "middle",
         "1940",
         "25",
         "Harlem, New York, USA",
         "174",
         "19",
         "6",
         "1921",
         "19",
         "199",
         "0.874371859"
        ],
        [
         "1",
         "2",
         "Jimmy McLarnin",
         "welter",
         "1923",
         "13",
         "Glendale, California, USA",
         "55",
         "11",
         "3",
         "1907",
         "16",
         "69",
         "0.797101449"
        ],
        [
         "2",
         "3",
         "Floyd Mayweather Jr",
         "welter",
         "1996",
         "21",
         "Las Vegas, Nevada, USA",
         "50",
         "0",
         "0",
         "1977",
         "19",
         "50",
         "1.0"
        ],
        [
         "3",
         "4",
         "Harry Greb",
         "middle",
         "1913",
         "13",
         "Pittsburgh, Pennsylvania, USA",
         "265",
         "19",
         "17",
         "1894",
         "19",
         "301",
         "0.880398671"
        ],
        [
         "4",
         "5",
         "Carlos Monzon",
         "middle",
         "1963",
         "14",
         "Santa Fe, Santa Fe, Argentina",
         "87",
         "3",
         "9",
         "1942",
         "21",
         "99",
         "0.878787879"
        ],
        [
         "5",
         "6",
         "Henry Armstrong",
         "welter",
         "1931",
         "14",
         "Los Angeles, California, USA",
         "149",
         "21",
         "10",
         "1912",
         "19",
         "180",
         "0.827777778"
        ],
        [
         "6",
         "7",
         "Benny Leonard",
         "light",
         "1911",
         "21",
         "New York, New York, USA",
         "186",
         "20",
         "10",
         "1896",
         "15",
         "216",
         "0.861111111"
        ],
        [
         "7",
         "8",
         "Marvin Hagler",
         "middle",
         "1973",
         "14",
         "Brockton, Massachusetts, USA",
         "62",
         "3",
         "2",
         "1954",
         "19",
         "67",
         "0.925373134"
        ],
        [
         "8",
         "9",
         "Joe Louis",
         "heavy",
         "1934",
         "17",
         "Detroit, Michigan, USA",
         "66",
         "3",
         "0",
         "1914",
         "20",
         "69",
         "0.956521739"
        ],
        [
         "9",
         "10",
         "Muhammad Ali",
         "heavy",
         "1960",
         "21",
         "Louisville, Kentucky, USA",
         "56",
         "5",
         "0",
         "1942",
         "18",
         "61",
         "0.918032787"
        ],
        [
         "10",
         "11",
         "Jose Napoles",
         "welter",
         "1958",
         "17",
         "Ciudad Juarez, Chihuahua, Mexico",
         "81",
         "7",
         "0",
         "1940",
         "18",
         "88",
         "0.920454545"
        ],
        [
         "11",
         "12",
         "Roberto Duran",
         "light",
         "1968",
         "33",
         "Panama City, Panama",
         "103",
         "16",
         "0",
         "1951",
         "17",
         "119",
         "0.865546218"
        ],
        [
         "12",
         "13",
         "Julio Cesar Chavez",
         "super light",
         "1980",
         "25",
         "Tijuana, Baja California, Mexico",
         "107",
         "6",
         "2",
         "1962",
         "18",
         "115",
         "0.930434783"
        ],
        [
         "13",
         "14",
         "Saul Alvarez*",
         "super middle",
         "2005",
         "19",
         "Guadalajara, Jalisco, Mexico",
         "62",
         "2",
         "2",
         "1990",
         "15",
         "66",
         "0.939393939"
        ],
        [
         "14",
         "15",
         "Mike Gibbons",
         "middle",
         "1907",
         "15",
         "Saint Paul, Minnesota, USA",
         "112",
         "10",
         "11",
         "1887",
         "20",
         "133",
         "0.842105263"
        ],
        [
         "15",
         "16",
         "Archie Moore",
         "light heavy",
         "1935",
         "28",
         "San Diego, California, USA",
         "186",
         "23",
         "10",
         "1913",
         "22",
         "219",
         "0.849315068"
        ],
        [
         "16",
         "17",
         "Oscar De La Hoya",
         "welter",
         "1992",
         "16",
         "Los Angeles, California, USA",
         "39",
         "6",
         "0",
         "1973",
         "19",
         "45",
         "0.866666667"
        ],
        [
         "17",
         "18",
         "Alexis Arguello",
         "super feather",
         "1968",
         "27",
         "Managua, Nicaragua",
         "77",
         "8",
         "0",
         "1952",
         "16",
         "85",
         "0.905882353"
        ],
        [
         "18",
         "19",
         "Manny Pacquiao",
         "welter",
         "1995",
         "26",
         "General Santos City, Cotabato del Sur, Philippines",
         "62",
         "8",
         "2",
         "1978",
         "17",
         "72",
         "0.861111111"
        ],
        [
         "19",
         "20",
         "Gene Tunney",
         "heavy",
         "1915",
         "13",
         "Greenwich, Connecticut, USA",
         "80",
         "1",
         "3",
         "1897",
         "18",
         "84",
         "0.952380952"
        ],
        [
         "20",
         "21",
         "Roy Jones Jr",
         "light heavy",
         "1989",
         "34",
         "Pensacola, Florida, USA",
         "66",
         "10",
         "0",
         "1969",
         "20",
         "76",
         "0.868421053"
        ],
        [
         "21",
         "22",
         "Ezzard Charles",
         "heavy",
         "1940",
         "19",
         "Cincinnati, Ohio, USA",
         "95",
         "25",
         "1",
         "1921",
         "19",
         "121",
         "0.785123967"
        ],
        [
         "22",
         "23",
         "Carlos Ortiz",
         "light",
         "1955",
         "17",
         "New York, New York, USA",
         "61",
         "7",
         "1",
         "1936",
         "19",
         "69",
         "0.884057971"
        ],
        [
         "23",
         "24",
         "Bernard Hopkins",
         "middle",
         "1988",
         "28",
         "Hockessin, Delaware, USA",
         "55",
         "8",
         "2",
         "1965",
         "23",
         "65",
         "0.846153846"
        ],
        [
         "24",
         "25",
         "Young Corbett III",
         "welter",
         "1919",
         "21",
         "Fresno, California, USA",
         "124",
         "12",
         "20",
         "1905",
         "14",
         "156",
         "0.794871795"
        ],
        [
         "25",
         "26",
         "Jackie Fields",
         "welter",
         "1925",
         "8",
         "Los Angeles, California, USA",
         "74",
         "9",
         "2",
         "1908",
         "17",
         "85",
         "0.870588235"
        ],
        [
         "26",
         "27",
         "Ted Kid Lewis",
         "welter",
         "1909",
         "20",
         "St George's, London, United Kingdom",
         "231",
         "47",
         "22",
         "1894",
         "15",
         "300",
         "0.77"
        ],
        [
         "27",
         "28",
         "Luis Rodriguez",
         "welter",
         "1956",
         "16",
         "Miami, Florida, USA",
         "107",
         "13",
         "0",
         "1937",
         "19",
         "120",
         "0.891666667"
        ],
        [
         "28",
         "29",
         "Tony Canzoneri",
         "light",
         "1925",
         "14",
         "New York, New York, USA",
         "141",
         "24",
         "10",
         "1908",
         "17",
         "175",
         "0.805714286"
        ],
        [
         "29",
         "30",
         "Holman Williams",
         "middle",
         "1932",
         "16",
         "Detroit, Michigan, USA",
         "146",
         "31",
         "11",
         "1915",
         "17",
         "188",
         "0.776595745"
        ],
        [
         "30",
         "31",
         "Terence Crawford",
         "super welter",
         "2008",
         "16",
         "Omaha, Nebraska, USA",
         "41",
         "0",
         "0",
         "1987",
         "21",
         "41",
         "1.0"
        ],
        [
         "31",
         "32",
         "Duilio Loi",
         "super light",
         "1948",
         "14",
         "Milan, Lombardia, Italy",
         "115",
         "3",
         "8",
         "1929",
         "19",
         "126",
         "0.912698413"
        ],
        [
         "32",
         "33",
         "Barney Ross",
         "welter",
         "1929",
         "9",
         "Chicago, Illinois, USA",
         "74",
         "4",
         "3",
         "1909",
         "20",
         "81",
         "0.913580247"
        ],
        [
         "33",
         "34",
         "Charley Burley",
         "middle",
         "1936",
         "14",
         "Pittsburgh, Pennsylvania, USA",
         "83",
         "12",
         "2",
         "1917",
         "19",
         "97",
         "0.855670103"
        ],
        [
         "34",
         "35",
         "Lennox Lewis",
         "heavy",
         "1989",
         "14",
         "West Ham, London, United Kingdom",
         "41",
         "2",
         "1",
         "1965",
         "24",
         "44",
         "0.931818182"
        ],
        [
         "35",
         "36",
         "Mickey Walker",
         "middle",
         "1919",
         "16",
         "Elizabeth, New Jersey, USA",
         "128",
         "26",
         "8",
         "1901",
         "18",
         "162",
         "0.790123457"
        ],
        [
         "36",
         "37",
         "Jack Britton",
         "welter",
         "1904",
         "26",
         "Clinton, New York, USA",
         "239",
         "60",
         "45",
         "1885",
         "19",
         "344",
         "0.694767442"
        ],
        [
         "37",
         "38",
         "Ike Williams",
         "light",
         "1940",
         "15",
         "Trenton, New Jersey, USA",
         "128",
         "24",
         "5",
         "1923",
         "17",
         "157",
         "0.815286624"
        ],
        [
         "38",
         "39",
         "Ray Leonard",
         "welter",
         "1977",
         "20",
         "Palmer Park, Maryland, USA",
         "36",
         "3",
         "1",
         "1956",
         "21",
         "40",
         "0.9"
        ],
        [
         "39",
         "40",
         "Mike McCallum",
         "super welter",
         "1981",
         "16",
         "New York, New York, USA",
         "49",
         "5",
         "1",
         "1956",
         "25",
         "55",
         "0.890909091"
        ],
        [
         "40",
         "41",
         "Gennadiy Golovkin",
         "middle",
         "2006",
         "16",
         "Los Angeles, California, USA",
         "42",
         "2",
         "1",
         "1982",
         "24",
         "45",
         "0.933333333"
        ],
        [
         "41",
         "42",
         "Naoya Inoue*",
         "super bantam",
         "2012",
         "13",
         "Yokohama, Kanagawa, Japan",
         "29",
         "0",
         "0",
         "1993",
         "19",
         "29",
         "1.0"
        ],
        [
         "42",
         "43",
         "Nicolino Locche",
         "super light",
         "1958",
         "18",
         "Buenos Aires, Distrito Federal, Argentina",
         "117",
         "4",
         "14",
         "1939",
         "19",
         "135",
         "0.866666667"
        ],
        [
         "43",
         "44",
         "Thomas Hearns",
         "super welter",
         "1977",
         "29",
         "Detroit, Michigan, USA",
         "61",
         "5",
         "1",
         "1958",
         "19",
         "67",
         "0.910447761"
        ],
        [
         "44",
         "45",
         "Marcel Thil",
         "middle",
         "1922",
         "15",
         "Cannes, Alpes-Maritimes, France",
         "106",
         "20",
         "10",
         "1904",
         "18",
         "136",
         "0.779411765"
        ],
        [
         "45",
         "46",
         "Dave Shade",
         "welter",
         "1918",
         "17",
         "Concord, California, USA",
         "155",
         "30",
         "62",
         "1902",
         "16",
         "247",
         "0.627530364"
        ],
        [
         "46",
         "47",
         "Joe Calzaghe",
         "super middle",
         "1993",
         "15",
         "Newbridge, Wales, United Kingdom",
         "46",
         "0",
         "0",
         "1972",
         "21",
         "46",
         "1.0"
        ],
        [
         "47",
         "48",
         "Emile Griffith",
         "middle",
         "1958",
         "19",
         "New York, New York, USA",
         "85",
         "24",
         "2",
         "1938",
         "20",
         "111",
         "0.765765766"
        ],
        [
         "48",
         "49",
         "Charles Humez",
         "middle",
         "1948",
         "10",
         "Mericourt, Pas-de-Calais, France",
         "94",
         "7",
         "1",
         "1928",
         "20",
         "102",
         "0.921568627"
        ],
        [
         "49",
         "50",
         "Felix Trinidad",
         "welter",
         "1990",
         "18",
         "San Juan, Puerto Rico",
         "42",
         "3",
         "0",
         "1973",
         "17",
         "45",
         "0.933333333"
        ]
       ],
       "shape": {
        "columns": 13,
        "rows": 225
       }
      },
      "text/html": [
       "<div>\n",
       "<style scoped>\n",
       "    .dataframe tbody tr th:only-of-type {\n",
       "        vertical-align: middle;\n",
       "    }\n",
       "\n",
       "    .dataframe tbody tr th {\n",
       "        vertical-align: top;\n",
       "    }\n",
       "\n",
       "    .dataframe thead th {\n",
       "        text-align: right;\n",
       "    }\n",
       "</style>\n",
       "<table border=\"1\" class=\"dataframe\">\n",
       "  <thead>\n",
       "    <tr style=\"text-align: right;\">\n",
       "      <th></th>\n",
       "      <th>Rank</th>\n",
       "      <th>Name</th>\n",
       "      <th>Division</th>\n",
       "      <th>Beginning Year</th>\n",
       "      <th>Longevity</th>\n",
       "      <th>Origin</th>\n",
       "      <th>Wins</th>\n",
       "      <th>Losses</th>\n",
       "      <th>Draws</th>\n",
       "      <th>Birth Year</th>\n",
       "      <th>Starting Age</th>\n",
       "      <th>Total Bouts</th>\n",
       "      <th>Win %</th>\n",
       "    </tr>\n",
       "  </thead>\n",
       "  <tbody>\n",
       "    <tr>\n",
       "      <th>0</th>\n",
       "      <td>1</td>\n",
       "      <td>Ray Robinson</td>\n",
       "      <td>middle</td>\n",
       "      <td>1940</td>\n",
       "      <td>25</td>\n",
       "      <td>Harlem, New York, USA</td>\n",
       "      <td>174</td>\n",
       "      <td>19</td>\n",
       "      <td>6</td>\n",
       "      <td>1921</td>\n",
       "      <td>19</td>\n",
       "      <td>199</td>\n",
       "      <td>0.874372</td>\n",
       "    </tr>\n",
       "    <tr>\n",
       "      <th>1</th>\n",
       "      <td>2</td>\n",
       "      <td>Jimmy McLarnin</td>\n",
       "      <td>welter</td>\n",
       "      <td>1923</td>\n",
       "      <td>13</td>\n",
       "      <td>Glendale, California, USA</td>\n",
       "      <td>55</td>\n",
       "      <td>11</td>\n",
       "      <td>3</td>\n",
       "      <td>1907</td>\n",
       "      <td>16</td>\n",
       "      <td>69</td>\n",
       "      <td>0.797101</td>\n",
       "    </tr>\n",
       "    <tr>\n",
       "      <th>2</th>\n",
       "      <td>3</td>\n",
       "      <td>Floyd Mayweather Jr</td>\n",
       "      <td>welter</td>\n",
       "      <td>1996</td>\n",
       "      <td>21</td>\n",
       "      <td>Las Vegas, Nevada, USA</td>\n",
       "      <td>50</td>\n",
       "      <td>0</td>\n",
       "      <td>0</td>\n",
       "      <td>1977</td>\n",
       "      <td>19</td>\n",
       "      <td>50</td>\n",
       "      <td>1.000000</td>\n",
       "    </tr>\n",
       "    <tr>\n",
       "      <th>3</th>\n",
       "      <td>4</td>\n",
       "      <td>Harry Greb</td>\n",
       "      <td>middle</td>\n",
       "      <td>1913</td>\n",
       "      <td>13</td>\n",
       "      <td>Pittsburgh, Pennsylvania, USA</td>\n",
       "      <td>265</td>\n",
       "      <td>19</td>\n",
       "      <td>17</td>\n",
       "      <td>1894</td>\n",
       "      <td>19</td>\n",
       "      <td>301</td>\n",
       "      <td>0.880399</td>\n",
       "    </tr>\n",
       "    <tr>\n",
       "      <th>4</th>\n",
       "      <td>5</td>\n",
       "      <td>Carlos Monzon</td>\n",
       "      <td>middle</td>\n",
       "      <td>1963</td>\n",
       "      <td>14</td>\n",
       "      <td>Santa Fe, Santa Fe, Argentina</td>\n",
       "      <td>87</td>\n",
       "      <td>3</td>\n",
       "      <td>9</td>\n",
       "      <td>1942</td>\n",
       "      <td>21</td>\n",
       "      <td>99</td>\n",
       "      <td>0.878788</td>\n",
       "    </tr>\n",
       "    <tr>\n",
       "      <th>...</th>\n",
       "      <td>...</td>\n",
       "      <td>...</td>\n",
       "      <td>...</td>\n",
       "      <td>...</td>\n",
       "      <td>...</td>\n",
       "      <td>...</td>\n",
       "      <td>...</td>\n",
       "      <td>...</td>\n",
       "      <td>...</td>\n",
       "      <td>...</td>\n",
       "      <td>...</td>\n",
       "      <td>...</td>\n",
       "      <td>...</td>\n",
       "    </tr>\n",
       "    <tr>\n",
       "      <th>220</th>\n",
       "      <td>221</td>\n",
       "      <td>Roman Gonzalez</td>\n",
       "      <td>super fly</td>\n",
       "      <td>2005</td>\n",
       "      <td>19</td>\n",
       "      <td>Managua, Nicaragua</td>\n",
       "      <td>52</td>\n",
       "      <td>4</td>\n",
       "      <td>0</td>\n",
       "      <td>1987</td>\n",
       "      <td>18</td>\n",
       "      <td>56</td>\n",
       "      <td>0.928571</td>\n",
       "    </tr>\n",
       "    <tr>\n",
       "      <th>221</th>\n",
       "      <td>222</td>\n",
       "      <td>Sergio Martinez</td>\n",
       "      <td>middle</td>\n",
       "      <td>1997</td>\n",
       "      <td>26</td>\n",
       "      <td>Spain</td>\n",
       "      <td>57</td>\n",
       "      <td>3</td>\n",
       "      <td>2</td>\n",
       "      <td>1975</td>\n",
       "      <td>22</td>\n",
       "      <td>62</td>\n",
       "      <td>0.919355</td>\n",
       "    </tr>\n",
       "    <tr>\n",
       "      <th>222</th>\n",
       "      <td>223</td>\n",
       "      <td>Victor Galindez</td>\n",
       "      <td>light heavy</td>\n",
       "      <td>1969</td>\n",
       "      <td>11</td>\n",
       "      <td>Moron, Buenos Aires, Argentina</td>\n",
       "      <td>55</td>\n",
       "      <td>9</td>\n",
       "      <td>4</td>\n",
       "      <td>1948</td>\n",
       "      <td>21</td>\n",
       "      <td>68</td>\n",
       "      <td>0.808824</td>\n",
       "    </tr>\n",
       "    <tr>\n",
       "      <th>223</th>\n",
       "      <td>224</td>\n",
       "      <td>California Jackie</td>\n",
       "      <td>welter</td>\n",
       "      <td>1936</td>\n",
       "      <td>13</td>\n",
       "      <td>Los Angeles, California, USA</td>\n",
       "      <td>63</td>\n",
       "      <td>19</td>\n",
       "      <td>6</td>\n",
       "      <td>1918</td>\n",
       "      <td>18</td>\n",
       "      <td>88</td>\n",
       "      <td>0.715909</td>\n",
       "    </tr>\n",
       "    <tr>\n",
       "      <th>224</th>\n",
       "      <td>225</td>\n",
       "      <td>Jimmy Carter</td>\n",
       "      <td>light</td>\n",
       "      <td>1946</td>\n",
       "      <td>14</td>\n",
       "      <td>The Bronx, New York, USA</td>\n",
       "      <td>85</td>\n",
       "      <td>31</td>\n",
       "      <td>9</td>\n",
       "      <td>1924</td>\n",
       "      <td>22</td>\n",
       "      <td>125</td>\n",
       "      <td>0.680000</td>\n",
       "    </tr>\n",
       "  </tbody>\n",
       "</table>\n",
       "<p>225 rows × 13 columns</p>\n",
       "</div>"
      ],
      "text/plain": [
       "     Rank                 Name     Division  Beginning Year  Longevity  \\\n",
       "0       1         Ray Robinson       middle            1940         25   \n",
       "1       2       Jimmy McLarnin       welter            1923         13   \n",
       "2       3  Floyd Mayweather Jr       welter            1996         21   \n",
       "3       4           Harry Greb       middle            1913         13   \n",
       "4       5        Carlos Monzon       middle            1963         14   \n",
       "..    ...                  ...          ...             ...        ...   \n",
       "220   221       Roman Gonzalez    super fly            2005         19   \n",
       "221   222      Sergio Martinez       middle            1997         26   \n",
       "222   223      Victor Galindez  light heavy            1969         11   \n",
       "223   224    California Jackie       welter            1936         13   \n",
       "224   225         Jimmy Carter        light            1946         14   \n",
       "\n",
       "                             Origin  Wins  Losses  Draws  Birth Year  \\\n",
       "0             Harlem, New York, USA   174      19      6        1921   \n",
       "1         Glendale, California, USA    55      11      3        1907   \n",
       "2            Las Vegas, Nevada, USA    50       0      0        1977   \n",
       "3     Pittsburgh, Pennsylvania, USA   265      19     17        1894   \n",
       "4     Santa Fe, Santa Fe, Argentina    87       3      9        1942   \n",
       "..                              ...   ...     ...    ...         ...   \n",
       "220              Managua, Nicaragua    52       4      0        1987   \n",
       "221                           Spain    57       3      2        1975   \n",
       "222  Moron, Buenos Aires, Argentina    55       9      4        1948   \n",
       "223    Los Angeles, California, USA    63      19      6        1918   \n",
       "224        The Bronx, New York, USA    85      31      9        1924   \n",
       "\n",
       "     Starting Age  Total Bouts     Win %  \n",
       "0              19          199  0.874372  \n",
       "1              16           69  0.797101  \n",
       "2              19           50  1.000000  \n",
       "3              19          301  0.880399  \n",
       "4              21           99  0.878788  \n",
       "..            ...          ...       ...  \n",
       "220            18           56  0.928571  \n",
       "221            22           62  0.919355  \n",
       "222            21           68  0.808824  \n",
       "223            18           88  0.715909  \n",
       "224            22          125  0.680000  \n",
       "\n",
       "[225 rows x 13 columns]"
      ]
     },
     "execution_count": 2,
     "metadata": {},
     "output_type": "execute_result"
    }
   ],
   "source": [
    "box_d4 = pd.read_csv('box_d4.csv')\n",
    "box_d4.dropna()\n"
   ]
  },
  {
   "cell_type": "code",
   "execution_count": 3,
   "id": "1cd9c7cb",
   "metadata": {},
   "outputs": [
    {
     "data": {
      "text/plain": [
       "(10, 31)"
      ]
     },
     "execution_count": 3,
     "metadata": {},
     "output_type": "execute_result"
    }
   ],
   "source": [
    "box_d4['Starting Age'].min(), box_d4['Starting Age'].max()"
   ]
  },
  {
   "cell_type": "markdown",
   "id": "07b45dab",
   "metadata": {},
   "source": [
    "Initial Data Visualization using Plotly"
   ]
  },
  {
   "cell_type": "code",
   "execution_count": 4,
   "id": "052a33d1",
   "metadata": {},
   "outputs": [
    {
     "data": {
      "application/vnd.plotly.v1+json": {
       "config": {
        "plotlyServerURL": "https://plot.ly"
       },
       "data": [
        {
         "alignmentgroup": "True",
         "hovertemplate": "<b>%{hovertext}</b><br><br>Division=middle<br>Career Start Year=%{x}<br>Longevity (Years)=%{y}<extra></extra>",
         "hovertext": [
          "Ray Robinson",
          "Harry Greb",
          "Carlos Monzon",
          "Marvin Hagler",
          "Mike Gibbons",
          "Bernard Hopkins",
          "Holman Williams",
          "Charley Burley",
          "Mickey Walker",
          "Gennadiy Golovkin",
          "Marcel Thil",
          "Emile Griffith",
          "Charles Humez",
          "Gustav Scholz",
          "Randolph Turpin",
          "Bobo Olson",
          "Dick Tiger",
          "Marcel Cerdan",
          "Gene Fullmer",
          "Jake LaMotta",
          "Nino Benvenuti",
          "Jeff Smith",
          "Lloyd Marshall",
          "Freddie Steele",
          "Fred Apostoli",
          "Michael Nunn",
          "Ceferino Garcia",
          "Dave Sands",
          "Spider Webb",
          "Eddie Booker",
          "Jock Malone",
          "Joey Giardello",
          "Bryan Downey",
          "Jimmy Clabby",
          "Teddy Yarosz",
          "Vince Dundee",
          "Bennie Briscoe",
          "Ken Overlin",
          "Lou Brouillard",
          "Al Hostak",
          "Mike O'Dowd",
          "James Toney",
          "Tiger Flowers",
          "Laszlo Papp",
          "Rocky Castellani",
          "George Benton",
          "Tony Zale",
          "Rodrigo Valdes",
          "Sergio Martinez"
         ],
         "legendgroup": "middle",
         "marker": {
          "color": "#AA0DFE",
          "pattern": {
           "shape": ""
          }
         },
         "name": "middle",
         "offsetgroup": "middle",
         "orientation": "v",
         "showlegend": true,
         "textposition": "auto",
         "type": "bar",
         "x": [
          1940,
          1913,
          1963,
          1973,
          1907,
          1988,
          1932,
          1936,
          1919,
          2006,
          1922,
          1958,
          1948,
          1948,
          1946,
          1944,
          1952,
          1934,
          1951,
          1941,
          1961,
          1910,
          1936,
          1926,
          1934,
          1984,
          1923,
          1941,
          1953,
          1935,
          1916,
          1948,
          1914,
          1906,
          1929,
          1923,
          1962,
          1931,
          1928,
          1932,
          1913,
          1988,
          1918,
          1957,
          1944,
          1949,
          1934,
          1963,
          1997
         ],
         "xaxis": "x",
         "y": [
          25,
          13,
          14,
          14,
          15,
          28,
          16,
          14,
          16,
          16,
          15,
          19,
          10,
          16,
          18,
          22,
          18,
          15,
          12,
          13,
          10,
          17,
          15,
          15,
          14,
          18,
          22,
          11,
          8,
          9,
          15,
          19,
          12,
          17,
          13,
          14,
          20,
          13,
          12,
          17,
          10,
          29,
          9,
          7,
          13,
          21,
          14,
          17,
          26
         ],
         "yaxis": "y"
        },
        {
         "alignmentgroup": "True",
         "hovertemplate": "<b>%{hovertext}</b><br><br>Division=welter<br>Career Start Year=%{x}<br>Longevity (Years)=%{y}<extra></extra>",
         "hovertext": [
          "Jimmy McLarnin",
          "Floyd Mayweather Jr",
          "Henry Armstrong",
          "Jose Napoles",
          "Oscar De La Hoya",
          "Manny Pacquiao",
          "Young Corbett III",
          "Jackie Fields",
          "Ted Kid Lewis",
          "Luis Rodriguez",
          "Barney Ross",
          "Jack Britton",
          "Ray Leonard",
          "Dave Shade",
          "Felix Trinidad",
          "Pernell Whitaker",
          "Jack Carroll",
          "Freddie Dawson",
          "Kid Gavilan",
          "Lockport Jimmy",
          "Shane Mosley",
          "Pete Latzo",
          "Billy Petrolle",
          "Miguel Cotto",
          "Tommy Freeman",
          "Johnny Indrisano",
          "Donald Curry",
          "Fritzie Zivic",
          "Errol Spence Jr",
          "Cocoa Kid",
          "Paul Williams",
          "Johnny Griffiths",
          "Johnny Saxton",
          "Antonio Margarito",
          "Curtis Cokes",
          "Carmen Basilio",
          "Bermondsey Billy",
          "Frankie Schoell",
          "Marlon Starling",
          "Pipino Cuevas",
          "Vernon Forrest",
          "George Costner",
          "Vince Martinez",
          "Del Flanagan",
          "Ernie Roderick",
          "California Jackie"
         ],
         "legendgroup": "welter",
         "marker": {
          "color": "#3283FE",
          "pattern": {
           "shape": ""
          }
         },
         "name": "welter",
         "offsetgroup": "welter",
         "orientation": "v",
         "showlegend": true,
         "textposition": "auto",
         "type": "bar",
         "x": [
          1923,
          1996,
          1931,
          1958,
          1992,
          1995,
          1919,
          1925,
          1909,
          1956,
          1929,
          1904,
          1977,
          1918,
          1990,
          1984,
          1923,
          1943,
          1943,
          1908,
          1993,
          1919,
          1922,
          2001,
          1920,
          1923,
          1980,
          1931,
          2012,
          1929,
          2000,
          1911,
          1949,
          1994,
          1958,
          1948,
          1911,
          1918,
          1979,
          1971,
          1992,
          1940,
          1949,
          1947,
          1931,
          1936
         ],
         "xaxis": "x",
         "y": [
          13,
          21,
          14,
          17,
          16,
          26,
          21,
          8,
          20,
          16,
          9,
          26,
          20,
          17,
          18,
          17,
          15,
          11,
          15,
          13,
          23,
          15,
          12,
          16,
          18,
          11,
          17,
          18,
          11,
          19,
          12,
          13,
          9,
          23,
          14,
          13,
          21,
          12,
          11,
          18,
          16,
          10,
          12,
          17,
          19,
          13
         ],
         "yaxis": "y"
        },
        {
         "alignmentgroup": "True",
         "hovertemplate": "<b>%{hovertext}</b><br><br>Division=light<br>Career Start Year=%{x}<br>Longevity (Years)=%{y}<extra></extra>",
         "hovertext": [
          "Benny Leonard",
          "Roberto Duran",
          "Carlos Ortiz",
          "Tony Canzoneri",
          "Ike Williams",
          "Lew Tendler",
          "Rocky Kansas",
          "Ismael Laguna",
          "Sammy Mandell",
          "Lou Ambers",
          "Packey McFarland",
          "Freddie Welsh",
          "Jack 'Kid' Berg",
          "Gervonta Davis",
          "Sammy Angott",
          "Joe Brown",
          "Beau Jack",
          "Johnny Dundee",
          "Dave Charnley",
          "Hector Camacho",
          "Sid Terris",
          "Art Aragon",
          "Bob Montgomery",
          "Pedro Montanez",
          "Vasyl Lomachenko",
          "Ken Buchanan",
          "Kenny Lane",
          "Mikey Garcia",
          "Shakur Stevenson",
          "Edwin Rosario",
          "Alfredo Urbina",
          "Sammy Fuller",
          "Jimmy Carter"
         ],
         "legendgroup": "light",
         "marker": {
          "color": "#85660D",
          "pattern": {
           "shape": ""
          }
         },
         "name": "light",
         "offsetgroup": "light",
         "orientation": "v",
         "showlegend": true,
         "textposition": "auto",
         "type": "bar",
         "x": [
          1911,
          1968,
          1955,
          1925,
          1940,
          1913,
          1911,
          1960,
          1919,
          1932,
          1904,
          1905,
          1924,
          2013,
          1935,
          1941,
          1939,
          1910,
          1954,
          1980,
          1922,
          1944,
          1938,
          1931,
          2013,
          1965,
          1953,
          2006,
          2017,
          1979,
          1957,
          1924,
          1946
         ],
         "xaxis": "x",
         "y": [
          21,
          33,
          17,
          14,
          15,
          15,
          21,
          11,
          15,
          9,
          11,
          17,
          21,
          12,
          15,
          29,
          16,
          22,
          10,
          30,
          9,
          16,
          12,
          9,
          11,
          17,
          32,
          15,
          8,
          18,
          12,
          19,
          14
         ],
         "yaxis": "y"
        },
        {
         "alignmentgroup": "True",
         "hovertemplate": "<b>%{hovertext}</b><br><br>Division=heavy<br>Career Start Year=%{x}<br>Longevity (Years)=%{y}<extra></extra>",
         "hovertext": [
          "Joe Louis",
          "Muhammad Ali",
          "Gene Tunney",
          "Ezzard Charles",
          "Lennox Lewis",
          "Floyd Patterson",
          "Rocky Marciano",
          "Wladimir Klitschko",
          "Jack Dempsey",
          "Evander Holyfield",
          "Larry Holmes",
          "Vitali Klitschko",
          "Sam Langford",
          "Jersey Joe Walcott",
          "Sonny Liston",
          "Joe Frazier",
          "Billy Miske",
          "Oleksandr Usyk*",
          "George Foreman",
          "Young Stribling",
          "Harry Wills",
          "Max Schmeling",
          "Ingemar Johansson",
          "Mike Tyson"
         ],
         "legendgroup": "heavy",
         "marker": {
          "color": "#782AB6",
          "pattern": {
           "shape": ""
          }
         },
         "name": "heavy",
         "offsetgroup": "heavy",
         "orientation": "v",
         "showlegend": true,
         "textposition": "auto",
         "type": "bar",
         "x": [
          1934,
          1960,
          1915,
          1940,
          1989,
          1952,
          1947,
          1996,
          1914,
          1984,
          1973,
          1996,
          1902,
          1930,
          1953,
          1965,
          1913,
          2013,
          1969,
          1921,
          1911,
          1924,
          1952,
          1985
         ],
         "xaxis": "x",
         "y": [
          17,
          21,
          13,
          19,
          14,
          20,
          8,
          21,
          13,
          27,
          29,
          16,
          24,
          23,
          17,
          16,
          10,
          11,
          28,
          12,
          21,
          24,
          11,
          39
         ],
         "yaxis": "y"
        },
        {
         "alignmentgroup": "True",
         "hovertemplate": "<b>%{hovertext}</b><br><br>Division=super light<br>Career Start Year=%{x}<br>Longevity (Years)=%{y}<extra></extra>",
         "hovertext": [
          "Julio Cesar Chavez",
          "Duilio Loi",
          "Nicolino Locche",
          "Antonio Cervantes",
          "Kostya Tszyu",
          "Bruno Arcari",
          "Eddie Perkins",
          "Carlos Hernandez",
          "Ricky Hatton",
          "Aaron Pryor",
          "Timothy Bradley Jr",
          "Juan Martin Coggi"
         ],
         "legendgroup": "super light",
         "marker": {
          "color": "#565656",
          "pattern": {
           "shape": ""
          }
         },
         "name": "super light",
         "offsetgroup": "super light",
         "orientation": "v",
         "showlegend": true,
         "textposition": "auto",
         "type": "bar",
         "x": [
          1980,
          1948,
          1958,
          1964,
          1992,
          1964,
          1956,
          1959,
          1997,
          1976,
          2004,
          1982
         ],
         "xaxis": "x",
         "y": [
          25,
          14,
          18,
          19,
          13,
          14,
          19,
          12,
          15,
          14,
          12,
          17
         ],
         "yaxis": "y"
        },
        {
         "alignmentgroup": "True",
         "hovertemplate": "<b>%{hovertext}</b><br><br>Division=super middle<br>Career Start Year=%{x}<br>Longevity (Years)=%{y}<extra></extra>",
         "hovertext": [
          "Saul Alvarez*",
          "Joe Calzaghe",
          "Andre Ward",
          "Carl Froch",
          "Mikkel Kessler"
         ],
         "legendgroup": "super middle",
         "marker": {
          "color": "#1C8356",
          "pattern": {
           "shape": ""
          }
         },
         "name": "super middle",
         "offsetgroup": "super middle",
         "orientation": "v",
         "showlegend": true,
         "textposition": "auto",
         "type": "bar",
         "x": [
          2005,
          1993,
          2004,
          2002,
          1998
         ],
         "xaxis": "x",
         "y": [
          19,
          15,
          13,
          12,
          15
         ],
         "yaxis": "y"
        },
        {
         "alignmentgroup": "True",
         "hovertemplate": "<b>%{hovertext}</b><br><br>Division=light heavy<br>Career Start Year=%{x}<br>Longevity (Years)=%{y}<extra></extra>",
         "hovertext": [
          "Archie Moore",
          "Roy Jones Jr",
          "Tommy Gibbons",
          "Dmitrii Bivol",
          "Tommy Loughran",
          "Jimmy Bivins",
          "Billy Conn",
          "Harold Johnson",
          "Michael Spinks",
          "Jack Dillon",
          "Artur Beterbiev",
          "Jack Delaney",
          "John Henry Lewis",
          "Joey Maxim",
          "Len Harvey",
          "David Benavidez",
          "Maxie Rosenbloom",
          "Victor Galindez"
         ],
         "legendgroup": "light heavy",
         "marker": {
          "color": "#16FF32",
          "pattern": {
           "shape": ""
          }
         },
         "name": "light heavy",
         "offsetgroup": "light heavy",
         "orientation": "v",
         "showlegend": true,
         "textposition": "auto",
         "type": "bar",
         "x": [
          1935,
          1989,
          1911,
          2014,
          1919,
          1940,
          1934,
          1946,
          1977,
          1908,
          2013,
          1919,
          1929,
          1941,
          1920,
          2013,
          1923,
          1969
         ],
         "xaxis": "x",
         "y": [
          28,
          34,
          14,
          11,
          18,
          15,
          14,
          25,
          11,
          15,
          12,
          13,
          10,
          17,
          22,
          12,
          16,
          11
         ],
         "yaxis": "y"
        },
        {
         "alignmentgroup": "True",
         "hovertemplate": "<b>%{hovertext}</b><br><br>Division=super feather<br>Career Start Year=%{x}<br>Longevity (Years)=%{y}<extra></extra>",
         "hovertext": [
          "Alexis Arguello",
          "Azumah Nelson"
         ],
         "legendgroup": "super feather",
         "marker": {
          "color": "#F7E1A0",
          "pattern": {
           "shape": ""
          }
         },
         "name": "super feather",
         "offsetgroup": "super feather",
         "orientation": "v",
         "showlegend": true,
         "textposition": "auto",
         "type": "bar",
         "x": [
          1968,
          1979
         ],
         "xaxis": "x",
         "y": [
          27,
          29
         ],
         "yaxis": "y"
        },
        {
         "alignmentgroup": "True",
         "hovertemplate": "<b>%{hovertext}</b><br><br>Division=super welter<br>Career Start Year=%{x}<br>Longevity (Years)=%{y}<extra></extra>",
         "hovertext": [
          "Terence Crawford",
          "Mike McCallum",
          "Thomas Hearns",
          "Wilfred Benitez",
          "Sandro Mazzinghi",
          "Terry Norris",
          "Ralph Dupas",
          "Keith Thurman"
         ],
         "legendgroup": "super welter",
         "marker": {
          "color": "#E2E2E2",
          "pattern": {
           "shape": ""
          }
         },
         "name": "super welter",
         "offsetgroup": "super welter",
         "orientation": "v",
         "showlegend": true,
         "textposition": "auto",
         "type": "bar",
         "x": [
          2008,
          1981,
          1977,
          1973,
          1961,
          1986,
          1950,
          2007
         ],
         "xaxis": "x",
         "y": [
          16,
          16,
          29,
          17,
          17,
          12,
          16,
          18
         ],
         "yaxis": "y"
        },
        {
         "alignmentgroup": "True",
         "hovertemplate": "<b>%{hovertext}</b><br><br>Division=super bantam<br>Career Start Year=%{x}<br>Longevity (Years)=%{y}<extra></extra>",
         "hovertext": [
          "Naoya Inoue*",
          "Marco Antonio",
          "Erik Morales",
          "Wilfredo Gomez"
         ],
         "legendgroup": "super bantam",
         "marker": {
          "color": "#1CBE4F",
          "pattern": {
           "shape": ""
          }
         },
         "name": "super bantam",
         "offsetgroup": "super bantam",
         "orientation": "v",
         "showlegend": true,
         "textposition": "auto",
         "type": "bar",
         "x": [
          2012,
          1989,
          1993,
          1974
         ],
         "xaxis": "x",
         "y": [
          13,
          22,
          19,
          15
         ],
         "yaxis": "y"
        },
        {
         "alignmentgroup": "True",
         "hovertemplate": "<b>%{hovertext}</b><br><br>Division=feather<br>Career Start Year=%{x}<br>Longevity (Years)=%{y}<extra></extra>",
         "hovertext": [
          "Willie Pep",
          "Juan Manuel Marquez",
          "Johnny Kilbane",
          "Vicente Saldivar",
          "Louis 'Kid' Kaplan",
          "Freddie Miller",
          "Sandy Saddler",
          "Davey Moore",
          "Salvador Sanchez",
          "Naseem Hamed",
          "Terry McGovern",
          "Nel Tarleton",
          "Ernesto Marcel",
          "Kid Chocolate",
          "Chris John",
          "Sugar Ramos",
          "Eusebio Pedroza"
         ],
         "legendgroup": "feather",
         "marker": {
          "color": "#C4451C",
          "pattern": {
           "shape": ""
          }
         },
         "name": "feather",
         "offsetgroup": "feather",
         "orientation": "v",
         "showlegend": true,
         "textposition": "auto",
         "type": "bar",
         "x": [
          1940,
          1993,
          1907,
          1961,
          1918,
          1927,
          1944,
          1953,
          1975,
          1992,
          1897,
          1925,
          1966,
          1927,
          1998,
          1957,
          1973
         ],
         "xaxis": "x",
         "y": [
          26,
          21,
          16,
          12,
          15,
          13,
          12,
          10,
          7,
          10,
          11,
          20,
          8,
          11,
          15,
          15,
          19
         ],
         "yaxis": "y"
        },
        {
         "alignmentgroup": "True",
         "hovertemplate": "<b>%{hovertext}</b><br><br>Division=super fly<br>Career Start Year=%{x}<br>Longevity (Years)=%{y}<extra></extra>",
         "hovertext": [
          "Khaosai Galaxy",
          "Roman Gonzalez"
         ],
         "legendgroup": "super fly",
         "marker": {
          "color": "#DEA0FD",
          "pattern": {
           "shape": ""
          }
         },
         "name": "super fly",
         "offsetgroup": "super fly",
         "orientation": "v",
         "showlegend": true,
         "textposition": "auto",
         "type": "bar",
         "x": [
          1980,
          2005
         ],
         "xaxis": "x",
         "y": [
          11,
          19
         ],
         "yaxis": "y"
        },
        {
         "alignmentgroup": "True",
         "hovertemplate": "<b>%{hovertext}</b><br><br>Division=bantam<br>Career Start Year=%{x}<br>Longevity (Years)=%{y}<extra></extra>",
         "hovertext": [
          "Ruben Olivares",
          "Nonito Donaire",
          "Junto Nakatani*",
          "Eder Jofre"
         ],
         "legendgroup": "bantam",
         "marker": {
          "color": "#FE00FA",
          "pattern": {
           "shape": ""
          }
         },
         "name": "bantam",
         "offsetgroup": "bantam",
         "orientation": "v",
         "showlegend": true,
         "textposition": "auto",
         "type": "bar",
         "x": [
          1965,
          2001,
          2015,
          1957
         ],
         "xaxis": "x",
         "y": [
          23,
          22,
          10,
          19
         ],
         "yaxis": "y"
        },
        {
         "alignmentgroup": "True",
         "hovertemplate": "<b>%{hovertext}</b><br><br>Division=minimum<br>Career Start Year=%{x}<br>Longevity (Years)=%{y}<extra></extra>",
         "hovertext": [
          "Ricardo Lopez"
         ],
         "legendgroup": "minimum",
         "marker": {
          "color": "#325A9B",
          "pattern": {
           "shape": ""
          }
         },
         "name": "minimum",
         "offsetgroup": "minimum",
         "orientation": "v",
         "showlegend": true,
         "textposition": "auto",
         "type": "bar",
         "x": [
          1985
         ],
         "xaxis": "x",
         "y": [
          16
         ],
         "yaxis": "y"
        }
       ],
       "layout": {
        "bargap": 0.3,
        "barmode": "relative",
        "font": {
         "color": "black"
        },
        "legend": {
         "title": {
          "text": "Division"
         },
         "tracegroupgap": 0
        },
        "paper_bgcolor": "whitesmoke",
        "plot_bgcolor": "whitesmoke",
        "template": {
         "data": {
          "bar": [
           {
            "error_x": {
             "color": "#2a3f5f"
            },
            "error_y": {
             "color": "#2a3f5f"
            },
            "marker": {
             "line": {
              "color": "#E5ECF6",
              "width": 0.5
             },
             "pattern": {
              "fillmode": "overlay",
              "size": 10,
              "solidity": 0.2
             }
            },
            "type": "bar"
           }
          ],
          "barpolar": [
           {
            "marker": {
             "line": {
              "color": "#E5ECF6",
              "width": 0.5
             },
             "pattern": {
              "fillmode": "overlay",
              "size": 10,
              "solidity": 0.2
             }
            },
            "type": "barpolar"
           }
          ],
          "carpet": [
           {
            "aaxis": {
             "endlinecolor": "#2a3f5f",
             "gridcolor": "white",
             "linecolor": "white",
             "minorgridcolor": "white",
             "startlinecolor": "#2a3f5f"
            },
            "baxis": {
             "endlinecolor": "#2a3f5f",
             "gridcolor": "white",
             "linecolor": "white",
             "minorgridcolor": "white",
             "startlinecolor": "#2a3f5f"
            },
            "type": "carpet"
           }
          ],
          "choropleth": [
           {
            "colorbar": {
             "outlinewidth": 0,
             "ticks": ""
            },
            "type": "choropleth"
           }
          ],
          "contour": [
           {
            "colorbar": {
             "outlinewidth": 0,
             "ticks": ""
            },
            "colorscale": [
             [
              0,
              "#0d0887"
             ],
             [
              0.1111111111111111,
              "#46039f"
             ],
             [
              0.2222222222222222,
              "#7201a8"
             ],
             [
              0.3333333333333333,
              "#9c179e"
             ],
             [
              0.4444444444444444,
              "#bd3786"
             ],
             [
              0.5555555555555556,
              "#d8576b"
             ],
             [
              0.6666666666666666,
              "#ed7953"
             ],
             [
              0.7777777777777778,
              "#fb9f3a"
             ],
             [
              0.8888888888888888,
              "#fdca26"
             ],
             [
              1,
              "#f0f921"
             ]
            ],
            "type": "contour"
           }
          ],
          "contourcarpet": [
           {
            "colorbar": {
             "outlinewidth": 0,
             "ticks": ""
            },
            "type": "contourcarpet"
           }
          ],
          "heatmap": [
           {
            "colorbar": {
             "outlinewidth": 0,
             "ticks": ""
            },
            "colorscale": [
             [
              0,
              "#0d0887"
             ],
             [
              0.1111111111111111,
              "#46039f"
             ],
             [
              0.2222222222222222,
              "#7201a8"
             ],
             [
              0.3333333333333333,
              "#9c179e"
             ],
             [
              0.4444444444444444,
              "#bd3786"
             ],
             [
              0.5555555555555556,
              "#d8576b"
             ],
             [
              0.6666666666666666,
              "#ed7953"
             ],
             [
              0.7777777777777778,
              "#fb9f3a"
             ],
             [
              0.8888888888888888,
              "#fdca26"
             ],
             [
              1,
              "#f0f921"
             ]
            ],
            "type": "heatmap"
           }
          ],
          "heatmapgl": [
           {
            "colorbar": {
             "outlinewidth": 0,
             "ticks": ""
            },
            "colorscale": [
             [
              0,
              "#0d0887"
             ],
             [
              0.1111111111111111,
              "#46039f"
             ],
             [
              0.2222222222222222,
              "#7201a8"
             ],
             [
              0.3333333333333333,
              "#9c179e"
             ],
             [
              0.4444444444444444,
              "#bd3786"
             ],
             [
              0.5555555555555556,
              "#d8576b"
             ],
             [
              0.6666666666666666,
              "#ed7953"
             ],
             [
              0.7777777777777778,
              "#fb9f3a"
             ],
             [
              0.8888888888888888,
              "#fdca26"
             ],
             [
              1,
              "#f0f921"
             ]
            ],
            "type": "heatmapgl"
           }
          ],
          "histogram": [
           {
            "marker": {
             "pattern": {
              "fillmode": "overlay",
              "size": 10,
              "solidity": 0.2
             }
            },
            "type": "histogram"
           }
          ],
          "histogram2d": [
           {
            "colorbar": {
             "outlinewidth": 0,
             "ticks": ""
            },
            "colorscale": [
             [
              0,
              "#0d0887"
             ],
             [
              0.1111111111111111,
              "#46039f"
             ],
             [
              0.2222222222222222,
              "#7201a8"
             ],
             [
              0.3333333333333333,
              "#9c179e"
             ],
             [
              0.4444444444444444,
              "#bd3786"
             ],
             [
              0.5555555555555556,
              "#d8576b"
             ],
             [
              0.6666666666666666,
              "#ed7953"
             ],
             [
              0.7777777777777778,
              "#fb9f3a"
             ],
             [
              0.8888888888888888,
              "#fdca26"
             ],
             [
              1,
              "#f0f921"
             ]
            ],
            "type": "histogram2d"
           }
          ],
          "histogram2dcontour": [
           {
            "colorbar": {
             "outlinewidth": 0,
             "ticks": ""
            },
            "colorscale": [
             [
              0,
              "#0d0887"
             ],
             [
              0.1111111111111111,
              "#46039f"
             ],
             [
              0.2222222222222222,
              "#7201a8"
             ],
             [
              0.3333333333333333,
              "#9c179e"
             ],
             [
              0.4444444444444444,
              "#bd3786"
             ],
             [
              0.5555555555555556,
              "#d8576b"
             ],
             [
              0.6666666666666666,
              "#ed7953"
             ],
             [
              0.7777777777777778,
              "#fb9f3a"
             ],
             [
              0.8888888888888888,
              "#fdca26"
             ],
             [
              1,
              "#f0f921"
             ]
            ],
            "type": "histogram2dcontour"
           }
          ],
          "mesh3d": [
           {
            "colorbar": {
             "outlinewidth": 0,
             "ticks": ""
            },
            "type": "mesh3d"
           }
          ],
          "parcoords": [
           {
            "line": {
             "colorbar": {
              "outlinewidth": 0,
              "ticks": ""
             }
            },
            "type": "parcoords"
           }
          ],
          "pie": [
           {
            "automargin": true,
            "type": "pie"
           }
          ],
          "scatter": [
           {
            "fillpattern": {
             "fillmode": "overlay",
             "size": 10,
             "solidity": 0.2
            },
            "type": "scatter"
           }
          ],
          "scatter3d": [
           {
            "line": {
             "colorbar": {
              "outlinewidth": 0,
              "ticks": ""
             }
            },
            "marker": {
             "colorbar": {
              "outlinewidth": 0,
              "ticks": ""
             }
            },
            "type": "scatter3d"
           }
          ],
          "scattercarpet": [
           {
            "marker": {
             "colorbar": {
              "outlinewidth": 0,
              "ticks": ""
             }
            },
            "type": "scattercarpet"
           }
          ],
          "scattergeo": [
           {
            "marker": {
             "colorbar": {
              "outlinewidth": 0,
              "ticks": ""
             }
            },
            "type": "scattergeo"
           }
          ],
          "scattergl": [
           {
            "marker": {
             "colorbar": {
              "outlinewidth": 0,
              "ticks": ""
             }
            },
            "type": "scattergl"
           }
          ],
          "scattermapbox": [
           {
            "marker": {
             "colorbar": {
              "outlinewidth": 0,
              "ticks": ""
             }
            },
            "type": "scattermapbox"
           }
          ],
          "scatterpolar": [
           {
            "marker": {
             "colorbar": {
              "outlinewidth": 0,
              "ticks": ""
             }
            },
            "type": "scatterpolar"
           }
          ],
          "scatterpolargl": [
           {
            "marker": {
             "colorbar": {
              "outlinewidth": 0,
              "ticks": ""
             }
            },
            "type": "scatterpolargl"
           }
          ],
          "scatterternary": [
           {
            "marker": {
             "colorbar": {
              "outlinewidth": 0,
              "ticks": ""
             }
            },
            "type": "scatterternary"
           }
          ],
          "surface": [
           {
            "colorbar": {
             "outlinewidth": 0,
             "ticks": ""
            },
            "colorscale": [
             [
              0,
              "#0d0887"
             ],
             [
              0.1111111111111111,
              "#46039f"
             ],
             [
              0.2222222222222222,
              "#7201a8"
             ],
             [
              0.3333333333333333,
              "#9c179e"
             ],
             [
              0.4444444444444444,
              "#bd3786"
             ],
             [
              0.5555555555555556,
              "#d8576b"
             ],
             [
              0.6666666666666666,
              "#ed7953"
             ],
             [
              0.7777777777777778,
              "#fb9f3a"
             ],
             [
              0.8888888888888888,
              "#fdca26"
             ],
             [
              1,
              "#f0f921"
             ]
            ],
            "type": "surface"
           }
          ],
          "table": [
           {
            "cells": {
             "fill": {
              "color": "#EBF0F8"
             },
             "line": {
              "color": "white"
             }
            },
            "header": {
             "fill": {
              "color": "#C8D4E3"
             },
             "line": {
              "color": "white"
             }
            },
            "type": "table"
           }
          ]
         },
         "layout": {
          "annotationdefaults": {
           "arrowcolor": "#2a3f5f",
           "arrowhead": 0,
           "arrowwidth": 1
          },
          "autotypenumbers": "strict",
          "coloraxis": {
           "colorbar": {
            "outlinewidth": 0,
            "ticks": ""
           }
          },
          "colorscale": {
           "diverging": [
            [
             0,
             "#8e0152"
            ],
            [
             0.1,
             "#c51b7d"
            ],
            [
             0.2,
             "#de77ae"
            ],
            [
             0.3,
             "#f1b6da"
            ],
            [
             0.4,
             "#fde0ef"
            ],
            [
             0.5,
             "#f7f7f7"
            ],
            [
             0.6,
             "#e6f5d0"
            ],
            [
             0.7,
             "#b8e186"
            ],
            [
             0.8,
             "#7fbc41"
            ],
            [
             0.9,
             "#4d9221"
            ],
            [
             1,
             "#276419"
            ]
           ],
           "sequential": [
            [
             0,
             "#0d0887"
            ],
            [
             0.1111111111111111,
             "#46039f"
            ],
            [
             0.2222222222222222,
             "#7201a8"
            ],
            [
             0.3333333333333333,
             "#9c179e"
            ],
            [
             0.4444444444444444,
             "#bd3786"
            ],
            [
             0.5555555555555556,
             "#d8576b"
            ],
            [
             0.6666666666666666,
             "#ed7953"
            ],
            [
             0.7777777777777778,
             "#fb9f3a"
            ],
            [
             0.8888888888888888,
             "#fdca26"
            ],
            [
             1,
             "#f0f921"
            ]
           ],
           "sequentialminus": [
            [
             0,
             "#0d0887"
            ],
            [
             0.1111111111111111,
             "#46039f"
            ],
            [
             0.2222222222222222,
             "#7201a8"
            ],
            [
             0.3333333333333333,
             "#9c179e"
            ],
            [
             0.4444444444444444,
             "#bd3786"
            ],
            [
             0.5555555555555556,
             "#d8576b"
            ],
            [
             0.6666666666666666,
             "#ed7953"
            ],
            [
             0.7777777777777778,
             "#fb9f3a"
            ],
            [
             0.8888888888888888,
             "#fdca26"
            ],
            [
             1,
             "#f0f921"
            ]
           ]
          },
          "colorway": [
           "#636efa",
           "#EF553B",
           "#00cc96",
           "#ab63fa",
           "#FFA15A",
           "#19d3f3",
           "#FF6692",
           "#B6E880",
           "#FF97FF",
           "#FECB52"
          ],
          "font": {
           "color": "#2a3f5f"
          },
          "geo": {
           "bgcolor": "white",
           "lakecolor": "white",
           "landcolor": "#E5ECF6",
           "showlakes": true,
           "showland": true,
           "subunitcolor": "white"
          },
          "hoverlabel": {
           "align": "left"
          },
          "hovermode": "closest",
          "mapbox": {
           "style": "light"
          },
          "paper_bgcolor": "white",
          "plot_bgcolor": "#E5ECF6",
          "polar": {
           "angularaxis": {
            "gridcolor": "white",
            "linecolor": "white",
            "ticks": ""
           },
           "bgcolor": "#E5ECF6",
           "radialaxis": {
            "gridcolor": "white",
            "linecolor": "white",
            "ticks": ""
           }
          },
          "scene": {
           "xaxis": {
            "backgroundcolor": "#E5ECF6",
            "gridcolor": "white",
            "gridwidth": 2,
            "linecolor": "white",
            "showbackground": true,
            "ticks": "",
            "zerolinecolor": "white"
           },
           "yaxis": {
            "backgroundcolor": "#E5ECF6",
            "gridcolor": "white",
            "gridwidth": 2,
            "linecolor": "white",
            "showbackground": true,
            "ticks": "",
            "zerolinecolor": "white"
           },
           "zaxis": {
            "backgroundcolor": "#E5ECF6",
            "gridcolor": "white",
            "gridwidth": 2,
            "linecolor": "white",
            "showbackground": true,
            "ticks": "",
            "zerolinecolor": "white"
           }
          },
          "shapedefaults": {
           "line": {
            "color": "#2a3f5f"
           }
          },
          "ternary": {
           "aaxis": {
            "gridcolor": "white",
            "linecolor": "white",
            "ticks": ""
           },
           "baxis": {
            "gridcolor": "white",
            "linecolor": "white",
            "ticks": ""
           },
           "bgcolor": "#E5ECF6",
           "caxis": {
            "gridcolor": "white",
            "linecolor": "white",
            "ticks": ""
           }
          },
          "title": {
           "x": 0.05
          },
          "xaxis": {
           "automargin": true,
           "gridcolor": "white",
           "linecolor": "white",
           "ticks": "",
           "title": {
            "standoff": 15
           },
           "zerolinecolor": "white",
           "zerolinewidth": 2
          },
          "yaxis": {
           "automargin": true,
           "gridcolor": "white",
           "linecolor": "white",
           "ticks": "",
           "title": {
            "standoff": 15
           },
           "zerolinecolor": "white",
           "zerolinewidth": 2
          }
         }
        },
        "title": {
         "text": "Boxing Career Longevity by Division"
        },
        "xaxis": {
         "anchor": "y",
         "domain": [
          0,
          1
         ],
         "title": {
          "text": "Career Start Year"
         }
        },
        "yaxis": {
         "anchor": "x",
         "domain": [
          0,
          1
         ],
         "title": {
          "text": "Longevity (Years)"
         }
        }
       }
      }
     },
     "metadata": {},
     "output_type": "display_data"
    }
   ],
   "source": [
    "fig = px.bar(\n",
    "    box_d4,\n",
    "    x=\"Beginning Year\",\n",
    "    y=\"Longevity\",\n",
    "    color=\"Division\",\n",
    "    hover_name=\"Name\",\n",
    "    title=\"Boxing Career Longevity by Division\",\n",
    "    labels={\"Longevity\": \"Longevity (Years)\", \"Beginning Year\": \"Career Start Year\"},\n",
    "    color_discrete_sequence=px.colors.qualitative.Alphabet\n",
    ")\n",
    "\n",
    "fig.update_layout(\n",
    "    plot_bgcolor='whitesmoke',\n",
    "    paper_bgcolor='whitesmoke',\n",
    "    font=dict(color='black'),\n",
    "    bargap=0.3\n",
    ")\n",
    "\n",
    "fig.update_layout(bargap=0.3)\n",
    "fig.show()"
   ]
  },
  {
   "cell_type": "markdown",
   "id": "e620566d",
   "metadata": {},
   "source": [
    "Using Wikipedia to find the birthdates of the fighters."
   ]
  },
  {
   "cell_type": "code",
   "execution_count": null,
   "id": "cdc4aaf0",
   "metadata": {},
   "outputs": [],
   "source": [
    "import wikipedia\n",
    "import re\n",
    "\n",
    "#Function for extracting birth year from Wikipedia summary\n",
    "def get_birth_year(name):\n",
    "    try:\n",
    "        search_results = wikipedia.search(name)\n",
    "        if not search_results:\n",
    "            return None\n",
    "\n",
    "        page_title = search_results[0]\n",
    "        summary = wikipedia.summary(page_title, sentences=3, auto_suggest=False)\n",
    "\n",
    "        # Comprehensive set of patterns to extract 4-digit birth years\n",
    "        patterns = [\n",
    "            r\"\\(born\\s+[A-Za-z]+\\s+\\d{1,2},\\s+(\\d{4})\",           # (born January 1, 1940)\n",
    "            r\"\\(born\\s+(\\d{4})\",                                  # (born 1940)\n",
    "            r\"\\bborn\\s+[A-Za-z]+\\s+\\d{1,2},\\s+(\\d{4})\",           # born January 1, 1940\n",
    "            r\"\\bborn\\s+in\\s+(\\d{4})\",                             # born in 1940\n",
    "            r\"\\bborn\\s+on\\s+[A-Za-z]+\\s+\\d{1,2},\\s+(\\d{4})\",      # born on January 1, 1940\n",
    "            r\"\\(b\\.\\s+(\\d{4})\",                                   # (b. 1940)\n",
    "            r\"\\(b\\.\\s+[A-Za-z]+\\s+\\d{1,2},\\s+(\\d{4})\",            # (b. January 1, 1940)\n",
    "            r\"\\bb\\.\\s+(\\d{4})\",                                   # b. 1940\n",
    "            r\"\\bb\\.\\s+[A-Za-z]+\\s+\\d{1,2},\\s+(\\d{4})\",            # b. January 1, 1940\n",
    "            r\"\\*\\s*(\\d{4})\",                                      # * 1940 (some lists use this for birth)\n",
    "            r\"\\b[Dd]ate\\s+of\\s+[Bb]irth.*?(\\d{4})\",               # Date of Birth ... 1940\n",
    "            r\"\\(.*?(\\d{4})\\s*–\",                                  # (1940 – 2021)\n",
    "            r\"\\(.*?(\\d{4})\\)\",                                    # (1940)\n",
    "            r\"\\b(\\d{4})\\s*–\\s*\\d{4}\",                             # 1940–2021\n",
    "            r\"\\bborn.*?(\\d{4})\",                                  # loose fallback: born ... 1940\n",
    "            r\"\\b(\\d{4})\\s*–\",                                     # 1940– (common in intro)\n",
    "        ]\n",
    "\n",
    "        for pattern in patterns:\n",
    "            match = re.search(pattern, summary)\n",
    "            if match:\n",
    "                year = match.group(1)\n",
    "                if year.isdigit() and 1800 < int(year) < 2025:\n",
    "                    return int(year)\n",
    "\n",
    "        return None\n",
    "\n",
    "    except Exception as e:\n",
    "        print(f\"{name}: {e}\")\n",
    "        return None"
   ]
  },
  {
   "cell_type": "code",
   "execution_count": 6,
   "id": "0a6e7525",
   "metadata": {},
   "outputs": [
    {
     "name": "stdout",
     "output_type": "stream",
     "text": [
      "     Rank                 Name     Division  Beginning Year  Longevity  \\\n",
      "0       1         Ray Robinson       middle            1940         25   \n",
      "1       2       Jimmy McLarnin       welter            1923         13   \n",
      "2       3  Floyd Mayweather Jr       welter            1996         21   \n",
      "3       4           Harry Greb       middle            1913         13   \n",
      "4       5        Carlos Monzon       middle            1963         14   \n",
      "..    ...                  ...          ...             ...        ...   \n",
      "220   221       Roman Gonzalez    super fly            2005         19   \n",
      "221   222      Sergio Martinez       middle            1997         26   \n",
      "222   223      Victor Galindez  light heavy            1969         11   \n",
      "223   224    California Jackie       welter            1936         13   \n",
      "224   225         Jimmy Carter        light            1946         14   \n",
      "\n",
      "                             Origin  Wins  Losses  Draws  Birth Year  \\\n",
      "0             Harlem, New York, USA   174      19      6        1921   \n",
      "1         Glendale, California, USA    55      11      3        1907   \n",
      "2            Las Vegas, Nevada, USA    50       0      0        1977   \n",
      "3     Pittsburgh, Pennsylvania, USA   265      19     17        1894   \n",
      "4     Santa Fe, Santa Fe, Argentina    87       3      9        1942   \n",
      "..                              ...   ...     ...    ...         ...   \n",
      "220              Managua, Nicaragua    52       4      0        1987   \n",
      "221                           Spain    57       3      2        1975   \n",
      "222  Moron, Buenos Aires, Argentina    55       9      4        1948   \n",
      "223    Los Angeles, California, USA    63      19      6        1918   \n",
      "224        The Bronx, New York, USA    85      31      9        1924   \n",
      "\n",
      "     Starting Age  Total Bouts     Win %  \n",
      "0              19          199  0.874372  \n",
      "1              16           69  0.797101  \n",
      "2              19           50  1.000000  \n",
      "3              19          301  0.880399  \n",
      "4              21           99  0.878788  \n",
      "..            ...          ...       ...  \n",
      "220            18           56  0.928571  \n",
      "221            22           62  0.919355  \n",
      "222            21           68  0.808824  \n",
      "223            18           88  0.715909  \n",
      "224            22          125  0.680000  \n",
      "\n",
      "[225 rows x 13 columns]\n"
     ]
    }
   ],
   "source": [
    "print(box_d4)\n",
    "\n"
   ]
  },
  {
   "cell_type": "markdown",
   "id": "0ebfd778",
   "metadata": {},
   "source": [
    "Encoding Features"
   ]
  },
  {
   "cell_type": "code",
   "execution_count": null,
   "id": "5af26a08",
   "metadata": {},
   "outputs": [
    {
     "data": {
      "text/plain": [
       "array([[10.0, 1, 'Ray Robinson', ..., 19, 199, 0.874371859],\n",
       "       [8.0, 2, 'Jimmy McLarnin', ..., 16, 69, 0.797101449],\n",
       "       [8.0, 3, 'Floyd Mayweather Jr', ..., 19, 50, 1.0],\n",
       "       ...,\n",
       "       [12.0, 223, 'Victor Galindez', ..., 21, 68, 0.808823529],\n",
       "       [8.0, 224, 'California Jackie', ..., 18, 88, 0.715909091],\n",
       "       [6.0, 225, 'Jimmy Carter', ..., 22, 125, 0.68]], dtype=object)"
      ]
     },
     "execution_count": 7,
     "metadata": {},
     "output_type": "execute_result"
    }
   ],
   "source": [
    "from sklearn.preprocessing import OneHotEncoder, OrdinalEncoder, LabelEncoder\n",
    "from sklearn.compose import ColumnTransformer\n",
    "\n",
    "# Create a list of divisions\n",
    "divisions = ['minimum', 'super fly','bantam','super bantam', 'feather', 'super feather',\n",
    "             'light', 'super light', 'welter','super welter', 'middle', 'super middle', 'light heavy', 'heavy']\n",
    "ord_features = ['Division']\n",
    "ordEnc = OrdinalEncoder(categories = [divisions])\n",
    "\n",
    "\n",
    "# Create a ColumnTransformer to apply the OrdinalEncoder to the specified columns\n",
    "coltrans = ColumnTransformer(\n",
    "    transformers=[\n",
    "        (\"ord\", ordEnc, ord_features),\n",
    "        ],\n",
    "    remainder = 'passthrough',\n",
    "    verbose_feature_names_out=False)\n",
    "\n",
    "\n",
    "X_trans = coltrans.fit_transform(box_d4)\n",
    "X_trans"
   ]
  },
  {
   "cell_type": "code",
   "execution_count": 8,
   "id": "938490c6",
   "metadata": {},
   "outputs": [
    {
     "data": {
      "text/plain": [
       "array(['Division', 'Rank', 'Name', 'Beginning Year', 'Longevity',\n",
       "       'Origin', 'Wins', 'Losses', 'Draws', 'Birth Year', 'Starting Age',\n",
       "       'Total Bouts', 'Win %'], dtype=object)"
      ]
     },
     "execution_count": 8,
     "metadata": {},
     "output_type": "execute_result"
    }
   ],
   "source": [
    "new_feature_names = coltrans.get_feature_names_out()\n",
    "new_feature_names"
   ]
  },
  {
   "cell_type": "markdown",
   "id": "f3f240cd",
   "metadata": {},
   "source": [
    "Create a New Dataframe with the encoded features"
   ]
  },
  {
   "cell_type": "code",
   "execution_count": 9,
   "id": "3d2f4273",
   "metadata": {},
   "outputs": [
    {
     "data": {
      "application/vnd.microsoft.datawrangler.viewer.v0+json": {
       "columns": [
        {
         "name": "index",
         "rawType": "int64",
         "type": "integer"
        },
        {
         "name": "Division",
         "rawType": "object",
         "type": "unknown"
        },
        {
         "name": "Rank",
         "rawType": "object",
         "type": "unknown"
        },
        {
         "name": "Name",
         "rawType": "object",
         "type": "string"
        },
        {
         "name": "Beginning Year",
         "rawType": "object",
         "type": "unknown"
        },
        {
         "name": "Longevity",
         "rawType": "object",
         "type": "unknown"
        },
        {
         "name": "Origin",
         "rawType": "object",
         "type": "string"
        },
        {
         "name": "Wins",
         "rawType": "object",
         "type": "unknown"
        },
        {
         "name": "Losses",
         "rawType": "object",
         "type": "unknown"
        },
        {
         "name": "Draws",
         "rawType": "object",
         "type": "unknown"
        },
        {
         "name": "Birth Year",
         "rawType": "object",
         "type": "unknown"
        },
        {
         "name": "Starting Age",
         "rawType": "object",
         "type": "unknown"
        },
        {
         "name": "Total Bouts",
         "rawType": "object",
         "type": "unknown"
        },
        {
         "name": "Win %",
         "rawType": "object",
         "type": "unknown"
        }
       ],
       "conversionMethod": "pd.DataFrame",
       "ref": "1618ae48-573c-457c-838b-140c063e10ae",
       "rows": [
        [
         "0",
         "10.0",
         "1",
         "Ray Robinson",
         "1940",
         "25",
         "Harlem, New York, USA",
         "174",
         "19",
         "6",
         "1921",
         "19",
         "199",
         "0.874371859"
        ],
        [
         "1",
         "8.0",
         "2",
         "Jimmy McLarnin",
         "1923",
         "13",
         "Glendale, California, USA",
         "55",
         "11",
         "3",
         "1907",
         "16",
         "69",
         "0.797101449"
        ],
        [
         "2",
         "8.0",
         "3",
         "Floyd Mayweather Jr",
         "1996",
         "21",
         "Las Vegas, Nevada, USA",
         "50",
         "0",
         "0",
         "1977",
         "19",
         "50",
         "1.0"
        ],
        [
         "3",
         "10.0",
         "4",
         "Harry Greb",
         "1913",
         "13",
         "Pittsburgh, Pennsylvania, USA",
         "265",
         "19",
         "17",
         "1894",
         "19",
         "301",
         "0.880398671"
        ],
        [
         "4",
         "10.0",
         "5",
         "Carlos Monzon",
         "1963",
         "14",
         "Santa Fe, Santa Fe, Argentina",
         "87",
         "3",
         "9",
         "1942",
         "21",
         "99",
         "0.878787879"
        ],
        [
         "5",
         "8.0",
         "6",
         "Henry Armstrong",
         "1931",
         "14",
         "Los Angeles, California, USA",
         "149",
         "21",
         "10",
         "1912",
         "19",
         "180",
         "0.827777778"
        ],
        [
         "6",
         "6.0",
         "7",
         "Benny Leonard",
         "1911",
         "21",
         "New York, New York, USA",
         "186",
         "20",
         "10",
         "1896",
         "15",
         "216",
         "0.861111111"
        ],
        [
         "7",
         "10.0",
         "8",
         "Marvin Hagler",
         "1973",
         "14",
         "Brockton, Massachusetts, USA",
         "62",
         "3",
         "2",
         "1954",
         "19",
         "67",
         "0.925373134"
        ],
        [
         "8",
         "13.0",
         "9",
         "Joe Louis",
         "1934",
         "17",
         "Detroit, Michigan, USA",
         "66",
         "3",
         "0",
         "1914",
         "20",
         "69",
         "0.956521739"
        ],
        [
         "9",
         "13.0",
         "10",
         "Muhammad Ali",
         "1960",
         "21",
         "Louisville, Kentucky, USA",
         "56",
         "5",
         "0",
         "1942",
         "18",
         "61",
         "0.918032787"
        ],
        [
         "10",
         "8.0",
         "11",
         "Jose Napoles",
         "1958",
         "17",
         "Ciudad Juarez, Chihuahua, Mexico",
         "81",
         "7",
         "0",
         "1940",
         "18",
         "88",
         "0.920454545"
        ],
        [
         "11",
         "6.0",
         "12",
         "Roberto Duran",
         "1968",
         "33",
         "Panama City, Panama",
         "103",
         "16",
         "0",
         "1951",
         "17",
         "119",
         "0.865546218"
        ],
        [
         "12",
         "7.0",
         "13",
         "Julio Cesar Chavez",
         "1980",
         "25",
         "Tijuana, Baja California, Mexico",
         "107",
         "6",
         "2",
         "1962",
         "18",
         "115",
         "0.930434783"
        ],
        [
         "13",
         "11.0",
         "14",
         "Saul Alvarez*",
         "2005",
         "19",
         "Guadalajara, Jalisco, Mexico",
         "62",
         "2",
         "2",
         "1990",
         "15",
         "66",
         "0.939393939"
        ],
        [
         "14",
         "10.0",
         "15",
         "Mike Gibbons",
         "1907",
         "15",
         "Saint Paul, Minnesota, USA",
         "112",
         "10",
         "11",
         "1887",
         "20",
         "133",
         "0.842105263"
        ],
        [
         "15",
         "12.0",
         "16",
         "Archie Moore",
         "1935",
         "28",
         "San Diego, California, USA",
         "186",
         "23",
         "10",
         "1913",
         "22",
         "219",
         "0.849315068"
        ],
        [
         "16",
         "8.0",
         "17",
         "Oscar De La Hoya",
         "1992",
         "16",
         "Los Angeles, California, USA",
         "39",
         "6",
         "0",
         "1973",
         "19",
         "45",
         "0.866666667"
        ],
        [
         "17",
         "5.0",
         "18",
         "Alexis Arguello",
         "1968",
         "27",
         "Managua, Nicaragua",
         "77",
         "8",
         "0",
         "1952",
         "16",
         "85",
         "0.905882353"
        ],
        [
         "18",
         "8.0",
         "19",
         "Manny Pacquiao",
         "1995",
         "26",
         "General Santos City, Cotabato del Sur, Philippines",
         "62",
         "8",
         "2",
         "1978",
         "17",
         "72",
         "0.861111111"
        ],
        [
         "19",
         "13.0",
         "20",
         "Gene Tunney",
         "1915",
         "13",
         "Greenwich, Connecticut, USA",
         "80",
         "1",
         "3",
         "1897",
         "18",
         "84",
         "0.952380952"
        ],
        [
         "20",
         "12.0",
         "21",
         "Roy Jones Jr",
         "1989",
         "34",
         "Pensacola, Florida, USA",
         "66",
         "10",
         "0",
         "1969",
         "20",
         "76",
         "0.868421053"
        ],
        [
         "21",
         "13.0",
         "22",
         "Ezzard Charles",
         "1940",
         "19",
         "Cincinnati, Ohio, USA",
         "95",
         "25",
         "1",
         "1921",
         "19",
         "121",
         "0.785123967"
        ],
        [
         "22",
         "6.0",
         "23",
         "Carlos Ortiz",
         "1955",
         "17",
         "New York, New York, USA",
         "61",
         "7",
         "1",
         "1936",
         "19",
         "69",
         "0.884057971"
        ],
        [
         "23",
         "10.0",
         "24",
         "Bernard Hopkins",
         "1988",
         "28",
         "Hockessin, Delaware, USA",
         "55",
         "8",
         "2",
         "1965",
         "23",
         "65",
         "0.846153846"
        ],
        [
         "24",
         "8.0",
         "25",
         "Young Corbett III",
         "1919",
         "21",
         "Fresno, California, USA",
         "124",
         "12",
         "20",
         "1905",
         "14",
         "156",
         "0.794871795"
        ],
        [
         "25",
         "8.0",
         "26",
         "Jackie Fields",
         "1925",
         "8",
         "Los Angeles, California, USA",
         "74",
         "9",
         "2",
         "1908",
         "17",
         "85",
         "0.870588235"
        ],
        [
         "26",
         "8.0",
         "27",
         "Ted Kid Lewis",
         "1909",
         "20",
         "St George's, London, United Kingdom",
         "231",
         "47",
         "22",
         "1894",
         "15",
         "300",
         "0.77"
        ],
        [
         "27",
         "8.0",
         "28",
         "Luis Rodriguez",
         "1956",
         "16",
         "Miami, Florida, USA",
         "107",
         "13",
         "0",
         "1937",
         "19",
         "120",
         "0.891666667"
        ],
        [
         "28",
         "6.0",
         "29",
         "Tony Canzoneri",
         "1925",
         "14",
         "New York, New York, USA",
         "141",
         "24",
         "10",
         "1908",
         "17",
         "175",
         "0.805714286"
        ],
        [
         "29",
         "10.0",
         "30",
         "Holman Williams",
         "1932",
         "16",
         "Detroit, Michigan, USA",
         "146",
         "31",
         "11",
         "1915",
         "17",
         "188",
         "0.776595745"
        ],
        [
         "30",
         "9.0",
         "31",
         "Terence Crawford",
         "2008",
         "16",
         "Omaha, Nebraska, USA",
         "41",
         "0",
         "0",
         "1987",
         "21",
         "41",
         "1.0"
        ],
        [
         "31",
         "7.0",
         "32",
         "Duilio Loi",
         "1948",
         "14",
         "Milan, Lombardia, Italy",
         "115",
         "3",
         "8",
         "1929",
         "19",
         "126",
         "0.912698413"
        ],
        [
         "32",
         "8.0",
         "33",
         "Barney Ross",
         "1929",
         "9",
         "Chicago, Illinois, USA",
         "74",
         "4",
         "3",
         "1909",
         "20",
         "81",
         "0.913580247"
        ],
        [
         "33",
         "10.0",
         "34",
         "Charley Burley",
         "1936",
         "14",
         "Pittsburgh, Pennsylvania, USA",
         "83",
         "12",
         "2",
         "1917",
         "19",
         "97",
         "0.855670103"
        ],
        [
         "34",
         "13.0",
         "35",
         "Lennox Lewis",
         "1989",
         "14",
         "West Ham, London, United Kingdom",
         "41",
         "2",
         "1",
         "1965",
         "24",
         "44",
         "0.931818182"
        ],
        [
         "35",
         "10.0",
         "36",
         "Mickey Walker",
         "1919",
         "16",
         "Elizabeth, New Jersey, USA",
         "128",
         "26",
         "8",
         "1901",
         "18",
         "162",
         "0.790123457"
        ],
        [
         "36",
         "8.0",
         "37",
         "Jack Britton",
         "1904",
         "26",
         "Clinton, New York, USA",
         "239",
         "60",
         "45",
         "1885",
         "19",
         "344",
         "0.694767442"
        ],
        [
         "37",
         "6.0",
         "38",
         "Ike Williams",
         "1940",
         "15",
         "Trenton, New Jersey, USA",
         "128",
         "24",
         "5",
         "1923",
         "17",
         "157",
         "0.815286624"
        ],
        [
         "38",
         "8.0",
         "39",
         "Ray Leonard",
         "1977",
         "20",
         "Palmer Park, Maryland, USA",
         "36",
         "3",
         "1",
         "1956",
         "21",
         "40",
         "0.9"
        ],
        [
         "39",
         "9.0",
         "40",
         "Mike McCallum",
         "1981",
         "16",
         "New York, New York, USA",
         "49",
         "5",
         "1",
         "1956",
         "25",
         "55",
         "0.890909091"
        ],
        [
         "40",
         "10.0",
         "41",
         "Gennadiy Golovkin",
         "2006",
         "16",
         "Los Angeles, California, USA",
         "42",
         "2",
         "1",
         "1982",
         "24",
         "45",
         "0.933333333"
        ],
        [
         "41",
         "3.0",
         "42",
         "Naoya Inoue*",
         "2012",
         "13",
         "Yokohama, Kanagawa, Japan",
         "29",
         "0",
         "0",
         "1993",
         "19",
         "29",
         "1.0"
        ],
        [
         "42",
         "7.0",
         "43",
         "Nicolino Locche",
         "1958",
         "18",
         "Buenos Aires, Distrito Federal, Argentina",
         "117",
         "4",
         "14",
         "1939",
         "19",
         "135",
         "0.866666667"
        ],
        [
         "43",
         "9.0",
         "44",
         "Thomas Hearns",
         "1977",
         "29",
         "Detroit, Michigan, USA",
         "61",
         "5",
         "1",
         "1958",
         "19",
         "67",
         "0.910447761"
        ],
        [
         "44",
         "10.0",
         "45",
         "Marcel Thil",
         "1922",
         "15",
         "Cannes, Alpes-Maritimes, France",
         "106",
         "20",
         "10",
         "1904",
         "18",
         "136",
         "0.779411765"
        ],
        [
         "45",
         "8.0",
         "46",
         "Dave Shade",
         "1918",
         "17",
         "Concord, California, USA",
         "155",
         "30",
         "62",
         "1902",
         "16",
         "247",
         "0.627530364"
        ],
        [
         "46",
         "11.0",
         "47",
         "Joe Calzaghe",
         "1993",
         "15",
         "Newbridge, Wales, United Kingdom",
         "46",
         "0",
         "0",
         "1972",
         "21",
         "46",
         "1.0"
        ],
        [
         "47",
         "10.0",
         "48",
         "Emile Griffith",
         "1958",
         "19",
         "New York, New York, USA",
         "85",
         "24",
         "2",
         "1938",
         "20",
         "111",
         "0.765765766"
        ],
        [
         "48",
         "10.0",
         "49",
         "Charles Humez",
         "1948",
         "10",
         "Mericourt, Pas-de-Calais, France",
         "94",
         "7",
         "1",
         "1928",
         "20",
         "102",
         "0.921568627"
        ],
        [
         "49",
         "8.0",
         "50",
         "Felix Trinidad",
         "1990",
         "18",
         "San Juan, Puerto Rico",
         "42",
         "3",
         "0",
         "1973",
         "17",
         "45",
         "0.933333333"
        ]
       ],
       "shape": {
        "columns": 13,
        "rows": 225
       }
      },
      "text/html": [
       "<div>\n",
       "<style scoped>\n",
       "    .dataframe tbody tr th:only-of-type {\n",
       "        vertical-align: middle;\n",
       "    }\n",
       "\n",
       "    .dataframe tbody tr th {\n",
       "        vertical-align: top;\n",
       "    }\n",
       "\n",
       "    .dataframe thead th {\n",
       "        text-align: right;\n",
       "    }\n",
       "</style>\n",
       "<table border=\"1\" class=\"dataframe\">\n",
       "  <thead>\n",
       "    <tr style=\"text-align: right;\">\n",
       "      <th></th>\n",
       "      <th>Division</th>\n",
       "      <th>Rank</th>\n",
       "      <th>Name</th>\n",
       "      <th>Beginning Year</th>\n",
       "      <th>Longevity</th>\n",
       "      <th>Origin</th>\n",
       "      <th>Wins</th>\n",
       "      <th>Losses</th>\n",
       "      <th>Draws</th>\n",
       "      <th>Birth Year</th>\n",
       "      <th>Starting Age</th>\n",
       "      <th>Total Bouts</th>\n",
       "      <th>Win %</th>\n",
       "    </tr>\n",
       "  </thead>\n",
       "  <tbody>\n",
       "    <tr>\n",
       "      <th>0</th>\n",
       "      <td>10.0</td>\n",
       "      <td>1</td>\n",
       "      <td>Ray Robinson</td>\n",
       "      <td>1940</td>\n",
       "      <td>25</td>\n",
       "      <td>Harlem, New York, USA</td>\n",
       "      <td>174</td>\n",
       "      <td>19</td>\n",
       "      <td>6</td>\n",
       "      <td>1921</td>\n",
       "      <td>19</td>\n",
       "      <td>199</td>\n",
       "      <td>0.874372</td>\n",
       "    </tr>\n",
       "    <tr>\n",
       "      <th>1</th>\n",
       "      <td>8.0</td>\n",
       "      <td>2</td>\n",
       "      <td>Jimmy McLarnin</td>\n",
       "      <td>1923</td>\n",
       "      <td>13</td>\n",
       "      <td>Glendale, California, USA</td>\n",
       "      <td>55</td>\n",
       "      <td>11</td>\n",
       "      <td>3</td>\n",
       "      <td>1907</td>\n",
       "      <td>16</td>\n",
       "      <td>69</td>\n",
       "      <td>0.797101</td>\n",
       "    </tr>\n",
       "    <tr>\n",
       "      <th>2</th>\n",
       "      <td>8.0</td>\n",
       "      <td>3</td>\n",
       "      <td>Floyd Mayweather Jr</td>\n",
       "      <td>1996</td>\n",
       "      <td>21</td>\n",
       "      <td>Las Vegas, Nevada, USA</td>\n",
       "      <td>50</td>\n",
       "      <td>0</td>\n",
       "      <td>0</td>\n",
       "      <td>1977</td>\n",
       "      <td>19</td>\n",
       "      <td>50</td>\n",
       "      <td>1.0</td>\n",
       "    </tr>\n",
       "    <tr>\n",
       "      <th>3</th>\n",
       "      <td>10.0</td>\n",
       "      <td>4</td>\n",
       "      <td>Harry Greb</td>\n",
       "      <td>1913</td>\n",
       "      <td>13</td>\n",
       "      <td>Pittsburgh, Pennsylvania, USA</td>\n",
       "      <td>265</td>\n",
       "      <td>19</td>\n",
       "      <td>17</td>\n",
       "      <td>1894</td>\n",
       "      <td>19</td>\n",
       "      <td>301</td>\n",
       "      <td>0.880399</td>\n",
       "    </tr>\n",
       "    <tr>\n",
       "      <th>4</th>\n",
       "      <td>10.0</td>\n",
       "      <td>5</td>\n",
       "      <td>Carlos Monzon</td>\n",
       "      <td>1963</td>\n",
       "      <td>14</td>\n",
       "      <td>Santa Fe, Santa Fe, Argentina</td>\n",
       "      <td>87</td>\n",
       "      <td>3</td>\n",
       "      <td>9</td>\n",
       "      <td>1942</td>\n",
       "      <td>21</td>\n",
       "      <td>99</td>\n",
       "      <td>0.878788</td>\n",
       "    </tr>\n",
       "    <tr>\n",
       "      <th>...</th>\n",
       "      <td>...</td>\n",
       "      <td>...</td>\n",
       "      <td>...</td>\n",
       "      <td>...</td>\n",
       "      <td>...</td>\n",
       "      <td>...</td>\n",
       "      <td>...</td>\n",
       "      <td>...</td>\n",
       "      <td>...</td>\n",
       "      <td>...</td>\n",
       "      <td>...</td>\n",
       "      <td>...</td>\n",
       "      <td>...</td>\n",
       "    </tr>\n",
       "    <tr>\n",
       "      <th>220</th>\n",
       "      <td>1.0</td>\n",
       "      <td>221</td>\n",
       "      <td>Roman Gonzalez</td>\n",
       "      <td>2005</td>\n",
       "      <td>19</td>\n",
       "      <td>Managua, Nicaragua</td>\n",
       "      <td>52</td>\n",
       "      <td>4</td>\n",
       "      <td>0</td>\n",
       "      <td>1987</td>\n",
       "      <td>18</td>\n",
       "      <td>56</td>\n",
       "      <td>0.928571</td>\n",
       "    </tr>\n",
       "    <tr>\n",
       "      <th>221</th>\n",
       "      <td>10.0</td>\n",
       "      <td>222</td>\n",
       "      <td>Sergio Martinez</td>\n",
       "      <td>1997</td>\n",
       "      <td>26</td>\n",
       "      <td>Spain</td>\n",
       "      <td>57</td>\n",
       "      <td>3</td>\n",
       "      <td>2</td>\n",
       "      <td>1975</td>\n",
       "      <td>22</td>\n",
       "      <td>62</td>\n",
       "      <td>0.919355</td>\n",
       "    </tr>\n",
       "    <tr>\n",
       "      <th>222</th>\n",
       "      <td>12.0</td>\n",
       "      <td>223</td>\n",
       "      <td>Victor Galindez</td>\n",
       "      <td>1969</td>\n",
       "      <td>11</td>\n",
       "      <td>Moron, Buenos Aires, Argentina</td>\n",
       "      <td>55</td>\n",
       "      <td>9</td>\n",
       "      <td>4</td>\n",
       "      <td>1948</td>\n",
       "      <td>21</td>\n",
       "      <td>68</td>\n",
       "      <td>0.808824</td>\n",
       "    </tr>\n",
       "    <tr>\n",
       "      <th>223</th>\n",
       "      <td>8.0</td>\n",
       "      <td>224</td>\n",
       "      <td>California Jackie</td>\n",
       "      <td>1936</td>\n",
       "      <td>13</td>\n",
       "      <td>Los Angeles, California, USA</td>\n",
       "      <td>63</td>\n",
       "      <td>19</td>\n",
       "      <td>6</td>\n",
       "      <td>1918</td>\n",
       "      <td>18</td>\n",
       "      <td>88</td>\n",
       "      <td>0.715909</td>\n",
       "    </tr>\n",
       "    <tr>\n",
       "      <th>224</th>\n",
       "      <td>6.0</td>\n",
       "      <td>225</td>\n",
       "      <td>Jimmy Carter</td>\n",
       "      <td>1946</td>\n",
       "      <td>14</td>\n",
       "      <td>The Bronx, New York, USA</td>\n",
       "      <td>85</td>\n",
       "      <td>31</td>\n",
       "      <td>9</td>\n",
       "      <td>1924</td>\n",
       "      <td>22</td>\n",
       "      <td>125</td>\n",
       "      <td>0.68</td>\n",
       "    </tr>\n",
       "  </tbody>\n",
       "</table>\n",
       "<p>225 rows × 13 columns</p>\n",
       "</div>"
      ],
      "text/plain": [
       "    Division Rank                 Name Beginning Year Longevity  \\\n",
       "0       10.0    1         Ray Robinson           1940        25   \n",
       "1        8.0    2       Jimmy McLarnin           1923        13   \n",
       "2        8.0    3  Floyd Mayweather Jr           1996        21   \n",
       "3       10.0    4           Harry Greb           1913        13   \n",
       "4       10.0    5        Carlos Monzon           1963        14   \n",
       "..       ...  ...                  ...            ...       ...   \n",
       "220      1.0  221       Roman Gonzalez           2005        19   \n",
       "221     10.0  222      Sergio Martinez           1997        26   \n",
       "222     12.0  223      Victor Galindez           1969        11   \n",
       "223      8.0  224    California Jackie           1936        13   \n",
       "224      6.0  225         Jimmy Carter           1946        14   \n",
       "\n",
       "                             Origin Wins Losses Draws Birth Year Starting Age  \\\n",
       "0             Harlem, New York, USA  174     19     6       1921           19   \n",
       "1         Glendale, California, USA   55     11     3       1907           16   \n",
       "2            Las Vegas, Nevada, USA   50      0     0       1977           19   \n",
       "3     Pittsburgh, Pennsylvania, USA  265     19    17       1894           19   \n",
       "4     Santa Fe, Santa Fe, Argentina   87      3     9       1942           21   \n",
       "..                              ...  ...    ...   ...        ...          ...   \n",
       "220              Managua, Nicaragua   52      4     0       1987           18   \n",
       "221                           Spain   57      3     2       1975           22   \n",
       "222  Moron, Buenos Aires, Argentina   55      9     4       1948           21   \n",
       "223    Los Angeles, California, USA   63     19     6       1918           18   \n",
       "224        The Bronx, New York, USA   85     31     9       1924           22   \n",
       "\n",
       "    Total Bouts     Win %  \n",
       "0           199  0.874372  \n",
       "1            69  0.797101  \n",
       "2            50       1.0  \n",
       "3           301  0.880399  \n",
       "4            99  0.878788  \n",
       "..          ...       ...  \n",
       "220          56  0.928571  \n",
       "221          62  0.919355  \n",
       "222          68  0.808824  \n",
       "223          88  0.715909  \n",
       "224         125      0.68  \n",
       "\n",
       "[225 rows x 13 columns]"
      ]
     },
     "execution_count": 9,
     "metadata": {},
     "output_type": "execute_result"
    }
   ],
   "source": [
    "boxing_d2 = pd.DataFrame(X_trans, columns = new_feature_names)\n",
    "boxing_d2"
   ]
  },
  {
   "cell_type": "code",
   "execution_count": 10,
   "id": "3c63e960",
   "metadata": {},
   "outputs": [
    {
     "name": "stdout",
     "output_type": "stream",
     "text": [
      "    Division Rank                 Name Beginning Year Longevity  \\\n",
      "0       10.0    1         Ray Robinson           1940        25   \n",
      "1        8.0    2       Jimmy McLarnin           1923        13   \n",
      "2        8.0    3  Floyd Mayweather Jr           1996        21   \n",
      "3       10.0    4           Harry Greb           1913        13   \n",
      "4       10.0    5        Carlos Monzon           1963        14   \n",
      "..       ...  ...                  ...            ...       ...   \n",
      "220      1.0  221       Roman Gonzalez           2005        19   \n",
      "221     10.0  222      Sergio Martinez           1997        26   \n",
      "222     12.0  223      Victor Galindez           1969        11   \n",
      "223      8.0  224    California Jackie           1936        13   \n",
      "224      6.0  225         Jimmy Carter           1946        14   \n",
      "\n",
      "                             Origin Wins Losses Draws Birth Year Starting Age  \\\n",
      "0             Harlem, New York, USA  174     19     6       1921           19   \n",
      "1         Glendale, California, USA   55     11     3       1907           16   \n",
      "2            Las Vegas, Nevada, USA   50      0     0       1977           19   \n",
      "3     Pittsburgh, Pennsylvania, USA  265     19    17       1894           19   \n",
      "4     Santa Fe, Santa Fe, Argentina   87      3     9       1942           21   \n",
      "..                              ...  ...    ...   ...        ...          ...   \n",
      "220              Managua, Nicaragua   52      4     0       1987           18   \n",
      "221                           Spain   57      3     2       1975           22   \n",
      "222  Moron, Buenos Aires, Argentina   55      9     4       1948           21   \n",
      "223    Los Angeles, California, USA   63     19     6       1918           18   \n",
      "224        The Bronx, New York, USA   85     31     9       1924           22   \n",
      "\n",
      "    Total Bouts     Win %  \n",
      "0           199  0.874372  \n",
      "1            69  0.797101  \n",
      "2            50       1.0  \n",
      "3           301  0.880399  \n",
      "4            99  0.878788  \n",
      "..          ...       ...  \n",
      "220          56  0.928571  \n",
      "221          62  0.919355  \n",
      "222          68  0.808824  \n",
      "223          88  0.715909  \n",
      "224         125      0.68  \n",
      "\n",
      "[225 rows x 13 columns]\n"
     ]
    }
   ],
   "source": [
    "print(boxing_d2)"
   ]
  },
  {
   "cell_type": "markdown",
   "id": "58e8d310",
   "metadata": {},
   "source": [
    "Check the minimum and maximum values for outliers "
   ]
  },
  {
   "cell_type": "code",
   "execution_count": 11,
   "id": "8df9855e",
   "metadata": {},
   "outputs": [
    {
     "data": {
      "text/plain": [
       "(10, 31)"
      ]
     },
     "execution_count": 11,
     "metadata": {},
     "output_type": "execute_result"
    }
   ],
   "source": [
    "boxing_d2['Starting Age'].min(), boxing_d2['Starting Age'].max()"
   ]
  },
  {
   "cell_type": "markdown",
   "id": "9662682d",
   "metadata": {},
   "source": [
    "Model validation/ Selection"
   ]
  },
  {
   "cell_type": "markdown",
   "id": "aa6169f6",
   "metadata": {},
   "source": [
    "Standardization and Scaling "
   ]
  },
  {
   "cell_type": "code",
   "execution_count": 38,
   "id": "77dc8892",
   "metadata": {},
   "outputs": [
    {
     "data": {
      "application/vnd.microsoft.datawrangler.viewer.v0+json": {
       "columns": [
        {
         "name": "index",
         "rawType": "int64",
         "type": "integer"
        },
        {
         "name": "Division",
         "rawType": "object",
         "type": "unknown"
        },
        {
         "name": "Beginning Year",
         "rawType": "object",
         "type": "unknown"
        },
        {
         "name": "Longevity",
         "rawType": "object",
         "type": "unknown"
        },
        {
         "name": "Birth Year",
         "rawType": "object",
         "type": "unknown"
        },
        {
         "name": "Starting Age",
         "rawType": "object",
         "type": "unknown"
        }
       ],
       "conversionMethod": "pd.DataFrame",
       "ref": "621a2f63-d64e-431e-b5fb-51871680a6e9",
       "rows": [
        [
         "0",
         "10.0",
         "1940",
         "25",
         "1921",
         "19"
        ],
        [
         "1",
         "8.0",
         "1923",
         "13",
         "1907",
         "16"
        ],
        [
         "2",
         "8.0",
         "1996",
         "21",
         "1977",
         "19"
        ],
        [
         "3",
         "10.0",
         "1913",
         "13",
         "1894",
         "19"
        ],
        [
         "4",
         "10.0",
         "1963",
         "14",
         "1942",
         "21"
        ],
        [
         "5",
         "8.0",
         "1931",
         "14",
         "1912",
         "19"
        ],
        [
         "6",
         "6.0",
         "1911",
         "21",
         "1896",
         "15"
        ],
        [
         "7",
         "10.0",
         "1973",
         "14",
         "1954",
         "19"
        ],
        [
         "8",
         "13.0",
         "1934",
         "17",
         "1914",
         "20"
        ],
        [
         "9",
         "13.0",
         "1960",
         "21",
         "1942",
         "18"
        ],
        [
         "10",
         "8.0",
         "1958",
         "17",
         "1940",
         "18"
        ],
        [
         "11",
         "6.0",
         "1968",
         "33",
         "1951",
         "17"
        ],
        [
         "12",
         "7.0",
         "1980",
         "25",
         "1962",
         "18"
        ],
        [
         "13",
         "11.0",
         "2005",
         "19",
         "1990",
         "15"
        ],
        [
         "14",
         "10.0",
         "1907",
         "15",
         "1887",
         "20"
        ],
        [
         "15",
         "12.0",
         "1935",
         "28",
         "1913",
         "22"
        ],
        [
         "16",
         "8.0",
         "1992",
         "16",
         "1973",
         "19"
        ],
        [
         "17",
         "5.0",
         "1968",
         "27",
         "1952",
         "16"
        ],
        [
         "18",
         "8.0",
         "1995",
         "26",
         "1978",
         "17"
        ],
        [
         "19",
         "13.0",
         "1915",
         "13",
         "1897",
         "18"
        ],
        [
         "20",
         "12.0",
         "1989",
         "34",
         "1969",
         "20"
        ],
        [
         "21",
         "13.0",
         "1940",
         "19",
         "1921",
         "19"
        ],
        [
         "22",
         "6.0",
         "1955",
         "17",
         "1936",
         "19"
        ],
        [
         "23",
         "10.0",
         "1988",
         "28",
         "1965",
         "23"
        ],
        [
         "24",
         "8.0",
         "1919",
         "21",
         "1905",
         "14"
        ],
        [
         "25",
         "8.0",
         "1925",
         "8",
         "1908",
         "17"
        ],
        [
         "26",
         "8.0",
         "1909",
         "20",
         "1894",
         "15"
        ],
        [
         "27",
         "8.0",
         "1956",
         "16",
         "1937",
         "19"
        ],
        [
         "28",
         "6.0",
         "1925",
         "14",
         "1908",
         "17"
        ],
        [
         "29",
         "10.0",
         "1932",
         "16",
         "1915",
         "17"
        ],
        [
         "30",
         "9.0",
         "2008",
         "16",
         "1987",
         "21"
        ],
        [
         "31",
         "7.0",
         "1948",
         "14",
         "1929",
         "19"
        ],
        [
         "32",
         "8.0",
         "1929",
         "9",
         "1909",
         "20"
        ],
        [
         "33",
         "10.0",
         "1936",
         "14",
         "1917",
         "19"
        ],
        [
         "34",
         "13.0",
         "1989",
         "14",
         "1965",
         "24"
        ],
        [
         "35",
         "10.0",
         "1919",
         "16",
         "1901",
         "18"
        ],
        [
         "36",
         "8.0",
         "1904",
         "26",
         "1885",
         "19"
        ],
        [
         "37",
         "6.0",
         "1940",
         "15",
         "1923",
         "17"
        ],
        [
         "38",
         "8.0",
         "1977",
         "20",
         "1956",
         "21"
        ],
        [
         "39",
         "9.0",
         "1981",
         "16",
         "1956",
         "25"
        ],
        [
         "40",
         "10.0",
         "2006",
         "16",
         "1982",
         "24"
        ],
        [
         "41",
         "3.0",
         "2012",
         "13",
         "1993",
         "19"
        ],
        [
         "42",
         "7.0",
         "1958",
         "18",
         "1939",
         "19"
        ],
        [
         "43",
         "9.0",
         "1977",
         "29",
         "1958",
         "19"
        ],
        [
         "44",
         "10.0",
         "1922",
         "15",
         "1904",
         "18"
        ],
        [
         "45",
         "8.0",
         "1918",
         "17",
         "1902",
         "16"
        ],
        [
         "46",
         "11.0",
         "1993",
         "15",
         "1972",
         "21"
        ],
        [
         "47",
         "10.0",
         "1958",
         "19",
         "1938",
         "20"
        ],
        [
         "48",
         "10.0",
         "1948",
         "10",
         "1928",
         "20"
        ],
        [
         "49",
         "8.0",
         "1990",
         "18",
         "1973",
         "17"
        ]
       ],
       "shape": {
        "columns": 5,
        "rows": 225
       }
      },
      "text/html": [
       "<div>\n",
       "<style scoped>\n",
       "    .dataframe tbody tr th:only-of-type {\n",
       "        vertical-align: middle;\n",
       "    }\n",
       "\n",
       "    .dataframe tbody tr th {\n",
       "        vertical-align: top;\n",
       "    }\n",
       "\n",
       "    .dataframe thead th {\n",
       "        text-align: right;\n",
       "    }\n",
       "</style>\n",
       "<table border=\"1\" class=\"dataframe\">\n",
       "  <thead>\n",
       "    <tr style=\"text-align: right;\">\n",
       "      <th></th>\n",
       "      <th>Division</th>\n",
       "      <th>Beginning Year</th>\n",
       "      <th>Longevity</th>\n",
       "      <th>Birth Year</th>\n",
       "      <th>Starting Age</th>\n",
       "    </tr>\n",
       "  </thead>\n",
       "  <tbody>\n",
       "    <tr>\n",
       "      <th>0</th>\n",
       "      <td>10.0</td>\n",
       "      <td>1940</td>\n",
       "      <td>25</td>\n",
       "      <td>1921</td>\n",
       "      <td>19</td>\n",
       "    </tr>\n",
       "    <tr>\n",
       "      <th>1</th>\n",
       "      <td>8.0</td>\n",
       "      <td>1923</td>\n",
       "      <td>13</td>\n",
       "      <td>1907</td>\n",
       "      <td>16</td>\n",
       "    </tr>\n",
       "    <tr>\n",
       "      <th>2</th>\n",
       "      <td>8.0</td>\n",
       "      <td>1996</td>\n",
       "      <td>21</td>\n",
       "      <td>1977</td>\n",
       "      <td>19</td>\n",
       "    </tr>\n",
       "    <tr>\n",
       "      <th>3</th>\n",
       "      <td>10.0</td>\n",
       "      <td>1913</td>\n",
       "      <td>13</td>\n",
       "      <td>1894</td>\n",
       "      <td>19</td>\n",
       "    </tr>\n",
       "    <tr>\n",
       "      <th>4</th>\n",
       "      <td>10.0</td>\n",
       "      <td>1963</td>\n",
       "      <td>14</td>\n",
       "      <td>1942</td>\n",
       "      <td>21</td>\n",
       "    </tr>\n",
       "    <tr>\n",
       "      <th>...</th>\n",
       "      <td>...</td>\n",
       "      <td>...</td>\n",
       "      <td>...</td>\n",
       "      <td>...</td>\n",
       "      <td>...</td>\n",
       "    </tr>\n",
       "    <tr>\n",
       "      <th>220</th>\n",
       "      <td>1.0</td>\n",
       "      <td>2005</td>\n",
       "      <td>19</td>\n",
       "      <td>1987</td>\n",
       "      <td>18</td>\n",
       "    </tr>\n",
       "    <tr>\n",
       "      <th>221</th>\n",
       "      <td>10.0</td>\n",
       "      <td>1997</td>\n",
       "      <td>26</td>\n",
       "      <td>1975</td>\n",
       "      <td>22</td>\n",
       "    </tr>\n",
       "    <tr>\n",
       "      <th>222</th>\n",
       "      <td>12.0</td>\n",
       "      <td>1969</td>\n",
       "      <td>11</td>\n",
       "      <td>1948</td>\n",
       "      <td>21</td>\n",
       "    </tr>\n",
       "    <tr>\n",
       "      <th>223</th>\n",
       "      <td>8.0</td>\n",
       "      <td>1936</td>\n",
       "      <td>13</td>\n",
       "      <td>1918</td>\n",
       "      <td>18</td>\n",
       "    </tr>\n",
       "    <tr>\n",
       "      <th>224</th>\n",
       "      <td>6.0</td>\n",
       "      <td>1946</td>\n",
       "      <td>14</td>\n",
       "      <td>1924</td>\n",
       "      <td>22</td>\n",
       "    </tr>\n",
       "  </tbody>\n",
       "</table>\n",
       "<p>225 rows × 5 columns</p>\n",
       "</div>"
      ],
      "text/plain": [
       "    Division Beginning Year Longevity Birth Year Starting Age\n",
       "0       10.0           1940        25       1921           19\n",
       "1        8.0           1923        13       1907           16\n",
       "2        8.0           1996        21       1977           19\n",
       "3       10.0           1913        13       1894           19\n",
       "4       10.0           1963        14       1942           21\n",
       "..       ...            ...       ...        ...          ...\n",
       "220      1.0           2005        19       1987           18\n",
       "221     10.0           1997        26       1975           22\n",
       "222     12.0           1969        11       1948           21\n",
       "223      8.0           1936        13       1918           18\n",
       "224      6.0           1946        14       1924           22\n",
       "\n",
       "[225 rows x 5 columns]"
      ]
     },
     "execution_count": 38,
     "metadata": {},
     "output_type": "execute_result"
    }
   ],
   "source": [
    "from sklearn.model_selection import train_test_split\n",
    "from sklearn.preprocessing import StandardScaler\n",
    "\n",
    "X = boxing_d2.drop(columns=[\"Rank\",\"Win %\", \"Name\", \"Origin\",\"Wins\",\"Losses\",\"Draws\",\"Total Bouts\"])  # replace with your actual target\n",
    "y = boxing_d2[\"Win %\"]\n",
    "\n",
    "feature_names = X.columns\n",
    "\n",
    "X_train, X_test, y_train, y_test = train_test_split(X, y, test_size=0.2, random_state=42)\n",
    "\n",
    "scaler = StandardScaler()\n",
    "X_train_scaled = scaler.fit_transform(X_train)\n",
    "X_test_scaled = scaler.transform(X_test)\n",
    "X"
   ]
  },
  {
   "cell_type": "markdown",
   "id": "189ee7e6",
   "metadata": {},
   "source": [
    "ElasticNet"
   ]
  },
  {
   "cell_type": "code",
   "execution_count": 39,
   "id": "0a4f2c40",
   "metadata": {},
   "outputs": [
    {
     "name": "stdout",
     "output_type": "stream",
     "text": [
      "ElasticNet R²: 0.3913066558716891\n",
      "ElasticNet RMSE: 0.07893752155448257\n",
      "Feature: Division, Coefficient: 0.0\n",
      "Feature: Beginning Year, Coefficient: 0.05227019374638879\n",
      "Feature: Longevity, Coefficient: -0.015237887588237516\n",
      "Feature: Birth Year, Coefficient: 0.0\n",
      "Feature: Starting Age, Coefficient: 0.00264571108050764\n"
     ]
    },
    {
     "name": "stderr",
     "output_type": "stream",
     "text": [
      "/opt/anaconda3/lib/python3.12/site-packages/sklearn/metrics/_regression.py:483: FutureWarning:\n",
      "\n",
      "'squared' is deprecated in version 1.4 and will be removed in 1.6. To calculate the root mean squared error, use the function'root_mean_squared_error'.\n",
      "\n"
     ]
    }
   ],
   "source": [
    "from sklearn.linear_model import ElasticNetCV\n",
    "from sklearn.metrics import mean_squared_error, r2_score\n",
    "\n",
    "enet = ElasticNetCV(cv=5, random_state=42)\n",
    "enet.fit(X_train_scaled, y_train)\n",
    "\n",
    "y_pred_enet = enet.predict(X_test_scaled)\n",
    "\n",
    "print(\"ElasticNet R²:\", r2_score(y_test, y_pred_enet))\n",
    "print(\"ElasticNet RMSE:\", mean_squared_error(y_test, y_pred_enet, squared=False))\n",
    "\n",
    "for feature, coef in zip(feature_names, enet.coef_):\n",
    "    print(f\"Feature: {feature}, Coefficient: {coef}\")"
   ]
  },
  {
   "cell_type": "markdown",
   "id": "285567d8",
   "metadata": {},
   "source": [
    "ElasticNet Feature Importance"
   ]
  },
  {
   "cell_type": "code",
   "execution_count": 45,
   "id": "53e919fb",
   "metadata": {},
   "outputs": [
    {
     "data": {
      "application/vnd.plotly.v1+json": {
       "config": {
        "plotlyServerURL": "https://plot.ly"
       },
       "data": [
        {
         "alignmentgroup": "True",
         "hovertemplate": "Model Coefficient=%{text}<br>Feature=%{y}<extra></extra>",
         "legendgroup": "",
         "marker": {
          "color": "#636efa",
          "pattern": {
           "shape": ""
          }
         },
         "name": "",
         "offsetgroup": "",
         "orientation": "h",
         "showlegend": false,
         "text": [
          0.05227019374638879,
          0.00264571108050764,
          0,
          0,
          -0.015237887588237516
         ],
         "textposition": "auto",
         "type": "bar",
         "x": [
          0.05227019374638879,
          0.00264571108050764,
          0,
          0,
          -0.015237887588237516
         ],
         "xaxis": "x",
         "y": [
          "Beginning Year",
          "Starting Age",
          "Division",
          "Birth Year",
          "Longevity"
         ],
         "yaxis": "y"
        }
       ],
       "layout": {
        "barmode": "relative",
        "legend": {
         "tracegroupgap": 0
        },
        "template": {
         "data": {
          "bar": [
           {
            "error_x": {
             "color": "#2a3f5f"
            },
            "error_y": {
             "color": "#2a3f5f"
            },
            "marker": {
             "line": {
              "color": "#E5ECF6",
              "width": 0.5
             },
             "pattern": {
              "fillmode": "overlay",
              "size": 10,
              "solidity": 0.2
             }
            },
            "type": "bar"
           }
          ],
          "barpolar": [
           {
            "marker": {
             "line": {
              "color": "#E5ECF6",
              "width": 0.5
             },
             "pattern": {
              "fillmode": "overlay",
              "size": 10,
              "solidity": 0.2
             }
            },
            "type": "barpolar"
           }
          ],
          "carpet": [
           {
            "aaxis": {
             "endlinecolor": "#2a3f5f",
             "gridcolor": "white",
             "linecolor": "white",
             "minorgridcolor": "white",
             "startlinecolor": "#2a3f5f"
            },
            "baxis": {
             "endlinecolor": "#2a3f5f",
             "gridcolor": "white",
             "linecolor": "white",
             "minorgridcolor": "white",
             "startlinecolor": "#2a3f5f"
            },
            "type": "carpet"
           }
          ],
          "choropleth": [
           {
            "colorbar": {
             "outlinewidth": 0,
             "ticks": ""
            },
            "type": "choropleth"
           }
          ],
          "contour": [
           {
            "colorbar": {
             "outlinewidth": 0,
             "ticks": ""
            },
            "colorscale": [
             [
              0,
              "#0d0887"
             ],
             [
              0.1111111111111111,
              "#46039f"
             ],
             [
              0.2222222222222222,
              "#7201a8"
             ],
             [
              0.3333333333333333,
              "#9c179e"
             ],
             [
              0.4444444444444444,
              "#bd3786"
             ],
             [
              0.5555555555555556,
              "#d8576b"
             ],
             [
              0.6666666666666666,
              "#ed7953"
             ],
             [
              0.7777777777777778,
              "#fb9f3a"
             ],
             [
              0.8888888888888888,
              "#fdca26"
             ],
             [
              1,
              "#f0f921"
             ]
            ],
            "type": "contour"
           }
          ],
          "contourcarpet": [
           {
            "colorbar": {
             "outlinewidth": 0,
             "ticks": ""
            },
            "type": "contourcarpet"
           }
          ],
          "heatmap": [
           {
            "colorbar": {
             "outlinewidth": 0,
             "ticks": ""
            },
            "colorscale": [
             [
              0,
              "#0d0887"
             ],
             [
              0.1111111111111111,
              "#46039f"
             ],
             [
              0.2222222222222222,
              "#7201a8"
             ],
             [
              0.3333333333333333,
              "#9c179e"
             ],
             [
              0.4444444444444444,
              "#bd3786"
             ],
             [
              0.5555555555555556,
              "#d8576b"
             ],
             [
              0.6666666666666666,
              "#ed7953"
             ],
             [
              0.7777777777777778,
              "#fb9f3a"
             ],
             [
              0.8888888888888888,
              "#fdca26"
             ],
             [
              1,
              "#f0f921"
             ]
            ],
            "type": "heatmap"
           }
          ],
          "heatmapgl": [
           {
            "colorbar": {
             "outlinewidth": 0,
             "ticks": ""
            },
            "colorscale": [
             [
              0,
              "#0d0887"
             ],
             [
              0.1111111111111111,
              "#46039f"
             ],
             [
              0.2222222222222222,
              "#7201a8"
             ],
             [
              0.3333333333333333,
              "#9c179e"
             ],
             [
              0.4444444444444444,
              "#bd3786"
             ],
             [
              0.5555555555555556,
              "#d8576b"
             ],
             [
              0.6666666666666666,
              "#ed7953"
             ],
             [
              0.7777777777777778,
              "#fb9f3a"
             ],
             [
              0.8888888888888888,
              "#fdca26"
             ],
             [
              1,
              "#f0f921"
             ]
            ],
            "type": "heatmapgl"
           }
          ],
          "histogram": [
           {
            "marker": {
             "pattern": {
              "fillmode": "overlay",
              "size": 10,
              "solidity": 0.2
             }
            },
            "type": "histogram"
           }
          ],
          "histogram2d": [
           {
            "colorbar": {
             "outlinewidth": 0,
             "ticks": ""
            },
            "colorscale": [
             [
              0,
              "#0d0887"
             ],
             [
              0.1111111111111111,
              "#46039f"
             ],
             [
              0.2222222222222222,
              "#7201a8"
             ],
             [
              0.3333333333333333,
              "#9c179e"
             ],
             [
              0.4444444444444444,
              "#bd3786"
             ],
             [
              0.5555555555555556,
              "#d8576b"
             ],
             [
              0.6666666666666666,
              "#ed7953"
             ],
             [
              0.7777777777777778,
              "#fb9f3a"
             ],
             [
              0.8888888888888888,
              "#fdca26"
             ],
             [
              1,
              "#f0f921"
             ]
            ],
            "type": "histogram2d"
           }
          ],
          "histogram2dcontour": [
           {
            "colorbar": {
             "outlinewidth": 0,
             "ticks": ""
            },
            "colorscale": [
             [
              0,
              "#0d0887"
             ],
             [
              0.1111111111111111,
              "#46039f"
             ],
             [
              0.2222222222222222,
              "#7201a8"
             ],
             [
              0.3333333333333333,
              "#9c179e"
             ],
             [
              0.4444444444444444,
              "#bd3786"
             ],
             [
              0.5555555555555556,
              "#d8576b"
             ],
             [
              0.6666666666666666,
              "#ed7953"
             ],
             [
              0.7777777777777778,
              "#fb9f3a"
             ],
             [
              0.8888888888888888,
              "#fdca26"
             ],
             [
              1,
              "#f0f921"
             ]
            ],
            "type": "histogram2dcontour"
           }
          ],
          "mesh3d": [
           {
            "colorbar": {
             "outlinewidth": 0,
             "ticks": ""
            },
            "type": "mesh3d"
           }
          ],
          "parcoords": [
           {
            "line": {
             "colorbar": {
              "outlinewidth": 0,
              "ticks": ""
             }
            },
            "type": "parcoords"
           }
          ],
          "pie": [
           {
            "automargin": true,
            "type": "pie"
           }
          ],
          "scatter": [
           {
            "fillpattern": {
             "fillmode": "overlay",
             "size": 10,
             "solidity": 0.2
            },
            "type": "scatter"
           }
          ],
          "scatter3d": [
           {
            "line": {
             "colorbar": {
              "outlinewidth": 0,
              "ticks": ""
             }
            },
            "marker": {
             "colorbar": {
              "outlinewidth": 0,
              "ticks": ""
             }
            },
            "type": "scatter3d"
           }
          ],
          "scattercarpet": [
           {
            "marker": {
             "colorbar": {
              "outlinewidth": 0,
              "ticks": ""
             }
            },
            "type": "scattercarpet"
           }
          ],
          "scattergeo": [
           {
            "marker": {
             "colorbar": {
              "outlinewidth": 0,
              "ticks": ""
             }
            },
            "type": "scattergeo"
           }
          ],
          "scattergl": [
           {
            "marker": {
             "colorbar": {
              "outlinewidth": 0,
              "ticks": ""
             }
            },
            "type": "scattergl"
           }
          ],
          "scattermapbox": [
           {
            "marker": {
             "colorbar": {
              "outlinewidth": 0,
              "ticks": ""
             }
            },
            "type": "scattermapbox"
           }
          ],
          "scatterpolar": [
           {
            "marker": {
             "colorbar": {
              "outlinewidth": 0,
              "ticks": ""
             }
            },
            "type": "scatterpolar"
           }
          ],
          "scatterpolargl": [
           {
            "marker": {
             "colorbar": {
              "outlinewidth": 0,
              "ticks": ""
             }
            },
            "type": "scatterpolargl"
           }
          ],
          "scatterternary": [
           {
            "marker": {
             "colorbar": {
              "outlinewidth": 0,
              "ticks": ""
             }
            },
            "type": "scatterternary"
           }
          ],
          "surface": [
           {
            "colorbar": {
             "outlinewidth": 0,
             "ticks": ""
            },
            "colorscale": [
             [
              0,
              "#0d0887"
             ],
             [
              0.1111111111111111,
              "#46039f"
             ],
             [
              0.2222222222222222,
              "#7201a8"
             ],
             [
              0.3333333333333333,
              "#9c179e"
             ],
             [
              0.4444444444444444,
              "#bd3786"
             ],
             [
              0.5555555555555556,
              "#d8576b"
             ],
             [
              0.6666666666666666,
              "#ed7953"
             ],
             [
              0.7777777777777778,
              "#fb9f3a"
             ],
             [
              0.8888888888888888,
              "#fdca26"
             ],
             [
              1,
              "#f0f921"
             ]
            ],
            "type": "surface"
           }
          ],
          "table": [
           {
            "cells": {
             "fill": {
              "color": "#EBF0F8"
             },
             "line": {
              "color": "white"
             }
            },
            "header": {
             "fill": {
              "color": "#C8D4E3"
             },
             "line": {
              "color": "white"
             }
            },
            "type": "table"
           }
          ]
         },
         "layout": {
          "annotationdefaults": {
           "arrowcolor": "#2a3f5f",
           "arrowhead": 0,
           "arrowwidth": 1
          },
          "autotypenumbers": "strict",
          "coloraxis": {
           "colorbar": {
            "outlinewidth": 0,
            "ticks": ""
           }
          },
          "colorscale": {
           "diverging": [
            [
             0,
             "#8e0152"
            ],
            [
             0.1,
             "#c51b7d"
            ],
            [
             0.2,
             "#de77ae"
            ],
            [
             0.3,
             "#f1b6da"
            ],
            [
             0.4,
             "#fde0ef"
            ],
            [
             0.5,
             "#f7f7f7"
            ],
            [
             0.6,
             "#e6f5d0"
            ],
            [
             0.7,
             "#b8e186"
            ],
            [
             0.8,
             "#7fbc41"
            ],
            [
             0.9,
             "#4d9221"
            ],
            [
             1,
             "#276419"
            ]
           ],
           "sequential": [
            [
             0,
             "#0d0887"
            ],
            [
             0.1111111111111111,
             "#46039f"
            ],
            [
             0.2222222222222222,
             "#7201a8"
            ],
            [
             0.3333333333333333,
             "#9c179e"
            ],
            [
             0.4444444444444444,
             "#bd3786"
            ],
            [
             0.5555555555555556,
             "#d8576b"
            ],
            [
             0.6666666666666666,
             "#ed7953"
            ],
            [
             0.7777777777777778,
             "#fb9f3a"
            ],
            [
             0.8888888888888888,
             "#fdca26"
            ],
            [
             1,
             "#f0f921"
            ]
           ],
           "sequentialminus": [
            [
             0,
             "#0d0887"
            ],
            [
             0.1111111111111111,
             "#46039f"
            ],
            [
             0.2222222222222222,
             "#7201a8"
            ],
            [
             0.3333333333333333,
             "#9c179e"
            ],
            [
             0.4444444444444444,
             "#bd3786"
            ],
            [
             0.5555555555555556,
             "#d8576b"
            ],
            [
             0.6666666666666666,
             "#ed7953"
            ],
            [
             0.7777777777777778,
             "#fb9f3a"
            ],
            [
             0.8888888888888888,
             "#fdca26"
            ],
            [
             1,
             "#f0f921"
            ]
           ]
          },
          "colorway": [
           "#636efa",
           "#EF553B",
           "#00cc96",
           "#ab63fa",
           "#FFA15A",
           "#19d3f3",
           "#FF6692",
           "#B6E880",
           "#FF97FF",
           "#FECB52"
          ],
          "font": {
           "color": "#2a3f5f"
          },
          "geo": {
           "bgcolor": "white",
           "lakecolor": "white",
           "landcolor": "#E5ECF6",
           "showlakes": true,
           "showland": true,
           "subunitcolor": "white"
          },
          "hoverlabel": {
           "align": "left"
          },
          "hovermode": "closest",
          "mapbox": {
           "style": "light"
          },
          "paper_bgcolor": "white",
          "plot_bgcolor": "#E5ECF6",
          "polar": {
           "angularaxis": {
            "gridcolor": "white",
            "linecolor": "white",
            "ticks": ""
           },
           "bgcolor": "#E5ECF6",
           "radialaxis": {
            "gridcolor": "white",
            "linecolor": "white",
            "ticks": ""
           }
          },
          "scene": {
           "xaxis": {
            "backgroundcolor": "#E5ECF6",
            "gridcolor": "white",
            "gridwidth": 2,
            "linecolor": "white",
            "showbackground": true,
            "ticks": "",
            "zerolinecolor": "white"
           },
           "yaxis": {
            "backgroundcolor": "#E5ECF6",
            "gridcolor": "white",
            "gridwidth": 2,
            "linecolor": "white",
            "showbackground": true,
            "ticks": "",
            "zerolinecolor": "white"
           },
           "zaxis": {
            "backgroundcolor": "#E5ECF6",
            "gridcolor": "white",
            "gridwidth": 2,
            "linecolor": "white",
            "showbackground": true,
            "ticks": "",
            "zerolinecolor": "white"
           }
          },
          "shapedefaults": {
           "line": {
            "color": "#2a3f5f"
           }
          },
          "ternary": {
           "aaxis": {
            "gridcolor": "white",
            "linecolor": "white",
            "ticks": ""
           },
           "baxis": {
            "gridcolor": "white",
            "linecolor": "white",
            "ticks": ""
           },
           "bgcolor": "#E5ECF6",
           "caxis": {
            "gridcolor": "white",
            "linecolor": "white",
            "ticks": ""
           }
          },
          "title": {
           "x": 0.05
          },
          "xaxis": {
           "automargin": true,
           "gridcolor": "white",
           "linecolor": "white",
           "ticks": "",
           "title": {
            "standoff": 15
           },
           "zerolinecolor": "white",
           "zerolinewidth": 2
          },
          "yaxis": {
           "automargin": true,
           "gridcolor": "white",
           "linecolor": "white",
           "ticks": "",
           "title": {
            "standoff": 15
           },
           "zerolinecolor": "white",
           "zerolinewidth": 2
          }
         }
        },
        "title": {
         "text": "ElasticNet Feature Importance"
        },
        "xaxis": {
         "anchor": "y",
         "domain": [
          0,
          1
         ],
         "title": {
          "text": "Model Coefficient"
         }
        },
        "yaxis": {
         "anchor": "x",
         "autorange": "reversed",
         "domain": [
          0,
          1
         ],
         "title": {
          "text": "Feature"
         }
        }
       }
      }
     },
     "metadata": {},
     "output_type": "display_data"
    }
   ],
   "source": [
    "import plotly.express as px\n",
    "import pandas as pd\n",
    "\n",
    "# Create a DataFrame of coefficients\n",
    "coef_df = pd.Series(enet.coef_, index=X.columns).sort_values(ascending=False).reset_index()\n",
    "coef_df.columns = ['Feature', 'Coefficient']\n",
    "\n",
    "# Plot with Plotly\n",
    "fig = px.bar(\n",
    "    coef_df,\n",
    "    x='Coefficient',\n",
    "    y='Feature',\n",
    "    orientation='h',\n",
    "    title='ElasticNet Feature Importance',\n",
    "    labels={'Coefficient': 'Model Coefficient', 'Feature': 'Feature'},\n",
    "    text='Coefficient'\n",
    ")\n",
    "fig.update_layout(yaxis=dict(autorange=\"reversed\"))\n",
    "\n",
    "fig.show()"
   ]
  },
  {
   "cell_type": "markdown",
   "id": "0060b5ba",
   "metadata": {},
   "source": [
    "GridSearch to find best parameters"
   ]
  },
  {
   "cell_type": "code",
   "execution_count": 41,
   "id": "48191688",
   "metadata": {},
   "outputs": [
    {
     "name": "stdout",
     "output_type": "stream",
     "text": [
      "Fitting 5 folds for each of 20 candidates, totalling 100 fits\n",
      "Best Params: {'alpha': 0.01, 'l1_ratio': 0.5}\n",
      "Train R²: 0.34845892872189344\n",
      "Test R²: 0.38534811262898183\n",
      "Test RMSE: 0.07932294318011471\n"
     ]
    },
    {
     "name": "stderr",
     "output_type": "stream",
     "text": [
      "/opt/anaconda3/lib/python3.12/site-packages/sklearn/metrics/_regression.py:483: FutureWarning:\n",
      "\n",
      "'squared' is deprecated in version 1.4 and will be removed in 1.6. To calculate the root mean squared error, use the function'root_mean_squared_error'.\n",
      "\n"
     ]
    }
   ],
   "source": [
    "from sklearn.linear_model import ElasticNet\n",
    "from sklearn.model_selection import GridSearchCV\n",
    "\n",
    "# Define the grid\n",
    "param_grid = {\n",
    "    'alpha': [0.01, 0.1, 1.0, 10.0],\n",
    "    'l1_ratio': [0.1, 0.5, 0.7, 0.9, 1.0]\n",
    "}\n",
    "\n",
    "# Create model\n",
    "elastic_net = ElasticNet(max_iter=10000, random_state=42)\n",
    "\n",
    "# Grid Search\n",
    "grid_search_enet = GridSearchCV(\n",
    "    estimator=elastic_net,\n",
    "    param_grid=param_grid,\n",
    "    cv=5,\n",
    "    scoring='r2',\n",
    "    verbose=1\n",
    ")\n",
    "\n",
    "# Fit model\n",
    "grid_search_enet.fit(X_train_scaled, y_train)\n",
    "\n",
    "# Best model\n",
    "best_enet = grid_search_enet.best_estimator_\n",
    "\n",
    "print(\"Best Params:\", grid_search_enet.best_params_)\n",
    "print(\"Train R²:\", grid_search_enet.best_score_)\n",
    "\n",
    "# Evaluate on test set\n",
    "from sklearn.metrics import r2_score, mean_squared_error\n",
    "\n",
    "y_pred_enet = best_enet.predict(X_test_scaled)\n",
    "print(\"Test R²:\", r2_score(y_test, y_pred_enet))\n",
    "print(\"Test RMSE:\", mean_squared_error(y_test, y_pred_enet, squared=False))"
   ]
  },
  {
   "cell_type": "markdown",
   "id": "9d3eabca",
   "metadata": {},
   "source": [
    "Model Summary "
   ]
  },
  {
   "cell_type": "code",
   "execution_count": 30,
   "id": "5ad9e6e5",
   "metadata": {},
   "outputs": [
    {
     "name": "stdout",
     "output_type": "stream",
     "text": [
      "ElasticNet Model Summary:\n",
      "Alpha: 0.01\n",
      "L1 Ratio: 0.5\n",
      "Coefficients: [ 0.          0.04994623 -0.01266566  0.          0.00143711]\n",
      "Intercept: 0.8496191143277777\n"
     ]
    }
   ],
   "source": [
    "# Print a summary of the best ElasticNet model\n",
    "print(\"ElasticNet Model Summary:\")\n",
    "print(f\"Alpha: {best_enet.alpha}\")\n",
    "print(f\"L1 Ratio: {best_enet.l1_ratio}\")\n",
    "print(f\"Coefficients: {best_enet.coef_}\")\n",
    "print(f\"Intercept: {best_enet.intercept_}\")"
   ]
  },
  {
   "cell_type": "markdown",
   "id": "238584c8",
   "metadata": {},
   "source": [
    "Model Summary with Features "
   ]
  },
  {
   "cell_type": "code",
   "execution_count": null,
   "id": "6d475a34",
   "metadata": {},
   "outputs": [
    {
     "name": "stdout",
     "output_type": "stream",
     "text": [
      "Feature: Division, Coefficient: 0.0\n",
      "Feature: Beginning Year, Coefficient: 0.05227019374638879\n",
      "Feature: Longevity, Coefficient: -0.015237887588237516\n",
      "Feature: Birth Year, Coefficient: 0.0\n",
      "Feature: Starting Age, Coefficient: 0.00264571108050764\n"
     ]
    }
   ],
   "source": [
    "for feature, coef in zip(feature_names, best_enet.coef_):\n",
    "    print(f\"Feature: {feature}, Coefficient: {coef}\")"
   ]
  },
  {
   "cell_type": "code",
   "execution_count": 16,
   "id": "2c171f9f",
   "metadata": {},
   "outputs": [
    {
     "name": "stderr",
     "output_type": "stream",
     "text": [
      "/var/folders/s1/n0q5fh9s5m77hjt_c78j17w00000gn/T/ipykernel_7047/2931396494.py:1: FutureWarning:\n",
      "\n",
      "errors='ignore' is deprecated and will raise in a future version. Use to_numeric without passing `errors` and catch exceptions explicitly instead\n",
      "\n"
     ]
    }
   ],
   "source": [
    "X = X.apply(pd.to_numeric, errors='ignore')"
   ]
  },
  {
   "cell_type": "code",
   "execution_count": 17,
   "id": "807c5afc",
   "metadata": {},
   "outputs": [],
   "source": [
    "for col in X.columns:\n",
    "    if X[col].dtype == 'object':\n",
    "        try:\n",
    "            X[col] = X[col].astype(float)\n",
    "        except:\n",
    "            pass"
   ]
  },
  {
   "cell_type": "markdown",
   "id": "115d45bd",
   "metadata": {},
   "source": [
    "XGBoost Model"
   ]
  },
  {
   "cell_type": "code",
   "execution_count": 18,
   "id": "a02c1fe8",
   "metadata": {},
   "outputs": [
    {
     "name": "stdout",
     "output_type": "stream",
     "text": [
      "XGBoost R²: 0.2942644618827319\n",
      "XGBoost RMSE: 0.08499731437810541\n"
     ]
    },
    {
     "name": "stderr",
     "output_type": "stream",
     "text": [
      "/opt/anaconda3/lib/python3.12/site-packages/sklearn/metrics/_regression.py:483: FutureWarning:\n",
      "\n",
      "'squared' is deprecated in version 1.4 and will be removed in 1.6. To calculate the root mean squared error, use the function'root_mean_squared_error'.\n",
      "\n"
     ]
    }
   ],
   "source": [
    "from xgboost import XGBRegressor\n",
    "\n",
    "X_train, X_test, y_train, y_test = train_test_split(X, y, test_size=0.2, random_state=42)\n",
    "\n",
    "xgb = XGBRegressor(n_estimators=100, max_depth=4, learning_rate=0.1, random_state=42)\n",
    "xgb.fit(X_train, y_train)\n",
    "\n",
    "y_pred_xgb = xgb.predict(X_test)\n",
    "\n",
    "print(\"XGBoost R²:\", r2_score(y_test, y_pred_xgb))\n",
    "print(\"XGBoost RMSE:\", mean_squared_error(y_test, y_pred_xgb, squared=False))"
   ]
  },
  {
   "cell_type": "markdown",
   "id": "7133ca29",
   "metadata": {},
   "source": [
    "XGBoost Feature Importance"
   ]
  },
  {
   "cell_type": "code",
   "execution_count": 19,
   "id": "55366033",
   "metadata": {},
   "outputs": [
    {
     "data": {
      "application/vnd.plotly.v1+json": {
       "config": {
        "plotlyServerURL": "https://plot.ly"
       },
       "data": [
        {
         "alignmentgroup": "True",
         "hovertemplate": "Importance=%{text}<br>Feature=%{y}<extra></extra>",
         "legendgroup": "",
         "marker": {
          "color": "#636efa",
          "pattern": {
           "shape": ""
          }
         },
         "name": "",
         "offsetgroup": "",
         "orientation": "h",
         "showlegend": false,
         "text": [
          0.34538033604621887,
          0.23487567901611328,
          0.16935193538665771,
          0.15354739129543304,
          0.0968446284532547
         ],
         "textposition": "auto",
         "type": "bar",
         "x": [
          0.34538033604621887,
          0.23487567901611328,
          0.16935193538665771,
          0.15354739129543304,
          0.0968446284532547
         ],
         "xaxis": "x",
         "y": [
          "Beginning Year",
          "Birth Year",
          "Longevity",
          "Starting Age",
          "Division"
         ],
         "yaxis": "y"
        }
       ],
       "layout": {
        "barmode": "relative",
        "legend": {
         "tracegroupgap": 0
        },
        "template": {
         "data": {
          "bar": [
           {
            "error_x": {
             "color": "#2a3f5f"
            },
            "error_y": {
             "color": "#2a3f5f"
            },
            "marker": {
             "line": {
              "color": "#E5ECF6",
              "width": 0.5
             },
             "pattern": {
              "fillmode": "overlay",
              "size": 10,
              "solidity": 0.2
             }
            },
            "type": "bar"
           }
          ],
          "barpolar": [
           {
            "marker": {
             "line": {
              "color": "#E5ECF6",
              "width": 0.5
             },
             "pattern": {
              "fillmode": "overlay",
              "size": 10,
              "solidity": 0.2
             }
            },
            "type": "barpolar"
           }
          ],
          "carpet": [
           {
            "aaxis": {
             "endlinecolor": "#2a3f5f",
             "gridcolor": "white",
             "linecolor": "white",
             "minorgridcolor": "white",
             "startlinecolor": "#2a3f5f"
            },
            "baxis": {
             "endlinecolor": "#2a3f5f",
             "gridcolor": "white",
             "linecolor": "white",
             "minorgridcolor": "white",
             "startlinecolor": "#2a3f5f"
            },
            "type": "carpet"
           }
          ],
          "choropleth": [
           {
            "colorbar": {
             "outlinewidth": 0,
             "ticks": ""
            },
            "type": "choropleth"
           }
          ],
          "contour": [
           {
            "colorbar": {
             "outlinewidth": 0,
             "ticks": ""
            },
            "colorscale": [
             [
              0,
              "#0d0887"
             ],
             [
              0.1111111111111111,
              "#46039f"
             ],
             [
              0.2222222222222222,
              "#7201a8"
             ],
             [
              0.3333333333333333,
              "#9c179e"
             ],
             [
              0.4444444444444444,
              "#bd3786"
             ],
             [
              0.5555555555555556,
              "#d8576b"
             ],
             [
              0.6666666666666666,
              "#ed7953"
             ],
             [
              0.7777777777777778,
              "#fb9f3a"
             ],
             [
              0.8888888888888888,
              "#fdca26"
             ],
             [
              1,
              "#f0f921"
             ]
            ],
            "type": "contour"
           }
          ],
          "contourcarpet": [
           {
            "colorbar": {
             "outlinewidth": 0,
             "ticks": ""
            },
            "type": "contourcarpet"
           }
          ],
          "heatmap": [
           {
            "colorbar": {
             "outlinewidth": 0,
             "ticks": ""
            },
            "colorscale": [
             [
              0,
              "#0d0887"
             ],
             [
              0.1111111111111111,
              "#46039f"
             ],
             [
              0.2222222222222222,
              "#7201a8"
             ],
             [
              0.3333333333333333,
              "#9c179e"
             ],
             [
              0.4444444444444444,
              "#bd3786"
             ],
             [
              0.5555555555555556,
              "#d8576b"
             ],
             [
              0.6666666666666666,
              "#ed7953"
             ],
             [
              0.7777777777777778,
              "#fb9f3a"
             ],
             [
              0.8888888888888888,
              "#fdca26"
             ],
             [
              1,
              "#f0f921"
             ]
            ],
            "type": "heatmap"
           }
          ],
          "heatmapgl": [
           {
            "colorbar": {
             "outlinewidth": 0,
             "ticks": ""
            },
            "colorscale": [
             [
              0,
              "#0d0887"
             ],
             [
              0.1111111111111111,
              "#46039f"
             ],
             [
              0.2222222222222222,
              "#7201a8"
             ],
             [
              0.3333333333333333,
              "#9c179e"
             ],
             [
              0.4444444444444444,
              "#bd3786"
             ],
             [
              0.5555555555555556,
              "#d8576b"
             ],
             [
              0.6666666666666666,
              "#ed7953"
             ],
             [
              0.7777777777777778,
              "#fb9f3a"
             ],
             [
              0.8888888888888888,
              "#fdca26"
             ],
             [
              1,
              "#f0f921"
             ]
            ],
            "type": "heatmapgl"
           }
          ],
          "histogram": [
           {
            "marker": {
             "pattern": {
              "fillmode": "overlay",
              "size": 10,
              "solidity": 0.2
             }
            },
            "type": "histogram"
           }
          ],
          "histogram2d": [
           {
            "colorbar": {
             "outlinewidth": 0,
             "ticks": ""
            },
            "colorscale": [
             [
              0,
              "#0d0887"
             ],
             [
              0.1111111111111111,
              "#46039f"
             ],
             [
              0.2222222222222222,
              "#7201a8"
             ],
             [
              0.3333333333333333,
              "#9c179e"
             ],
             [
              0.4444444444444444,
              "#bd3786"
             ],
             [
              0.5555555555555556,
              "#d8576b"
             ],
             [
              0.6666666666666666,
              "#ed7953"
             ],
             [
              0.7777777777777778,
              "#fb9f3a"
             ],
             [
              0.8888888888888888,
              "#fdca26"
             ],
             [
              1,
              "#f0f921"
             ]
            ],
            "type": "histogram2d"
           }
          ],
          "histogram2dcontour": [
           {
            "colorbar": {
             "outlinewidth": 0,
             "ticks": ""
            },
            "colorscale": [
             [
              0,
              "#0d0887"
             ],
             [
              0.1111111111111111,
              "#46039f"
             ],
             [
              0.2222222222222222,
              "#7201a8"
             ],
             [
              0.3333333333333333,
              "#9c179e"
             ],
             [
              0.4444444444444444,
              "#bd3786"
             ],
             [
              0.5555555555555556,
              "#d8576b"
             ],
             [
              0.6666666666666666,
              "#ed7953"
             ],
             [
              0.7777777777777778,
              "#fb9f3a"
             ],
             [
              0.8888888888888888,
              "#fdca26"
             ],
             [
              1,
              "#f0f921"
             ]
            ],
            "type": "histogram2dcontour"
           }
          ],
          "mesh3d": [
           {
            "colorbar": {
             "outlinewidth": 0,
             "ticks": ""
            },
            "type": "mesh3d"
           }
          ],
          "parcoords": [
           {
            "line": {
             "colorbar": {
              "outlinewidth": 0,
              "ticks": ""
             }
            },
            "type": "parcoords"
           }
          ],
          "pie": [
           {
            "automargin": true,
            "type": "pie"
           }
          ],
          "scatter": [
           {
            "fillpattern": {
             "fillmode": "overlay",
             "size": 10,
             "solidity": 0.2
            },
            "type": "scatter"
           }
          ],
          "scatter3d": [
           {
            "line": {
             "colorbar": {
              "outlinewidth": 0,
              "ticks": ""
             }
            },
            "marker": {
             "colorbar": {
              "outlinewidth": 0,
              "ticks": ""
             }
            },
            "type": "scatter3d"
           }
          ],
          "scattercarpet": [
           {
            "marker": {
             "colorbar": {
              "outlinewidth": 0,
              "ticks": ""
             }
            },
            "type": "scattercarpet"
           }
          ],
          "scattergeo": [
           {
            "marker": {
             "colorbar": {
              "outlinewidth": 0,
              "ticks": ""
             }
            },
            "type": "scattergeo"
           }
          ],
          "scattergl": [
           {
            "marker": {
             "colorbar": {
              "outlinewidth": 0,
              "ticks": ""
             }
            },
            "type": "scattergl"
           }
          ],
          "scattermapbox": [
           {
            "marker": {
             "colorbar": {
              "outlinewidth": 0,
              "ticks": ""
             }
            },
            "type": "scattermapbox"
           }
          ],
          "scatterpolar": [
           {
            "marker": {
             "colorbar": {
              "outlinewidth": 0,
              "ticks": ""
             }
            },
            "type": "scatterpolar"
           }
          ],
          "scatterpolargl": [
           {
            "marker": {
             "colorbar": {
              "outlinewidth": 0,
              "ticks": ""
             }
            },
            "type": "scatterpolargl"
           }
          ],
          "scatterternary": [
           {
            "marker": {
             "colorbar": {
              "outlinewidth": 0,
              "ticks": ""
             }
            },
            "type": "scatterternary"
           }
          ],
          "surface": [
           {
            "colorbar": {
             "outlinewidth": 0,
             "ticks": ""
            },
            "colorscale": [
             [
              0,
              "#0d0887"
             ],
             [
              0.1111111111111111,
              "#46039f"
             ],
             [
              0.2222222222222222,
              "#7201a8"
             ],
             [
              0.3333333333333333,
              "#9c179e"
             ],
             [
              0.4444444444444444,
              "#bd3786"
             ],
             [
              0.5555555555555556,
              "#d8576b"
             ],
             [
              0.6666666666666666,
              "#ed7953"
             ],
             [
              0.7777777777777778,
              "#fb9f3a"
             ],
             [
              0.8888888888888888,
              "#fdca26"
             ],
             [
              1,
              "#f0f921"
             ]
            ],
            "type": "surface"
           }
          ],
          "table": [
           {
            "cells": {
             "fill": {
              "color": "#EBF0F8"
             },
             "line": {
              "color": "white"
             }
            },
            "header": {
             "fill": {
              "color": "#C8D4E3"
             },
             "line": {
              "color": "white"
             }
            },
            "type": "table"
           }
          ]
         },
         "layout": {
          "annotationdefaults": {
           "arrowcolor": "#2a3f5f",
           "arrowhead": 0,
           "arrowwidth": 1
          },
          "autotypenumbers": "strict",
          "coloraxis": {
           "colorbar": {
            "outlinewidth": 0,
            "ticks": ""
           }
          },
          "colorscale": {
           "diverging": [
            [
             0,
             "#8e0152"
            ],
            [
             0.1,
             "#c51b7d"
            ],
            [
             0.2,
             "#de77ae"
            ],
            [
             0.3,
             "#f1b6da"
            ],
            [
             0.4,
             "#fde0ef"
            ],
            [
             0.5,
             "#f7f7f7"
            ],
            [
             0.6,
             "#e6f5d0"
            ],
            [
             0.7,
             "#b8e186"
            ],
            [
             0.8,
             "#7fbc41"
            ],
            [
             0.9,
             "#4d9221"
            ],
            [
             1,
             "#276419"
            ]
           ],
           "sequential": [
            [
             0,
             "#0d0887"
            ],
            [
             0.1111111111111111,
             "#46039f"
            ],
            [
             0.2222222222222222,
             "#7201a8"
            ],
            [
             0.3333333333333333,
             "#9c179e"
            ],
            [
             0.4444444444444444,
             "#bd3786"
            ],
            [
             0.5555555555555556,
             "#d8576b"
            ],
            [
             0.6666666666666666,
             "#ed7953"
            ],
            [
             0.7777777777777778,
             "#fb9f3a"
            ],
            [
             0.8888888888888888,
             "#fdca26"
            ],
            [
             1,
             "#f0f921"
            ]
           ],
           "sequentialminus": [
            [
             0,
             "#0d0887"
            ],
            [
             0.1111111111111111,
             "#46039f"
            ],
            [
             0.2222222222222222,
             "#7201a8"
            ],
            [
             0.3333333333333333,
             "#9c179e"
            ],
            [
             0.4444444444444444,
             "#bd3786"
            ],
            [
             0.5555555555555556,
             "#d8576b"
            ],
            [
             0.6666666666666666,
             "#ed7953"
            ],
            [
             0.7777777777777778,
             "#fb9f3a"
            ],
            [
             0.8888888888888888,
             "#fdca26"
            ],
            [
             1,
             "#f0f921"
            ]
           ]
          },
          "colorway": [
           "#636efa",
           "#EF553B",
           "#00cc96",
           "#ab63fa",
           "#FFA15A",
           "#19d3f3",
           "#FF6692",
           "#B6E880",
           "#FF97FF",
           "#FECB52"
          ],
          "font": {
           "color": "#2a3f5f"
          },
          "geo": {
           "bgcolor": "white",
           "lakecolor": "white",
           "landcolor": "#E5ECF6",
           "showlakes": true,
           "showland": true,
           "subunitcolor": "white"
          },
          "hoverlabel": {
           "align": "left"
          },
          "hovermode": "closest",
          "mapbox": {
           "style": "light"
          },
          "paper_bgcolor": "white",
          "plot_bgcolor": "#E5ECF6",
          "polar": {
           "angularaxis": {
            "gridcolor": "white",
            "linecolor": "white",
            "ticks": ""
           },
           "bgcolor": "#E5ECF6",
           "radialaxis": {
            "gridcolor": "white",
            "linecolor": "white",
            "ticks": ""
           }
          },
          "scene": {
           "xaxis": {
            "backgroundcolor": "#E5ECF6",
            "gridcolor": "white",
            "gridwidth": 2,
            "linecolor": "white",
            "showbackground": true,
            "ticks": "",
            "zerolinecolor": "white"
           },
           "yaxis": {
            "backgroundcolor": "#E5ECF6",
            "gridcolor": "white",
            "gridwidth": 2,
            "linecolor": "white",
            "showbackground": true,
            "ticks": "",
            "zerolinecolor": "white"
           },
           "zaxis": {
            "backgroundcolor": "#E5ECF6",
            "gridcolor": "white",
            "gridwidth": 2,
            "linecolor": "white",
            "showbackground": true,
            "ticks": "",
            "zerolinecolor": "white"
           }
          },
          "shapedefaults": {
           "line": {
            "color": "#2a3f5f"
           }
          },
          "ternary": {
           "aaxis": {
            "gridcolor": "white",
            "linecolor": "white",
            "ticks": ""
           },
           "baxis": {
            "gridcolor": "white",
            "linecolor": "white",
            "ticks": ""
           },
           "bgcolor": "#E5ECF6",
           "caxis": {
            "gridcolor": "white",
            "linecolor": "white",
            "ticks": ""
           }
          },
          "title": {
           "x": 0.05
          },
          "xaxis": {
           "automargin": true,
           "gridcolor": "white",
           "linecolor": "white",
           "ticks": "",
           "title": {
            "standoff": 15
           },
           "zerolinecolor": "white",
           "zerolinewidth": 2
          },
          "yaxis": {
           "automargin": true,
           "gridcolor": "white",
           "linecolor": "white",
           "ticks": "",
           "title": {
            "standoff": 15
           },
           "zerolinecolor": "white",
           "zerolinewidth": 2
          }
         }
        },
        "title": {
         "text": "XGBoost Feature Importance"
        },
        "xaxis": {
         "anchor": "y",
         "domain": [
          0,
          1
         ],
         "title": {
          "text": "Importance"
         }
        },
        "yaxis": {
         "anchor": "x",
         "autorange": "reversed",
         "domain": [
          0,
          1
         ],
         "title": {
          "text": "Feature"
         }
        }
       }
      }
     },
     "metadata": {},
     "output_type": "display_data"
    }
   ],
   "source": [
    "importance_df = pd.Series(xgb.feature_importances_, index=X.columns).sort_values(ascending=False).reset_index()\n",
    "importance_df.columns = ['Feature', 'Importance']\n",
    "# Plot feature importances\n",
    "fig_importance = px.bar(\n",
    "    importance_df,\n",
    "    x='Importance',\n",
    "    y='Feature',\n",
    "    orientation='h',\n",
    "    title=\"XGBoost Feature Importance\",\n",
    "    text='Importance'\n",
    ")\n",
    "fig_importance.update_layout(yaxis=dict(autorange=\"reversed\"))\n",
    "fig_importance.show()\n"
   ]
  },
  {
   "cell_type": "markdown",
   "id": "262f9dc7",
   "metadata": {},
   "source": [
    "XGBoost GridSearch"
   ]
  },
  {
   "cell_type": "code",
   "execution_count": 20,
   "id": "1d1c5701",
   "metadata": {},
   "outputs": [
    {
     "name": "stdout",
     "output_type": "stream",
     "text": [
      "Fitting 5 folds for each of 108 candidates, totalling 540 fits\n",
      "Best Parameters: {'colsample_bytree': 1.0, 'learning_rate': 0.01, 'max_depth': 3, 'n_estimators': 100, 'subsample': 0.8}\n",
      "Best R² Score on Training: 0.2524061913335897\n",
      "Test R²: 0.2871765449314059\n",
      "Test RMSE: 0.0854230749956562\n"
     ]
    },
    {
     "name": "stderr",
     "output_type": "stream",
     "text": [
      "/opt/anaconda3/lib/python3.12/site-packages/sklearn/metrics/_regression.py:483: FutureWarning:\n",
      "\n",
      "'squared' is deprecated in version 1.4 and will be removed in 1.6. To calculate the root mean squared error, use the function'root_mean_squared_error'.\n",
      "\n"
     ]
    }
   ],
   "source": [
    "from sklearn.model_selection import GridSearchCV\n",
    "from xgboost import XGBRegressor\n",
    "\n",
    "# Define parameter grid\n",
    "param_grid = {\n",
    "    'n_estimators': [100, 200, 500],\n",
    "    'max_depth': [3, 4, 5],\n",
    "    'learning_rate': [0.01, 0.05, 0.1],\n",
    "    'subsample': [0.8, 1.0],\n",
    "    'colsample_bytree': [0.8, 1.0]\n",
    "}\n",
    "\n",
    "# Initialize base model\n",
    "xgb = XGBRegressor(random_state=42)\n",
    "\n",
    "# Grid search with 5-fold CV\n",
    "grid_search = GridSearchCV(\n",
    "    estimator=xgb,\n",
    "    param_grid=param_grid,\n",
    "    cv=5,\n",
    "    scoring='r2',  # You can change this to 'neg_mean_squared_error', etc.\n",
    "    verbose=1,\n",
    "    n_jobs=-1\n",
    ")\n",
    "\n",
    "# Fit search\n",
    "grid_search.fit(X_train, y_train)\n",
    "\n",
    "# Best model\n",
    "best_model = grid_search.best_estimator_\n",
    "\n",
    "print(\"Best Parameters:\", grid_search.best_params_)\n",
    "print(\"Best R² Score on Training:\", grid_search.best_score_)\n",
    "\n",
    "# Evaluate on test set\n",
    "from sklearn.metrics import mean_squared_error, r2_score\n",
    "\n",
    "y_pred = best_model.predict(X_test)\n",
    "print(\"Test R²:\", r2_score(y_test, y_pred))\n",
    "print(\"Test RMSE:\", mean_squared_error(y_test, y_pred, squared=False))"
   ]
  },
  {
   "cell_type": "markdown",
   "id": "87ffb379",
   "metadata": {},
   "source": [
    "Assessment "
   ]
  },
  {
   "cell_type": "code",
   "execution_count": 42,
   "id": "19ba2fe6",
   "metadata": {},
   "outputs": [
    {
     "name": "stdout",
     "output_type": "stream",
     "text": [
      "🔍 ElasticNet Evaluation\n",
      "R² Score: 0.385\n",
      "RMSE: 0.079\n",
      "MAE: 0.061\n",
      "----------------------------------------\n",
      "None\n",
      "🔍 XGBoost Evaluation\n",
      "R² Score: 0.294\n",
      "RMSE: 0.085\n",
      "MAE: 0.068\n",
      "----------------------------------------\n",
      "None\n"
     ]
    },
    {
     "name": "stderr",
     "output_type": "stream",
     "text": [
      "/opt/anaconda3/lib/python3.12/site-packages/sklearn/metrics/_regression.py:483: FutureWarning:\n",
      "\n",
      "'squared' is deprecated in version 1.4 and will be removed in 1.6. To calculate the root mean squared error, use the function'root_mean_squared_error'.\n",
      "\n",
      "/opt/anaconda3/lib/python3.12/site-packages/sklearn/metrics/_regression.py:483: FutureWarning:\n",
      "\n",
      "'squared' is deprecated in version 1.4 and will be removed in 1.6. To calculate the root mean squared error, use the function'root_mean_squared_error'.\n",
      "\n"
     ]
    }
   ],
   "source": [
    "from sklearn.metrics import mean_squared_error, mean_absolute_error, r2_score\n",
    "\n",
    "def evaluate_model(name, y_true, y_pred):\n",
    "    print(f\"🔍 {name} Evaluation\")\n",
    "    print(f\"R² Score: {r2_score(y_true, y_pred):.3f}\")\n",
    "    print(f\"RMSE: {mean_squared_error(y_true, y_pred, squared=False):.3f}\")\n",
    "    print(f\"MAE: {mean_absolute_error(y_true, y_pred):.3f}\")\n",
    "    print('-' * 40)\n",
    "\n",
    "print(evaluate_model(\"ElasticNet\", y_test, y_pred_enet))\n",
    "print(evaluate_model(\"XGBoost\", y_test, y_pred_xgb))"
   ]
  },
  {
   "cell_type": "markdown",
   "id": "7e636cce",
   "metadata": {},
   "source": [
    "Plotting Predictions vs actual for both models"
   ]
  },
  {
   "cell_type": "code",
   "execution_count": 23,
   "id": "5aff6f79",
   "metadata": {},
   "outputs": [
    {
     "data": {
      "application/vnd.plotly.v1+json": {
       "config": {
        "plotlyServerURL": "https://plot.ly"
       },
       "data": [
        {
         "marker": {
          "opacity": 0.7,
          "size": 8
         },
         "mode": "markers",
         "name": "Predictions",
         "type": "scatter",
         "x": [
          0.918032787,
          0.869565217,
          0.84,
          0.923076923,
          0.956521739,
          0.702380952,
          0.756756757,
          0.767857143,
          0.535211268,
          0.748148148,
          0.851239669,
          0.849315068,
          0.886792453,
          0.870588235,
          1,
          0.627530364,
          0.866666667,
          0.884057971,
          0.816666667,
          0.839622642,
          0.783018868,
          0.861111111,
          0.835443038,
          0.661870504,
          0.847619048,
          0.817708333,
          0.836734694,
          0.975,
          0.928571429,
          0.847222222,
          0.85,
          0.96,
          0.866666667,
          0.685534591,
          0.775280899,
          0.762886598,
          0.775,
          0.62305296,
          0.935483871,
          0.955223881,
          1,
          0.770114943,
          0.850574713,
          0.808823529,
          0.9375
         ],
         "y": [
          0.8512214192146793,
          0.8899006694151875,
          0.9154678092728527,
          0.9303873036275567,
          0.9055842444440554,
          0.8659749955554589,
          0.8023416414507474,
          0.8339839752115276,
          0.790247834363269,
          0.819317145138671,
          0.8467124869179353,
          0.7974282210017772,
          0.8874594315401265,
          0.8234215176771361,
          0.9411558283020484,
          0.7915498182053821,
          0.8730344314163838,
          0.8692261320967543,
          0.9019077302347428,
          0.7744441593125473,
          0.8390291807708147,
          0.8958542049970953,
          0.7716742736143967,
          0.797307270224194,
          0.8548003528233349,
          0.7917575152508883,
          0.9004289940459714,
          0.8941368270639697,
          0.9280870552901405,
          0.8265633885293115,
          0.8710434996856197,
          0.9635167988547593,
          0.9143843568089798,
          0.8032282312018477,
          0.843341250354786,
          0.8497659815967816,
          0.8651767819776875,
          0.7680294832536089,
          0.8980769114939162,
          0.8643343803132517,
          0.9629371166552282,
          0.8265633885293115,
          0.8036335701098033,
          0.8895728723478273,
          0.9246615754572695
         ]
        },
        {
         "line": {
          "color": "red",
          "dash": "dash"
         },
         "mode": "lines",
         "name": "Ideal Fit",
         "type": "scatter",
         "x": [
          0.535211268,
          1
         ],
         "y": [
          0.535211268,
          1
         ]
        }
       ],
       "layout": {
        "height": 600,
        "template": {
         "data": {
          "bar": [
           {
            "error_x": {
             "color": "#2a3f5f"
            },
            "error_y": {
             "color": "#2a3f5f"
            },
            "marker": {
             "line": {
              "color": "white",
              "width": 0.5
             },
             "pattern": {
              "fillmode": "overlay",
              "size": 10,
              "solidity": 0.2
             }
            },
            "type": "bar"
           }
          ],
          "barpolar": [
           {
            "marker": {
             "line": {
              "color": "white",
              "width": 0.5
             },
             "pattern": {
              "fillmode": "overlay",
              "size": 10,
              "solidity": 0.2
             }
            },
            "type": "barpolar"
           }
          ],
          "carpet": [
           {
            "aaxis": {
             "endlinecolor": "#2a3f5f",
             "gridcolor": "#C8D4E3",
             "linecolor": "#C8D4E3",
             "minorgridcolor": "#C8D4E3",
             "startlinecolor": "#2a3f5f"
            },
            "baxis": {
             "endlinecolor": "#2a3f5f",
             "gridcolor": "#C8D4E3",
             "linecolor": "#C8D4E3",
             "minorgridcolor": "#C8D4E3",
             "startlinecolor": "#2a3f5f"
            },
            "type": "carpet"
           }
          ],
          "choropleth": [
           {
            "colorbar": {
             "outlinewidth": 0,
             "ticks": ""
            },
            "type": "choropleth"
           }
          ],
          "contour": [
           {
            "colorbar": {
             "outlinewidth": 0,
             "ticks": ""
            },
            "colorscale": [
             [
              0,
              "#0d0887"
             ],
             [
              0.1111111111111111,
              "#46039f"
             ],
             [
              0.2222222222222222,
              "#7201a8"
             ],
             [
              0.3333333333333333,
              "#9c179e"
             ],
             [
              0.4444444444444444,
              "#bd3786"
             ],
             [
              0.5555555555555556,
              "#d8576b"
             ],
             [
              0.6666666666666666,
              "#ed7953"
             ],
             [
              0.7777777777777778,
              "#fb9f3a"
             ],
             [
              0.8888888888888888,
              "#fdca26"
             ],
             [
              1,
              "#f0f921"
             ]
            ],
            "type": "contour"
           }
          ],
          "contourcarpet": [
           {
            "colorbar": {
             "outlinewidth": 0,
             "ticks": ""
            },
            "type": "contourcarpet"
           }
          ],
          "heatmap": [
           {
            "colorbar": {
             "outlinewidth": 0,
             "ticks": ""
            },
            "colorscale": [
             [
              0,
              "#0d0887"
             ],
             [
              0.1111111111111111,
              "#46039f"
             ],
             [
              0.2222222222222222,
              "#7201a8"
             ],
             [
              0.3333333333333333,
              "#9c179e"
             ],
             [
              0.4444444444444444,
              "#bd3786"
             ],
             [
              0.5555555555555556,
              "#d8576b"
             ],
             [
              0.6666666666666666,
              "#ed7953"
             ],
             [
              0.7777777777777778,
              "#fb9f3a"
             ],
             [
              0.8888888888888888,
              "#fdca26"
             ],
             [
              1,
              "#f0f921"
             ]
            ],
            "type": "heatmap"
           }
          ],
          "heatmapgl": [
           {
            "colorbar": {
             "outlinewidth": 0,
             "ticks": ""
            },
            "colorscale": [
             [
              0,
              "#0d0887"
             ],
             [
              0.1111111111111111,
              "#46039f"
             ],
             [
              0.2222222222222222,
              "#7201a8"
             ],
             [
              0.3333333333333333,
              "#9c179e"
             ],
             [
              0.4444444444444444,
              "#bd3786"
             ],
             [
              0.5555555555555556,
              "#d8576b"
             ],
             [
              0.6666666666666666,
              "#ed7953"
             ],
             [
              0.7777777777777778,
              "#fb9f3a"
             ],
             [
              0.8888888888888888,
              "#fdca26"
             ],
             [
              1,
              "#f0f921"
             ]
            ],
            "type": "heatmapgl"
           }
          ],
          "histogram": [
           {
            "marker": {
             "pattern": {
              "fillmode": "overlay",
              "size": 10,
              "solidity": 0.2
             }
            },
            "type": "histogram"
           }
          ],
          "histogram2d": [
           {
            "colorbar": {
             "outlinewidth": 0,
             "ticks": ""
            },
            "colorscale": [
             [
              0,
              "#0d0887"
             ],
             [
              0.1111111111111111,
              "#46039f"
             ],
             [
              0.2222222222222222,
              "#7201a8"
             ],
             [
              0.3333333333333333,
              "#9c179e"
             ],
             [
              0.4444444444444444,
              "#bd3786"
             ],
             [
              0.5555555555555556,
              "#d8576b"
             ],
             [
              0.6666666666666666,
              "#ed7953"
             ],
             [
              0.7777777777777778,
              "#fb9f3a"
             ],
             [
              0.8888888888888888,
              "#fdca26"
             ],
             [
              1,
              "#f0f921"
             ]
            ],
            "type": "histogram2d"
           }
          ],
          "histogram2dcontour": [
           {
            "colorbar": {
             "outlinewidth": 0,
             "ticks": ""
            },
            "colorscale": [
             [
              0,
              "#0d0887"
             ],
             [
              0.1111111111111111,
              "#46039f"
             ],
             [
              0.2222222222222222,
              "#7201a8"
             ],
             [
              0.3333333333333333,
              "#9c179e"
             ],
             [
              0.4444444444444444,
              "#bd3786"
             ],
             [
              0.5555555555555556,
              "#d8576b"
             ],
             [
              0.6666666666666666,
              "#ed7953"
             ],
             [
              0.7777777777777778,
              "#fb9f3a"
             ],
             [
              0.8888888888888888,
              "#fdca26"
             ],
             [
              1,
              "#f0f921"
             ]
            ],
            "type": "histogram2dcontour"
           }
          ],
          "mesh3d": [
           {
            "colorbar": {
             "outlinewidth": 0,
             "ticks": ""
            },
            "type": "mesh3d"
           }
          ],
          "parcoords": [
           {
            "line": {
             "colorbar": {
              "outlinewidth": 0,
              "ticks": ""
             }
            },
            "type": "parcoords"
           }
          ],
          "pie": [
           {
            "automargin": true,
            "type": "pie"
           }
          ],
          "scatter": [
           {
            "fillpattern": {
             "fillmode": "overlay",
             "size": 10,
             "solidity": 0.2
            },
            "type": "scatter"
           }
          ],
          "scatter3d": [
           {
            "line": {
             "colorbar": {
              "outlinewidth": 0,
              "ticks": ""
             }
            },
            "marker": {
             "colorbar": {
              "outlinewidth": 0,
              "ticks": ""
             }
            },
            "type": "scatter3d"
           }
          ],
          "scattercarpet": [
           {
            "marker": {
             "colorbar": {
              "outlinewidth": 0,
              "ticks": ""
             }
            },
            "type": "scattercarpet"
           }
          ],
          "scattergeo": [
           {
            "marker": {
             "colorbar": {
              "outlinewidth": 0,
              "ticks": ""
             }
            },
            "type": "scattergeo"
           }
          ],
          "scattergl": [
           {
            "marker": {
             "colorbar": {
              "outlinewidth": 0,
              "ticks": ""
             }
            },
            "type": "scattergl"
           }
          ],
          "scattermapbox": [
           {
            "marker": {
             "colorbar": {
              "outlinewidth": 0,
              "ticks": ""
             }
            },
            "type": "scattermapbox"
           }
          ],
          "scatterpolar": [
           {
            "marker": {
             "colorbar": {
              "outlinewidth": 0,
              "ticks": ""
             }
            },
            "type": "scatterpolar"
           }
          ],
          "scatterpolargl": [
           {
            "marker": {
             "colorbar": {
              "outlinewidth": 0,
              "ticks": ""
             }
            },
            "type": "scatterpolargl"
           }
          ],
          "scatterternary": [
           {
            "marker": {
             "colorbar": {
              "outlinewidth": 0,
              "ticks": ""
             }
            },
            "type": "scatterternary"
           }
          ],
          "surface": [
           {
            "colorbar": {
             "outlinewidth": 0,
             "ticks": ""
            },
            "colorscale": [
             [
              0,
              "#0d0887"
             ],
             [
              0.1111111111111111,
              "#46039f"
             ],
             [
              0.2222222222222222,
              "#7201a8"
             ],
             [
              0.3333333333333333,
              "#9c179e"
             ],
             [
              0.4444444444444444,
              "#bd3786"
             ],
             [
              0.5555555555555556,
              "#d8576b"
             ],
             [
              0.6666666666666666,
              "#ed7953"
             ],
             [
              0.7777777777777778,
              "#fb9f3a"
             ],
             [
              0.8888888888888888,
              "#fdca26"
             ],
             [
              1,
              "#f0f921"
             ]
            ],
            "type": "surface"
           }
          ],
          "table": [
           {
            "cells": {
             "fill": {
              "color": "#EBF0F8"
             },
             "line": {
              "color": "white"
             }
            },
            "header": {
             "fill": {
              "color": "#C8D4E3"
             },
             "line": {
              "color": "white"
             }
            },
            "type": "table"
           }
          ]
         },
         "layout": {
          "annotationdefaults": {
           "arrowcolor": "#2a3f5f",
           "arrowhead": 0,
           "arrowwidth": 1
          },
          "autotypenumbers": "strict",
          "coloraxis": {
           "colorbar": {
            "outlinewidth": 0,
            "ticks": ""
           }
          },
          "colorscale": {
           "diverging": [
            [
             0,
             "#8e0152"
            ],
            [
             0.1,
             "#c51b7d"
            ],
            [
             0.2,
             "#de77ae"
            ],
            [
             0.3,
             "#f1b6da"
            ],
            [
             0.4,
             "#fde0ef"
            ],
            [
             0.5,
             "#f7f7f7"
            ],
            [
             0.6,
             "#e6f5d0"
            ],
            [
             0.7,
             "#b8e186"
            ],
            [
             0.8,
             "#7fbc41"
            ],
            [
             0.9,
             "#4d9221"
            ],
            [
             1,
             "#276419"
            ]
           ],
           "sequential": [
            [
             0,
             "#0d0887"
            ],
            [
             0.1111111111111111,
             "#46039f"
            ],
            [
             0.2222222222222222,
             "#7201a8"
            ],
            [
             0.3333333333333333,
             "#9c179e"
            ],
            [
             0.4444444444444444,
             "#bd3786"
            ],
            [
             0.5555555555555556,
             "#d8576b"
            ],
            [
             0.6666666666666666,
             "#ed7953"
            ],
            [
             0.7777777777777778,
             "#fb9f3a"
            ],
            [
             0.8888888888888888,
             "#fdca26"
            ],
            [
             1,
             "#f0f921"
            ]
           ],
           "sequentialminus": [
            [
             0,
             "#0d0887"
            ],
            [
             0.1111111111111111,
             "#46039f"
            ],
            [
             0.2222222222222222,
             "#7201a8"
            ],
            [
             0.3333333333333333,
             "#9c179e"
            ],
            [
             0.4444444444444444,
             "#bd3786"
            ],
            [
             0.5555555555555556,
             "#d8576b"
            ],
            [
             0.6666666666666666,
             "#ed7953"
            ],
            [
             0.7777777777777778,
             "#fb9f3a"
            ],
            [
             0.8888888888888888,
             "#fdca26"
            ],
            [
             1,
             "#f0f921"
            ]
           ]
          },
          "colorway": [
           "#636efa",
           "#EF553B",
           "#00cc96",
           "#ab63fa",
           "#FFA15A",
           "#19d3f3",
           "#FF6692",
           "#B6E880",
           "#FF97FF",
           "#FECB52"
          ],
          "font": {
           "color": "#2a3f5f"
          },
          "geo": {
           "bgcolor": "white",
           "lakecolor": "white",
           "landcolor": "white",
           "showlakes": true,
           "showland": true,
           "subunitcolor": "#C8D4E3"
          },
          "hoverlabel": {
           "align": "left"
          },
          "hovermode": "closest",
          "mapbox": {
           "style": "light"
          },
          "paper_bgcolor": "white",
          "plot_bgcolor": "white",
          "polar": {
           "angularaxis": {
            "gridcolor": "#EBF0F8",
            "linecolor": "#EBF0F8",
            "ticks": ""
           },
           "bgcolor": "white",
           "radialaxis": {
            "gridcolor": "#EBF0F8",
            "linecolor": "#EBF0F8",
            "ticks": ""
           }
          },
          "scene": {
           "xaxis": {
            "backgroundcolor": "white",
            "gridcolor": "#DFE8F3",
            "gridwidth": 2,
            "linecolor": "#EBF0F8",
            "showbackground": true,
            "ticks": "",
            "zerolinecolor": "#EBF0F8"
           },
           "yaxis": {
            "backgroundcolor": "white",
            "gridcolor": "#DFE8F3",
            "gridwidth": 2,
            "linecolor": "#EBF0F8",
            "showbackground": true,
            "ticks": "",
            "zerolinecolor": "#EBF0F8"
           },
           "zaxis": {
            "backgroundcolor": "white",
            "gridcolor": "#DFE8F3",
            "gridwidth": 2,
            "linecolor": "#EBF0F8",
            "showbackground": true,
            "ticks": "",
            "zerolinecolor": "#EBF0F8"
           }
          },
          "shapedefaults": {
           "line": {
            "color": "#2a3f5f"
           }
          },
          "ternary": {
           "aaxis": {
            "gridcolor": "#DFE8F3",
            "linecolor": "#A2B1C6",
            "ticks": ""
           },
           "baxis": {
            "gridcolor": "#DFE8F3",
            "linecolor": "#A2B1C6",
            "ticks": ""
           },
           "bgcolor": "white",
           "caxis": {
            "gridcolor": "#DFE8F3",
            "linecolor": "#A2B1C6",
            "ticks": ""
           }
          },
          "title": {
           "x": 0.05
          },
          "xaxis": {
           "automargin": true,
           "gridcolor": "#EBF0F8",
           "linecolor": "#EBF0F8",
           "ticks": "",
           "title": {
            "standoff": 15
           },
           "zerolinecolor": "#EBF0F8",
           "zerolinewidth": 2
          },
          "yaxis": {
           "automargin": true,
           "gridcolor": "#EBF0F8",
           "linecolor": "#EBF0F8",
           "ticks": "",
           "title": {
            "standoff": 15
           },
           "zerolinecolor": "#EBF0F8",
           "zerolinewidth": 2
          }
         }
        },
        "title": {
         "text": "ElasticNet Predictions vs Actual"
        },
        "width": 600,
        "xaxis": {
         "title": {
          "text": "Actual"
         }
        },
        "yaxis": {
         "title": {
          "text": "Predicted"
         }
        }
       }
      }
     },
     "metadata": {},
     "output_type": "display_data"
    },
    {
     "data": {
      "application/vnd.plotly.v1+json": {
       "config": {
        "plotlyServerURL": "https://plot.ly"
       },
       "data": [
        {
         "marker": {
          "opacity": 0.7,
          "size": 8
         },
         "mode": "markers",
         "name": "Predictions",
         "type": "scatter",
         "x": [
          0.918032787,
          0.869565217,
          0.84,
          0.923076923,
          0.956521739,
          0.702380952,
          0.756756757,
          0.767857143,
          0.535211268,
          0.748148148,
          0.851239669,
          0.849315068,
          0.886792453,
          0.870588235,
          1,
          0.627530364,
          0.866666667,
          0.884057971,
          0.816666667,
          0.839622642,
          0.783018868,
          0.861111111,
          0.835443038,
          0.661870504,
          0.847619048,
          0.817708333,
          0.836734694,
          0.975,
          0.928571429,
          0.847222222,
          0.85,
          0.96,
          0.866666667,
          0.685534591,
          0.775280899,
          0.762886598,
          0.775,
          0.62305296,
          0.935483871,
          0.955223881,
          1,
          0.770114943,
          0.850574713,
          0.808823529,
          0.9375
         ],
         "y": [
          0.8477254509925842,
          0.9429633617401123,
          0.9517616629600525,
          0.8838881254196167,
          0.9257259964942932,
          0.870290219783783,
          0.8019139766693115,
          0.8087093830108643,
          0.7904288172721863,
          0.8429110646247864,
          0.7976059317588806,
          0.7808945178985596,
          0.8489748239517212,
          0.8610468506813049,
          0.9228994846343994,
          0.7075526714324951,
          0.8762660622596741,
          0.8762068748474121,
          0.8856488466262817,
          0.8205044269561768,
          0.8004946112632751,
          0.9600567817687988,
          0.8964006304740906,
          0.8686831593513489,
          0.9232269525527954,
          0.7611448764801025,
          0.9279125332832336,
          0.9310944080352783,
          0.930843710899353,
          0.8026760220527649,
          0.9261327385902405,
          0.9707310199737549,
          0.9499172568321228,
          0.7481197118759155,
          0.8099433779716492,
          0.8239704370498657,
          0.869459331035614,
          0.7594278454780579,
          0.8423331379890442,
          0.8596674203872681,
          0.9534953832626343,
          0.8026760220527649,
          0.8663665056228638,
          0.9446828961372375,
          0.957413911819458
         ]
        },
        {
         "line": {
          "color": "red",
          "dash": "dash"
         },
         "mode": "lines",
         "name": "Ideal Fit",
         "type": "scatter",
         "x": [
          0.535211268,
          1
         ],
         "y": [
          0.535211268,
          1
         ]
        }
       ],
       "layout": {
        "height": 600,
        "template": {
         "data": {
          "bar": [
           {
            "error_x": {
             "color": "#2a3f5f"
            },
            "error_y": {
             "color": "#2a3f5f"
            },
            "marker": {
             "line": {
              "color": "white",
              "width": 0.5
             },
             "pattern": {
              "fillmode": "overlay",
              "size": 10,
              "solidity": 0.2
             }
            },
            "type": "bar"
           }
          ],
          "barpolar": [
           {
            "marker": {
             "line": {
              "color": "white",
              "width": 0.5
             },
             "pattern": {
              "fillmode": "overlay",
              "size": 10,
              "solidity": 0.2
             }
            },
            "type": "barpolar"
           }
          ],
          "carpet": [
           {
            "aaxis": {
             "endlinecolor": "#2a3f5f",
             "gridcolor": "#C8D4E3",
             "linecolor": "#C8D4E3",
             "minorgridcolor": "#C8D4E3",
             "startlinecolor": "#2a3f5f"
            },
            "baxis": {
             "endlinecolor": "#2a3f5f",
             "gridcolor": "#C8D4E3",
             "linecolor": "#C8D4E3",
             "minorgridcolor": "#C8D4E3",
             "startlinecolor": "#2a3f5f"
            },
            "type": "carpet"
           }
          ],
          "choropleth": [
           {
            "colorbar": {
             "outlinewidth": 0,
             "ticks": ""
            },
            "type": "choropleth"
           }
          ],
          "contour": [
           {
            "colorbar": {
             "outlinewidth": 0,
             "ticks": ""
            },
            "colorscale": [
             [
              0,
              "#0d0887"
             ],
             [
              0.1111111111111111,
              "#46039f"
             ],
             [
              0.2222222222222222,
              "#7201a8"
             ],
             [
              0.3333333333333333,
              "#9c179e"
             ],
             [
              0.4444444444444444,
              "#bd3786"
             ],
             [
              0.5555555555555556,
              "#d8576b"
             ],
             [
              0.6666666666666666,
              "#ed7953"
             ],
             [
              0.7777777777777778,
              "#fb9f3a"
             ],
             [
              0.8888888888888888,
              "#fdca26"
             ],
             [
              1,
              "#f0f921"
             ]
            ],
            "type": "contour"
           }
          ],
          "contourcarpet": [
           {
            "colorbar": {
             "outlinewidth": 0,
             "ticks": ""
            },
            "type": "contourcarpet"
           }
          ],
          "heatmap": [
           {
            "colorbar": {
             "outlinewidth": 0,
             "ticks": ""
            },
            "colorscale": [
             [
              0,
              "#0d0887"
             ],
             [
              0.1111111111111111,
              "#46039f"
             ],
             [
              0.2222222222222222,
              "#7201a8"
             ],
             [
              0.3333333333333333,
              "#9c179e"
             ],
             [
              0.4444444444444444,
              "#bd3786"
             ],
             [
              0.5555555555555556,
              "#d8576b"
             ],
             [
              0.6666666666666666,
              "#ed7953"
             ],
             [
              0.7777777777777778,
              "#fb9f3a"
             ],
             [
              0.8888888888888888,
              "#fdca26"
             ],
             [
              1,
              "#f0f921"
             ]
            ],
            "type": "heatmap"
           }
          ],
          "heatmapgl": [
           {
            "colorbar": {
             "outlinewidth": 0,
             "ticks": ""
            },
            "colorscale": [
             [
              0,
              "#0d0887"
             ],
             [
              0.1111111111111111,
              "#46039f"
             ],
             [
              0.2222222222222222,
              "#7201a8"
             ],
             [
              0.3333333333333333,
              "#9c179e"
             ],
             [
              0.4444444444444444,
              "#bd3786"
             ],
             [
              0.5555555555555556,
              "#d8576b"
             ],
             [
              0.6666666666666666,
              "#ed7953"
             ],
             [
              0.7777777777777778,
              "#fb9f3a"
             ],
             [
              0.8888888888888888,
              "#fdca26"
             ],
             [
              1,
              "#f0f921"
             ]
            ],
            "type": "heatmapgl"
           }
          ],
          "histogram": [
           {
            "marker": {
             "pattern": {
              "fillmode": "overlay",
              "size": 10,
              "solidity": 0.2
             }
            },
            "type": "histogram"
           }
          ],
          "histogram2d": [
           {
            "colorbar": {
             "outlinewidth": 0,
             "ticks": ""
            },
            "colorscale": [
             [
              0,
              "#0d0887"
             ],
             [
              0.1111111111111111,
              "#46039f"
             ],
             [
              0.2222222222222222,
              "#7201a8"
             ],
             [
              0.3333333333333333,
              "#9c179e"
             ],
             [
              0.4444444444444444,
              "#bd3786"
             ],
             [
              0.5555555555555556,
              "#d8576b"
             ],
             [
              0.6666666666666666,
              "#ed7953"
             ],
             [
              0.7777777777777778,
              "#fb9f3a"
             ],
             [
              0.8888888888888888,
              "#fdca26"
             ],
             [
              1,
              "#f0f921"
             ]
            ],
            "type": "histogram2d"
           }
          ],
          "histogram2dcontour": [
           {
            "colorbar": {
             "outlinewidth": 0,
             "ticks": ""
            },
            "colorscale": [
             [
              0,
              "#0d0887"
             ],
             [
              0.1111111111111111,
              "#46039f"
             ],
             [
              0.2222222222222222,
              "#7201a8"
             ],
             [
              0.3333333333333333,
              "#9c179e"
             ],
             [
              0.4444444444444444,
              "#bd3786"
             ],
             [
              0.5555555555555556,
              "#d8576b"
             ],
             [
              0.6666666666666666,
              "#ed7953"
             ],
             [
              0.7777777777777778,
              "#fb9f3a"
             ],
             [
              0.8888888888888888,
              "#fdca26"
             ],
             [
              1,
              "#f0f921"
             ]
            ],
            "type": "histogram2dcontour"
           }
          ],
          "mesh3d": [
           {
            "colorbar": {
             "outlinewidth": 0,
             "ticks": ""
            },
            "type": "mesh3d"
           }
          ],
          "parcoords": [
           {
            "line": {
             "colorbar": {
              "outlinewidth": 0,
              "ticks": ""
             }
            },
            "type": "parcoords"
           }
          ],
          "pie": [
           {
            "automargin": true,
            "type": "pie"
           }
          ],
          "scatter": [
           {
            "fillpattern": {
             "fillmode": "overlay",
             "size": 10,
             "solidity": 0.2
            },
            "type": "scatter"
           }
          ],
          "scatter3d": [
           {
            "line": {
             "colorbar": {
              "outlinewidth": 0,
              "ticks": ""
             }
            },
            "marker": {
             "colorbar": {
              "outlinewidth": 0,
              "ticks": ""
             }
            },
            "type": "scatter3d"
           }
          ],
          "scattercarpet": [
           {
            "marker": {
             "colorbar": {
              "outlinewidth": 0,
              "ticks": ""
             }
            },
            "type": "scattercarpet"
           }
          ],
          "scattergeo": [
           {
            "marker": {
             "colorbar": {
              "outlinewidth": 0,
              "ticks": ""
             }
            },
            "type": "scattergeo"
           }
          ],
          "scattergl": [
           {
            "marker": {
             "colorbar": {
              "outlinewidth": 0,
              "ticks": ""
             }
            },
            "type": "scattergl"
           }
          ],
          "scattermapbox": [
           {
            "marker": {
             "colorbar": {
              "outlinewidth": 0,
              "ticks": ""
             }
            },
            "type": "scattermapbox"
           }
          ],
          "scatterpolar": [
           {
            "marker": {
             "colorbar": {
              "outlinewidth": 0,
              "ticks": ""
             }
            },
            "type": "scatterpolar"
           }
          ],
          "scatterpolargl": [
           {
            "marker": {
             "colorbar": {
              "outlinewidth": 0,
              "ticks": ""
             }
            },
            "type": "scatterpolargl"
           }
          ],
          "scatterternary": [
           {
            "marker": {
             "colorbar": {
              "outlinewidth": 0,
              "ticks": ""
             }
            },
            "type": "scatterternary"
           }
          ],
          "surface": [
           {
            "colorbar": {
             "outlinewidth": 0,
             "ticks": ""
            },
            "colorscale": [
             [
              0,
              "#0d0887"
             ],
             [
              0.1111111111111111,
              "#46039f"
             ],
             [
              0.2222222222222222,
              "#7201a8"
             ],
             [
              0.3333333333333333,
              "#9c179e"
             ],
             [
              0.4444444444444444,
              "#bd3786"
             ],
             [
              0.5555555555555556,
              "#d8576b"
             ],
             [
              0.6666666666666666,
              "#ed7953"
             ],
             [
              0.7777777777777778,
              "#fb9f3a"
             ],
             [
              0.8888888888888888,
              "#fdca26"
             ],
             [
              1,
              "#f0f921"
             ]
            ],
            "type": "surface"
           }
          ],
          "table": [
           {
            "cells": {
             "fill": {
              "color": "#EBF0F8"
             },
             "line": {
              "color": "white"
             }
            },
            "header": {
             "fill": {
              "color": "#C8D4E3"
             },
             "line": {
              "color": "white"
             }
            },
            "type": "table"
           }
          ]
         },
         "layout": {
          "annotationdefaults": {
           "arrowcolor": "#2a3f5f",
           "arrowhead": 0,
           "arrowwidth": 1
          },
          "autotypenumbers": "strict",
          "coloraxis": {
           "colorbar": {
            "outlinewidth": 0,
            "ticks": ""
           }
          },
          "colorscale": {
           "diverging": [
            [
             0,
             "#8e0152"
            ],
            [
             0.1,
             "#c51b7d"
            ],
            [
             0.2,
             "#de77ae"
            ],
            [
             0.3,
             "#f1b6da"
            ],
            [
             0.4,
             "#fde0ef"
            ],
            [
             0.5,
             "#f7f7f7"
            ],
            [
             0.6,
             "#e6f5d0"
            ],
            [
             0.7,
             "#b8e186"
            ],
            [
             0.8,
             "#7fbc41"
            ],
            [
             0.9,
             "#4d9221"
            ],
            [
             1,
             "#276419"
            ]
           ],
           "sequential": [
            [
             0,
             "#0d0887"
            ],
            [
             0.1111111111111111,
             "#46039f"
            ],
            [
             0.2222222222222222,
             "#7201a8"
            ],
            [
             0.3333333333333333,
             "#9c179e"
            ],
            [
             0.4444444444444444,
             "#bd3786"
            ],
            [
             0.5555555555555556,
             "#d8576b"
            ],
            [
             0.6666666666666666,
             "#ed7953"
            ],
            [
             0.7777777777777778,
             "#fb9f3a"
            ],
            [
             0.8888888888888888,
             "#fdca26"
            ],
            [
             1,
             "#f0f921"
            ]
           ],
           "sequentialminus": [
            [
             0,
             "#0d0887"
            ],
            [
             0.1111111111111111,
             "#46039f"
            ],
            [
             0.2222222222222222,
             "#7201a8"
            ],
            [
             0.3333333333333333,
             "#9c179e"
            ],
            [
             0.4444444444444444,
             "#bd3786"
            ],
            [
             0.5555555555555556,
             "#d8576b"
            ],
            [
             0.6666666666666666,
             "#ed7953"
            ],
            [
             0.7777777777777778,
             "#fb9f3a"
            ],
            [
             0.8888888888888888,
             "#fdca26"
            ],
            [
             1,
             "#f0f921"
            ]
           ]
          },
          "colorway": [
           "#636efa",
           "#EF553B",
           "#00cc96",
           "#ab63fa",
           "#FFA15A",
           "#19d3f3",
           "#FF6692",
           "#B6E880",
           "#FF97FF",
           "#FECB52"
          ],
          "font": {
           "color": "#2a3f5f"
          },
          "geo": {
           "bgcolor": "white",
           "lakecolor": "white",
           "landcolor": "white",
           "showlakes": true,
           "showland": true,
           "subunitcolor": "#C8D4E3"
          },
          "hoverlabel": {
           "align": "left"
          },
          "hovermode": "closest",
          "mapbox": {
           "style": "light"
          },
          "paper_bgcolor": "white",
          "plot_bgcolor": "white",
          "polar": {
           "angularaxis": {
            "gridcolor": "#EBF0F8",
            "linecolor": "#EBF0F8",
            "ticks": ""
           },
           "bgcolor": "white",
           "radialaxis": {
            "gridcolor": "#EBF0F8",
            "linecolor": "#EBF0F8",
            "ticks": ""
           }
          },
          "scene": {
           "xaxis": {
            "backgroundcolor": "white",
            "gridcolor": "#DFE8F3",
            "gridwidth": 2,
            "linecolor": "#EBF0F8",
            "showbackground": true,
            "ticks": "",
            "zerolinecolor": "#EBF0F8"
           },
           "yaxis": {
            "backgroundcolor": "white",
            "gridcolor": "#DFE8F3",
            "gridwidth": 2,
            "linecolor": "#EBF0F8",
            "showbackground": true,
            "ticks": "",
            "zerolinecolor": "#EBF0F8"
           },
           "zaxis": {
            "backgroundcolor": "white",
            "gridcolor": "#DFE8F3",
            "gridwidth": 2,
            "linecolor": "#EBF0F8",
            "showbackground": true,
            "ticks": "",
            "zerolinecolor": "#EBF0F8"
           }
          },
          "shapedefaults": {
           "line": {
            "color": "#2a3f5f"
           }
          },
          "ternary": {
           "aaxis": {
            "gridcolor": "#DFE8F3",
            "linecolor": "#A2B1C6",
            "ticks": ""
           },
           "baxis": {
            "gridcolor": "#DFE8F3",
            "linecolor": "#A2B1C6",
            "ticks": ""
           },
           "bgcolor": "white",
           "caxis": {
            "gridcolor": "#DFE8F3",
            "linecolor": "#A2B1C6",
            "ticks": ""
           }
          },
          "title": {
           "x": 0.05
          },
          "xaxis": {
           "automargin": true,
           "gridcolor": "#EBF0F8",
           "linecolor": "#EBF0F8",
           "ticks": "",
           "title": {
            "standoff": 15
           },
           "zerolinecolor": "#EBF0F8",
           "zerolinewidth": 2
          },
          "yaxis": {
           "automargin": true,
           "gridcolor": "#EBF0F8",
           "linecolor": "#EBF0F8",
           "ticks": "",
           "title": {
            "standoff": 15
           },
           "zerolinecolor": "#EBF0F8",
           "zerolinewidth": 2
          }
         }
        },
        "title": {
         "text": "XGBoost Predictions vs Actual"
        },
        "width": 600,
        "xaxis": {
         "title": {
          "text": "Actual"
         }
        },
        "yaxis": {
         "title": {
          "text": "Predicted"
         }
        }
       }
      }
     },
     "metadata": {},
     "output_type": "display_data"
    }
   ],
   "source": [
    "import plotly.graph_objects as go\n",
    "import numpy as np\n",
    "\n",
    "def plot_predictions_plotly(y_true, y_pred, model_name):\n",
    "    fig = go.Figure()\n",
    "\n",
    "    # Scatter plot: predicted vs actual\n",
    "    fig.add_trace(go.Scatter(\n",
    "        x=y_true,\n",
    "        y=y_pred,\n",
    "        mode='markers',\n",
    "        name='Predictions',\n",
    "        marker=dict(size=8, opacity=0.7)\n",
    "    ))\n",
    "\n",
    "    # Diagonal reference line (perfect prediction)\n",
    "    min_val = np.min([y_true.min(), y_pred.min()])\n",
    "    max_val = np.max([y_true.max(), y_pred.max()])\n",
    "    fig.add_trace(go.Scatter(\n",
    "        x=[min_val, max_val],\n",
    "        y=[min_val, max_val],\n",
    "        mode='lines',\n",
    "        line=dict(dash='dash', color='red'),\n",
    "        name='Ideal Fit'\n",
    "    ))\n",
    "\n",
    "    fig.update_layout(\n",
    "        title=f\"{model_name} Predictions vs Actual\",\n",
    "        xaxis_title=\"Actual\",\n",
    "        yaxis_title=\"Predicted\",\n",
    "        width=600,\n",
    "        height=600,\n",
    "        template=\"plotly_white\"\n",
    "    )\n",
    "\n",
    "    fig.show()\n",
    "\n",
    "# Usage\n",
    "plot_predictions_plotly(y_test, y_pred_enet, \"ElasticNet\")\n",
    "plot_predictions_plotly(y_test, y_pred_xgb, \"XGBoost\")"
   ]
  },
  {
   "cell_type": "markdown",
   "id": "eaf9d045",
   "metadata": {},
   "source": [
    "Scatter of Longevity vs Starting Age "
   ]
  },
  {
   "cell_type": "code",
   "execution_count": 46,
   "id": "0e398456",
   "metadata": {},
   "outputs": [
    {
     "data": {
      "application/vnd.plotly.v1+json": {
       "config": {
        "plotlyServerURL": "https://plot.ly"
       },
       "data": [
        {
         "hovertemplate": "Starting Age=%{x}<br>Longevity=%{y}<extra></extra>",
         "legendgroup": "",
         "marker": {
          "color": "#636efa",
          "symbol": "circle"
         },
         "mode": "markers",
         "name": "",
         "orientation": "v",
         "showlegend": false,
         "type": "scatter",
         "x": [
          19,
          16,
          19,
          19,
          21,
          19,
          15,
          19,
          20,
          18,
          18,
          17,
          18,
          15,
          20,
          22,
          19,
          16,
          17,
          18,
          20,
          19,
          19,
          23,
          14,
          17,
          15,
          19,
          17,
          17,
          21,
          19,
          20,
          19,
          24,
          18,
          19,
          17,
          21,
          25,
          24,
          19,
          19,
          19,
          18,
          16,
          21,
          20,
          20,
          17,
          19,
          17,
          20,
          15,
          18,
          20,
          24,
          18,
          17,
          18,
          17,
          20,
          18,
          23,
          15,
          16,
          23,
          20,
          19,
          18,
          17,
          20,
          22,
          19,
          16,
          24,
          17,
          20,
          19,
          19,
          18,
          19,
          15,
          23,
          12,
          21,
          21,
          18,
          22,
          17,
          15,
          24,
          19,
          25,
          19,
          25,
          18,
          20,
          22,
          16,
          16,
          22,
          14,
          17,
          21,
          17,
          17,
          18,
          16,
          15,
          18,
          21,
          17,
          15,
          17,
          17,
          23,
          19,
          22,
          21,
          19,
          15,
          18,
          21,
          21,
          19,
          16,
          18,
          18,
          17,
          19,
          18,
          15,
          19,
          18,
          21,
          28,
          22,
          18,
          19,
          18,
          26,
          19,
          19,
          23,
          20,
          20,
          15,
          16,
          17,
          15,
          18,
          18,
          16,
          19,
          19,
          15,
          19,
          18,
          17,
          19,
          17,
          17,
          13,
          25,
          22,
          19,
          17,
          19,
          16,
          19,
          19,
          21,
          19,
          21,
          17,
          20,
          21,
          18,
          21,
          16,
          17,
          17,
          21,
          18,
          19,
          18,
          19,
          20,
          21,
          23,
          19,
          20,
          16,
          31,
          21,
          21,
          14,
          17,
          17,
          16,
          18,
          10,
          20,
          20,
          14,
          21,
          27,
          17,
          20,
          16,
          19,
          16,
          21,
          17,
          17,
          18,
          19,
          17,
          17,
          18,
          22,
          21,
          18,
          22
         ],
         "xaxis": "x",
         "y": [
          25,
          13,
          21,
          13,
          14,
          14,
          21,
          14,
          17,
          21,
          17,
          33,
          25,
          19,
          15,
          28,
          16,
          27,
          26,
          13,
          34,
          19,
          17,
          28,
          21,
          8,
          20,
          16,
          14,
          16,
          16,
          14,
          9,
          14,
          14,
          16,
          26,
          15,
          20,
          16,
          16,
          13,
          18,
          29,
          15,
          17,
          15,
          19,
          10,
          18,
          19,
          20,
          17,
          15,
          21,
          13,
          8,
          16,
          15,
          18,
          11,
          14,
          26,
          13,
          15,
          22,
          18,
          21,
          11,
          15,
          15,
          21,
          14,
          9,
          11,
          11,
          18,
          12,
          17,
          13,
          16,
          13,
          21,
          10,
          13,
          11,
          15,
          12,
          27,
          15,
          22,
          29,
          17,
          12,
          12,
          16,
          23,
          15,
          15,
          13,
          24,
          23,
          15,
          14,
          14,
          15,
          12,
          25,
          23,
          29,
          16,
          18,
          22,
          11,
          22,
          19,
          17,
          19,
          8,
          16,
          22,
          17,
          9,
          16,
          11,
          10,
          18,
          11,
          12,
          15,
          17,
          18,
          15,
          12,
          30,
          29,
          12,
          11,
          9,
          10,
          19,
          11,
          15,
          13,
          17,
          10,
          28,
          19,
          7,
          16,
          10,
          10,
          12,
          17,
          12,
          12,
          16,
          17,
          15,
          12,
          13,
          10,
          9,
          22,
          11,
          21,
          12,
          11,
          24,
          14,
          15,
          20,
          14,
          20,
          13,
          12,
          17,
          32,
          13,
          19,
          17,
          12,
          16,
          12,
          8,
          15,
          10,
          18,
          29,
          17,
          9,
          9,
          8,
          23,
          7,
          14,
          13,
          21,
          12,
          11,
          18,
          13,
          16,
          11,
          11,
          18,
          16,
          15,
          10,
          12,
          21,
          17,
          15,
          14,
          12,
          17,
          19,
          39,
          19,
          19,
          19,
          26,
          11,
          13,
          14
         ],
         "yaxis": "y"
        },
        {
         "hovertemplate": "<b>OLS trendline</b><br>Longevity = -0.214146 * Starting Age + 20.3977<br>R<sup>2</sup>=0.011452<br><br>Starting Age=%{x}<br>Longevity=%{y} <b>(trend)</b><extra></extra>",
         "legendgroup": "",
         "marker": {
          "color": "#636efa",
          "symbol": "circle"
         },
         "mode": "lines",
         "name": "",
         "showlegend": false,
         "type": "scatter",
         "x": [
          10,
          12,
          13,
          14,
          14,
          14,
          14,
          15,
          15,
          15,
          15,
          15,
          15,
          15,
          15,
          15,
          15,
          15,
          15,
          15,
          15,
          16,
          16,
          16,
          16,
          16,
          16,
          16,
          16,
          16,
          16,
          16,
          16,
          16,
          16,
          16,
          16,
          16,
          17,
          17,
          17,
          17,
          17,
          17,
          17,
          17,
          17,
          17,
          17,
          17,
          17,
          17,
          17,
          17,
          17,
          17,
          17,
          17,
          17,
          17,
          17,
          17,
          17,
          17,
          17,
          17,
          17,
          17,
          17,
          17,
          17,
          17,
          17,
          18,
          18,
          18,
          18,
          18,
          18,
          18,
          18,
          18,
          18,
          18,
          18,
          18,
          18,
          18,
          18,
          18,
          18,
          18,
          18,
          18,
          18,
          18,
          18,
          18,
          18,
          18,
          18,
          18,
          18,
          18,
          18,
          18,
          19,
          19,
          19,
          19,
          19,
          19,
          19,
          19,
          19,
          19,
          19,
          19,
          19,
          19,
          19,
          19,
          19,
          19,
          19,
          19,
          19,
          19,
          19,
          19,
          19,
          19,
          19,
          19,
          19,
          19,
          19,
          19,
          19,
          19,
          19,
          19,
          19,
          19,
          19,
          19,
          19,
          19,
          19,
          19,
          19,
          20,
          20,
          20,
          20,
          20,
          20,
          20,
          20,
          20,
          20,
          20,
          20,
          20,
          20,
          20,
          20,
          20,
          20,
          20,
          20,
          20,
          21,
          21,
          21,
          21,
          21,
          21,
          21,
          21,
          21,
          21,
          21,
          21,
          21,
          21,
          21,
          21,
          21,
          21,
          21,
          21,
          21,
          21,
          21,
          22,
          22,
          22,
          22,
          22,
          22,
          22,
          22,
          22,
          22,
          23,
          23,
          23,
          23,
          23,
          23,
          23,
          24,
          24,
          24,
          24,
          24,
          25,
          25,
          25,
          25,
          26,
          27,
          28,
          31
         ],
         "xaxis": "x",
         "y": [
          18.256228068823436,
          17.827936273074297,
          17.613790375199724,
          17.399644477325154,
          17.399644477325154,
          17.399644477325154,
          17.399644477325154,
          17.185498579450584,
          17.185498579450584,
          17.185498579450584,
          17.185498579450584,
          17.185498579450584,
          17.185498579450584,
          17.185498579450584,
          17.185498579450584,
          17.185498579450584,
          17.185498579450584,
          17.185498579450584,
          17.185498579450584,
          17.185498579450584,
          17.185498579450584,
          16.971352681576015,
          16.971352681576015,
          16.971352681576015,
          16.971352681576015,
          16.971352681576015,
          16.971352681576015,
          16.971352681576015,
          16.971352681576015,
          16.971352681576015,
          16.971352681576015,
          16.971352681576015,
          16.971352681576015,
          16.971352681576015,
          16.971352681576015,
          16.971352681576015,
          16.971352681576015,
          16.971352681576015,
          16.757206783701445,
          16.757206783701445,
          16.757206783701445,
          16.757206783701445,
          16.757206783701445,
          16.757206783701445,
          16.757206783701445,
          16.757206783701445,
          16.757206783701445,
          16.757206783701445,
          16.757206783701445,
          16.757206783701445,
          16.757206783701445,
          16.757206783701445,
          16.757206783701445,
          16.757206783701445,
          16.757206783701445,
          16.757206783701445,
          16.757206783701445,
          16.757206783701445,
          16.757206783701445,
          16.757206783701445,
          16.757206783701445,
          16.757206783701445,
          16.757206783701445,
          16.757206783701445,
          16.757206783701445,
          16.757206783701445,
          16.757206783701445,
          16.757206783701445,
          16.757206783701445,
          16.757206783701445,
          16.757206783701445,
          16.757206783701445,
          16.757206783701445,
          16.543060885826876,
          16.543060885826876,
          16.543060885826876,
          16.543060885826876,
          16.543060885826876,
          16.543060885826876,
          16.543060885826876,
          16.543060885826876,
          16.543060885826876,
          16.543060885826876,
          16.543060885826876,
          16.543060885826876,
          16.543060885826876,
          16.543060885826876,
          16.543060885826876,
          16.543060885826876,
          16.543060885826876,
          16.543060885826876,
          16.543060885826876,
          16.543060885826876,
          16.543060885826876,
          16.543060885826876,
          16.543060885826876,
          16.543060885826876,
          16.543060885826876,
          16.543060885826876,
          16.543060885826876,
          16.543060885826876,
          16.543060885826876,
          16.543060885826876,
          16.543060885826876,
          16.543060885826876,
          16.543060885826876,
          16.328914987952306,
          16.328914987952306,
          16.328914987952306,
          16.328914987952306,
          16.328914987952306,
          16.328914987952306,
          16.328914987952306,
          16.328914987952306,
          16.328914987952306,
          16.328914987952306,
          16.328914987952306,
          16.328914987952306,
          16.328914987952306,
          16.328914987952306,
          16.328914987952306,
          16.328914987952306,
          16.328914987952306,
          16.328914987952306,
          16.328914987952306,
          16.328914987952306,
          16.328914987952306,
          16.328914987952306,
          16.328914987952306,
          16.328914987952306,
          16.328914987952306,
          16.328914987952306,
          16.328914987952306,
          16.328914987952306,
          16.328914987952306,
          16.328914987952306,
          16.328914987952306,
          16.328914987952306,
          16.328914987952306,
          16.328914987952306,
          16.328914987952306,
          16.328914987952306,
          16.328914987952306,
          16.328914987952306,
          16.328914987952306,
          16.328914987952306,
          16.328914987952306,
          16.328914987952306,
          16.328914987952306,
          16.328914987952306,
          16.328914987952306,
          16.114769090077736,
          16.114769090077736,
          16.114769090077736,
          16.114769090077736,
          16.114769090077736,
          16.114769090077736,
          16.114769090077736,
          16.114769090077736,
          16.114769090077736,
          16.114769090077736,
          16.114769090077736,
          16.114769090077736,
          16.114769090077736,
          16.114769090077736,
          16.114769090077736,
          16.114769090077736,
          16.114769090077736,
          16.114769090077736,
          16.114769090077736,
          16.114769090077736,
          16.114769090077736,
          15.900623192203167,
          15.900623192203167,
          15.900623192203167,
          15.900623192203167,
          15.900623192203167,
          15.900623192203167,
          15.900623192203167,
          15.900623192203167,
          15.900623192203167,
          15.900623192203167,
          15.900623192203167,
          15.900623192203167,
          15.900623192203167,
          15.900623192203167,
          15.900623192203167,
          15.900623192203167,
          15.900623192203167,
          15.900623192203167,
          15.900623192203167,
          15.900623192203167,
          15.900623192203167,
          15.900623192203167,
          15.900623192203167,
          15.686477294328597,
          15.686477294328597,
          15.686477294328597,
          15.686477294328597,
          15.686477294328597,
          15.686477294328597,
          15.686477294328597,
          15.686477294328597,
          15.686477294328597,
          15.686477294328597,
          15.472331396454027,
          15.472331396454027,
          15.472331396454027,
          15.472331396454027,
          15.472331396454027,
          15.472331396454027,
          15.472331396454027,
          15.258185498579458,
          15.258185498579458,
          15.258185498579458,
          15.258185498579458,
          15.258185498579458,
          15.044039600704888,
          15.044039600704888,
          15.044039600704888,
          15.044039600704888,
          14.829893702830319,
          14.615747804955749,
          14.40160190708118,
          13.75916421345747
         ],
         "yaxis": "y"
        }
       ],
       "layout": {
        "legend": {
         "tracegroupgap": 0
        },
        "template": {
         "data": {
          "bar": [
           {
            "error_x": {
             "color": "#2a3f5f"
            },
            "error_y": {
             "color": "#2a3f5f"
            },
            "marker": {
             "line": {
              "color": "#E5ECF6",
              "width": 0.5
             },
             "pattern": {
              "fillmode": "overlay",
              "size": 10,
              "solidity": 0.2
             }
            },
            "type": "bar"
           }
          ],
          "barpolar": [
           {
            "marker": {
             "line": {
              "color": "#E5ECF6",
              "width": 0.5
             },
             "pattern": {
              "fillmode": "overlay",
              "size": 10,
              "solidity": 0.2
             }
            },
            "type": "barpolar"
           }
          ],
          "carpet": [
           {
            "aaxis": {
             "endlinecolor": "#2a3f5f",
             "gridcolor": "white",
             "linecolor": "white",
             "minorgridcolor": "white",
             "startlinecolor": "#2a3f5f"
            },
            "baxis": {
             "endlinecolor": "#2a3f5f",
             "gridcolor": "white",
             "linecolor": "white",
             "minorgridcolor": "white",
             "startlinecolor": "#2a3f5f"
            },
            "type": "carpet"
           }
          ],
          "choropleth": [
           {
            "colorbar": {
             "outlinewidth": 0,
             "ticks": ""
            },
            "type": "choropleth"
           }
          ],
          "contour": [
           {
            "colorbar": {
             "outlinewidth": 0,
             "ticks": ""
            },
            "colorscale": [
             [
              0,
              "#0d0887"
             ],
             [
              0.1111111111111111,
              "#46039f"
             ],
             [
              0.2222222222222222,
              "#7201a8"
             ],
             [
              0.3333333333333333,
              "#9c179e"
             ],
             [
              0.4444444444444444,
              "#bd3786"
             ],
             [
              0.5555555555555556,
              "#d8576b"
             ],
             [
              0.6666666666666666,
              "#ed7953"
             ],
             [
              0.7777777777777778,
              "#fb9f3a"
             ],
             [
              0.8888888888888888,
              "#fdca26"
             ],
             [
              1,
              "#f0f921"
             ]
            ],
            "type": "contour"
           }
          ],
          "contourcarpet": [
           {
            "colorbar": {
             "outlinewidth": 0,
             "ticks": ""
            },
            "type": "contourcarpet"
           }
          ],
          "heatmap": [
           {
            "colorbar": {
             "outlinewidth": 0,
             "ticks": ""
            },
            "colorscale": [
             [
              0,
              "#0d0887"
             ],
             [
              0.1111111111111111,
              "#46039f"
             ],
             [
              0.2222222222222222,
              "#7201a8"
             ],
             [
              0.3333333333333333,
              "#9c179e"
             ],
             [
              0.4444444444444444,
              "#bd3786"
             ],
             [
              0.5555555555555556,
              "#d8576b"
             ],
             [
              0.6666666666666666,
              "#ed7953"
             ],
             [
              0.7777777777777778,
              "#fb9f3a"
             ],
             [
              0.8888888888888888,
              "#fdca26"
             ],
             [
              1,
              "#f0f921"
             ]
            ],
            "type": "heatmap"
           }
          ],
          "heatmapgl": [
           {
            "colorbar": {
             "outlinewidth": 0,
             "ticks": ""
            },
            "colorscale": [
             [
              0,
              "#0d0887"
             ],
             [
              0.1111111111111111,
              "#46039f"
             ],
             [
              0.2222222222222222,
              "#7201a8"
             ],
             [
              0.3333333333333333,
              "#9c179e"
             ],
             [
              0.4444444444444444,
              "#bd3786"
             ],
             [
              0.5555555555555556,
              "#d8576b"
             ],
             [
              0.6666666666666666,
              "#ed7953"
             ],
             [
              0.7777777777777778,
              "#fb9f3a"
             ],
             [
              0.8888888888888888,
              "#fdca26"
             ],
             [
              1,
              "#f0f921"
             ]
            ],
            "type": "heatmapgl"
           }
          ],
          "histogram": [
           {
            "marker": {
             "pattern": {
              "fillmode": "overlay",
              "size": 10,
              "solidity": 0.2
             }
            },
            "type": "histogram"
           }
          ],
          "histogram2d": [
           {
            "colorbar": {
             "outlinewidth": 0,
             "ticks": ""
            },
            "colorscale": [
             [
              0,
              "#0d0887"
             ],
             [
              0.1111111111111111,
              "#46039f"
             ],
             [
              0.2222222222222222,
              "#7201a8"
             ],
             [
              0.3333333333333333,
              "#9c179e"
             ],
             [
              0.4444444444444444,
              "#bd3786"
             ],
             [
              0.5555555555555556,
              "#d8576b"
             ],
             [
              0.6666666666666666,
              "#ed7953"
             ],
             [
              0.7777777777777778,
              "#fb9f3a"
             ],
             [
              0.8888888888888888,
              "#fdca26"
             ],
             [
              1,
              "#f0f921"
             ]
            ],
            "type": "histogram2d"
           }
          ],
          "histogram2dcontour": [
           {
            "colorbar": {
             "outlinewidth": 0,
             "ticks": ""
            },
            "colorscale": [
             [
              0,
              "#0d0887"
             ],
             [
              0.1111111111111111,
              "#46039f"
             ],
             [
              0.2222222222222222,
              "#7201a8"
             ],
             [
              0.3333333333333333,
              "#9c179e"
             ],
             [
              0.4444444444444444,
              "#bd3786"
             ],
             [
              0.5555555555555556,
              "#d8576b"
             ],
             [
              0.6666666666666666,
              "#ed7953"
             ],
             [
              0.7777777777777778,
              "#fb9f3a"
             ],
             [
              0.8888888888888888,
              "#fdca26"
             ],
             [
              1,
              "#f0f921"
             ]
            ],
            "type": "histogram2dcontour"
           }
          ],
          "mesh3d": [
           {
            "colorbar": {
             "outlinewidth": 0,
             "ticks": ""
            },
            "type": "mesh3d"
           }
          ],
          "parcoords": [
           {
            "line": {
             "colorbar": {
              "outlinewidth": 0,
              "ticks": ""
             }
            },
            "type": "parcoords"
           }
          ],
          "pie": [
           {
            "automargin": true,
            "type": "pie"
           }
          ],
          "scatter": [
           {
            "fillpattern": {
             "fillmode": "overlay",
             "size": 10,
             "solidity": 0.2
            },
            "type": "scatter"
           }
          ],
          "scatter3d": [
           {
            "line": {
             "colorbar": {
              "outlinewidth": 0,
              "ticks": ""
             }
            },
            "marker": {
             "colorbar": {
              "outlinewidth": 0,
              "ticks": ""
             }
            },
            "type": "scatter3d"
           }
          ],
          "scattercarpet": [
           {
            "marker": {
             "colorbar": {
              "outlinewidth": 0,
              "ticks": ""
             }
            },
            "type": "scattercarpet"
           }
          ],
          "scattergeo": [
           {
            "marker": {
             "colorbar": {
              "outlinewidth": 0,
              "ticks": ""
             }
            },
            "type": "scattergeo"
           }
          ],
          "scattergl": [
           {
            "marker": {
             "colorbar": {
              "outlinewidth": 0,
              "ticks": ""
             }
            },
            "type": "scattergl"
           }
          ],
          "scattermapbox": [
           {
            "marker": {
             "colorbar": {
              "outlinewidth": 0,
              "ticks": ""
             }
            },
            "type": "scattermapbox"
           }
          ],
          "scatterpolar": [
           {
            "marker": {
             "colorbar": {
              "outlinewidth": 0,
              "ticks": ""
             }
            },
            "type": "scatterpolar"
           }
          ],
          "scatterpolargl": [
           {
            "marker": {
             "colorbar": {
              "outlinewidth": 0,
              "ticks": ""
             }
            },
            "type": "scatterpolargl"
           }
          ],
          "scatterternary": [
           {
            "marker": {
             "colorbar": {
              "outlinewidth": 0,
              "ticks": ""
             }
            },
            "type": "scatterternary"
           }
          ],
          "surface": [
           {
            "colorbar": {
             "outlinewidth": 0,
             "ticks": ""
            },
            "colorscale": [
             [
              0,
              "#0d0887"
             ],
             [
              0.1111111111111111,
              "#46039f"
             ],
             [
              0.2222222222222222,
              "#7201a8"
             ],
             [
              0.3333333333333333,
              "#9c179e"
             ],
             [
              0.4444444444444444,
              "#bd3786"
             ],
             [
              0.5555555555555556,
              "#d8576b"
             ],
             [
              0.6666666666666666,
              "#ed7953"
             ],
             [
              0.7777777777777778,
              "#fb9f3a"
             ],
             [
              0.8888888888888888,
              "#fdca26"
             ],
             [
              1,
              "#f0f921"
             ]
            ],
            "type": "surface"
           }
          ],
          "table": [
           {
            "cells": {
             "fill": {
              "color": "#EBF0F8"
             },
             "line": {
              "color": "white"
             }
            },
            "header": {
             "fill": {
              "color": "#C8D4E3"
             },
             "line": {
              "color": "white"
             }
            },
            "type": "table"
           }
          ]
         },
         "layout": {
          "annotationdefaults": {
           "arrowcolor": "#2a3f5f",
           "arrowhead": 0,
           "arrowwidth": 1
          },
          "autotypenumbers": "strict",
          "coloraxis": {
           "colorbar": {
            "outlinewidth": 0,
            "ticks": ""
           }
          },
          "colorscale": {
           "diverging": [
            [
             0,
             "#8e0152"
            ],
            [
             0.1,
             "#c51b7d"
            ],
            [
             0.2,
             "#de77ae"
            ],
            [
             0.3,
             "#f1b6da"
            ],
            [
             0.4,
             "#fde0ef"
            ],
            [
             0.5,
             "#f7f7f7"
            ],
            [
             0.6,
             "#e6f5d0"
            ],
            [
             0.7,
             "#b8e186"
            ],
            [
             0.8,
             "#7fbc41"
            ],
            [
             0.9,
             "#4d9221"
            ],
            [
             1,
             "#276419"
            ]
           ],
           "sequential": [
            [
             0,
             "#0d0887"
            ],
            [
             0.1111111111111111,
             "#46039f"
            ],
            [
             0.2222222222222222,
             "#7201a8"
            ],
            [
             0.3333333333333333,
             "#9c179e"
            ],
            [
             0.4444444444444444,
             "#bd3786"
            ],
            [
             0.5555555555555556,
             "#d8576b"
            ],
            [
             0.6666666666666666,
             "#ed7953"
            ],
            [
             0.7777777777777778,
             "#fb9f3a"
            ],
            [
             0.8888888888888888,
             "#fdca26"
            ],
            [
             1,
             "#f0f921"
            ]
           ],
           "sequentialminus": [
            [
             0,
             "#0d0887"
            ],
            [
             0.1111111111111111,
             "#46039f"
            ],
            [
             0.2222222222222222,
             "#7201a8"
            ],
            [
             0.3333333333333333,
             "#9c179e"
            ],
            [
             0.4444444444444444,
             "#bd3786"
            ],
            [
             0.5555555555555556,
             "#d8576b"
            ],
            [
             0.6666666666666666,
             "#ed7953"
            ],
            [
             0.7777777777777778,
             "#fb9f3a"
            ],
            [
             0.8888888888888888,
             "#fdca26"
            ],
            [
             1,
             "#f0f921"
            ]
           ]
          },
          "colorway": [
           "#636efa",
           "#EF553B",
           "#00cc96",
           "#ab63fa",
           "#FFA15A",
           "#19d3f3",
           "#FF6692",
           "#B6E880",
           "#FF97FF",
           "#FECB52"
          ],
          "font": {
           "color": "#2a3f5f"
          },
          "geo": {
           "bgcolor": "white",
           "lakecolor": "white",
           "landcolor": "#E5ECF6",
           "showlakes": true,
           "showland": true,
           "subunitcolor": "white"
          },
          "hoverlabel": {
           "align": "left"
          },
          "hovermode": "closest",
          "mapbox": {
           "style": "light"
          },
          "paper_bgcolor": "white",
          "plot_bgcolor": "#E5ECF6",
          "polar": {
           "angularaxis": {
            "gridcolor": "white",
            "linecolor": "white",
            "ticks": ""
           },
           "bgcolor": "#E5ECF6",
           "radialaxis": {
            "gridcolor": "white",
            "linecolor": "white",
            "ticks": ""
           }
          },
          "scene": {
           "xaxis": {
            "backgroundcolor": "#E5ECF6",
            "gridcolor": "white",
            "gridwidth": 2,
            "linecolor": "white",
            "showbackground": true,
            "ticks": "",
            "zerolinecolor": "white"
           },
           "yaxis": {
            "backgroundcolor": "#E5ECF6",
            "gridcolor": "white",
            "gridwidth": 2,
            "linecolor": "white",
            "showbackground": true,
            "ticks": "",
            "zerolinecolor": "white"
           },
           "zaxis": {
            "backgroundcolor": "#E5ECF6",
            "gridcolor": "white",
            "gridwidth": 2,
            "linecolor": "white",
            "showbackground": true,
            "ticks": "",
            "zerolinecolor": "white"
           }
          },
          "shapedefaults": {
           "line": {
            "color": "#2a3f5f"
           }
          },
          "ternary": {
           "aaxis": {
            "gridcolor": "white",
            "linecolor": "white",
            "ticks": ""
           },
           "baxis": {
            "gridcolor": "white",
            "linecolor": "white",
            "ticks": ""
           },
           "bgcolor": "#E5ECF6",
           "caxis": {
            "gridcolor": "white",
            "linecolor": "white",
            "ticks": ""
           }
          },
          "title": {
           "x": 0.05
          },
          "xaxis": {
           "automargin": true,
           "gridcolor": "white",
           "linecolor": "white",
           "ticks": "",
           "title": {
            "standoff": 15
           },
           "zerolinecolor": "white",
           "zerolinewidth": 2
          },
          "yaxis": {
           "automargin": true,
           "gridcolor": "white",
           "linecolor": "white",
           "ticks": "",
           "title": {
            "standoff": 15
           },
           "zerolinecolor": "white",
           "zerolinewidth": 2
          }
         }
        },
        "title": {
         "text": "Longevity vs. Starting Age"
        },
        "xaxis": {
         "anchor": "y",
         "domain": [
          0,
          1
         ],
         "title": {
          "text": "Starting Age"
         }
        },
        "yaxis": {
         "anchor": "x",
         "domain": [
          0,
          1
         ],
         "title": {
          "text": "Longevity"
         }
        }
       }
      }
     },
     "metadata": {},
     "output_type": "display_data"
    }
   ],
   "source": [
    "fig_tradeoff = px.scatter(\n",
    "    boxing_d2,\n",
    "    x='Starting Age',\n",
    "    y='Longevity',\n",
    "    trendline='ols',\n",
    "    title='Longevity vs. Starting Age',\n",
    "    labels={'Starting Age': 'Starting Age', 'Win %': 'Win Percentage'}\n",
    ")\n",
    "fig_tradeoff.show()"
   ]
  }
 ],
 "metadata": {
  "kernelspec": {
   "display_name": "base",
   "language": "python",
   "name": "python3"
  },
  "language_info": {
   "codemirror_mode": {
    "name": "ipython",
    "version": 3
   },
   "file_extension": ".py",
   "mimetype": "text/x-python",
   "name": "python",
   "nbconvert_exporter": "python",
   "pygments_lexer": "ipython3",
   "version": "3.12.2"
  }
 },
 "nbformat": 4,
 "nbformat_minor": 5
}
